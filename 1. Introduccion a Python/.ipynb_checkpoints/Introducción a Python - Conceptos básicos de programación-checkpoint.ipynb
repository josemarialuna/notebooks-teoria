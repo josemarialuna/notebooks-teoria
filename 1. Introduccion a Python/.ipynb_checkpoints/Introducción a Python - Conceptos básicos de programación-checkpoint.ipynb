{
 "cells": [
  {
   "cell_type": "markdown",
   "metadata": {},
   "source": [
    "# Una introducción a Python: Conceptos básicos de programación\n",
    "**Autor**: Fermín Cruz.   **Revisores**: José A. Troyano, Carlos G. Vallejo.   **Última modificación:** 26 de septiembre de 2017"
   ]
  },
  {
   "cell_type": "markdown",
   "metadata": {},
   "source": [
    "Este documento está pensado para que comiences a comprender los programas escritos en el lenguaje Python, y a escribir tus primeros programas. No tienes que tener ningún conocimiento previo para entenderlo, aunque algunos de los conceptos son un poco abstractos, por lo que es posible que tengas que leer las explicaciones varias veces, y despacito... No pretendemos profundizar en ninguno de los contenidos que aquí se presentan, sino más bien dar un primer vistazo a lo que te puedes encontrar en un programa escrito en Python. Más adelante, iremos profundizando en cada uno de estos contenidos. \n",
    "\n",
    "\n",
    "Debes ir ejecutando cada una de las celdas de código\\* que vayas encontrado. Para hacer esto, puedes hacer clic en la celda en cuestión y luego en el botón con el icono de \"play\" que aparece en la barra de herramientas; también puedes pulsar las teclas \"Mayúsculas\" y \"Entrar\" al mismo tiempo. Si empiezas en la primera celda, puedes ir usando el mismo icono de \"play\" para ir ejecutando y avanzando a lo largo del notebook. Si \"ejecutas\" una celda como esta, que no contiene código, simplemente pasarás a la siguiente. **Debes ejecutar todas las celdas que contienen código**, si no lo haces es posible que algunos ejemplos de código\\* no funcionen. \n",
    "\n",
    "Los apartados marcados con el título **¡Prueba tú!** están pensados para que escribas pequeños trocitos de código\\*, de manera que compruebes si has comprendido lo que se te acaba de explicar. Es importante que no continúes leyendo hasta que no hayas resuelto lo que se te va pidiendo. Si no consigues resolver alguno de estos apartados, ya sabes: **pide ayuda a tu profesor**.\n",
    "\n",
    "\\* Cuando hablamos de \"código\" nos referimos a un trozo de texto sacado de un programa informático. En inglés, es frecuente usar el término **coding** para referirse al acto de escribir programas informáticos. Por cierto, ¿qué tal andas de inglés? Verás que gran parte de la información que hay que consultar para programar está en inglés, así que es mejor que te vayas acostumbrando...\n",
    "\n",
    "### ¿Empezamos?"
   ]
  },
  {
   "cell_type": "markdown",
   "metadata": {},
   "source": [
    "## 1. Instrucciones y funciones"
   ]
  },
  {
   "cell_type": "markdown",
   "metadata": {
    "nbpresent": {
     "id": "71219fc3-c9cb-4700-9f0b-ab38b1b223da"
    },
    "slideshow": {
     "slide_type": "-"
    }
   },
   "source": [
    "Un programa Python está formado por **instrucciones** (a veces también son llamadas **sentencias**). Cada instrucción se escribe normalmente en una línea. Por ejemplo, la siguiente instrucción sirve para imprimir el mensaje \"Hola, mundo!\" en la pantalla.\n",
    "\n",
    "Para ejecutar la instrucción, haz clic sobre la celda de abajo y luego pulsa el icono de \"play\" (también puedes pulsar las teclas \"Mayúsculas+Entrar\")."
   ]
  },
  {
   "cell_type": "code",
   "execution_count": 1,
   "metadata": {
    "nbpresent": {
     "id": "ae8725fa-30f7-4d7f-a2c2-5f86953d730b"
    }
   },
   "outputs": [
    {
     "name": "stdout",
     "output_type": "stream",
     "text": [
      "Hola, mundo!\n"
     ]
    }
   ],
   "source": [
    "print(\"Hola, mundo!\")"
   ]
  },
  {
   "cell_type": "markdown",
   "metadata": {
    "nbpresent": {
     "id": "86423d42-e808-47e6-b1a7-e925e195f821"
    }
   },
   "source": [
    "Si en un programa hay varias instrucciones, estas se ejecutan secuencialmente, una tras otra."
   ]
  },
  {
   "cell_type": "code",
   "execution_count": 2,
   "metadata": {
    "nbpresent": {
     "id": "d0569bb0-fad8-48b7-8d48-0066bfb90401"
    }
   },
   "outputs": [
    {
     "name": "stdout",
     "output_type": "stream",
     "text": [
      "Hola, mundo!\n",
      "Adiós, mundo!\n"
     ]
    }
   ],
   "source": [
    "print(\"Hola, mundo!\")\n",
    "print(\"Adiós, mundo!\")"
   ]
  },
  {
   "cell_type": "markdown",
   "metadata": {
    "nbpresent": {
     "id": "7adaaf8f-a83e-456b-b99a-d3b3d4cb6d1a"
    }
   },
   "source": [
    "La instrucción que hemos usado en los ejemplos anteriores, **print** (que significa imprimir en inglés), es una **función predefinida** (*built-in function*). Una función puede ser \"llamada\" (también se dice \"invocada\") desde un programa escribiendo su nombre y a continuación unos paréntesis de apertura y cierre. En ocasiones, las funciones reciben **parámetros**, que se escriben en la llamada dentro de los paréntesis, separados por comas si hay más de uno."
   ]
  },
  {
   "cell_type": "markdown",
   "metadata": {},
   "source": [
    "### ¡Prueba tú!"
   ]
  },
  {
   "cell_type": "code",
   "execution_count": 3,
   "metadata": {},
   "outputs": [
    {
     "name": "stdout",
     "output_type": "stream",
     "text": [
      "Fabregas\n"
     ]
    }
   ],
   "source": [
    "# Escribe una llamada a la función print para mostrar algún mensaje en pantalla.\n",
    "print(\"Fabregas\")\n",
    "\n"
   ]
  },
  {
   "cell_type": "markdown",
   "metadata": {},
   "source": [
    "Hay muchas funciones predefinidas, por ejemplo la función **help** nos proporciona ayuda sobre cualquier otra función. "
   ]
  },
  {
   "cell_type": "code",
   "execution_count": 4,
   "metadata": {
    "nbpresent": {
     "id": "998dc7f5-ab6d-4fb8-866f-4fa96a06aaaa"
    }
   },
   "outputs": [
    {
     "name": "stdout",
     "output_type": "stream",
     "text": [
      "Help on built-in function print in module builtins:\n",
      "\n",
      "print(...)\n",
      "    print(value, ..., sep=' ', end='\\n', file=sys.stdout, flush=False)\n",
      "    \n",
      "    Prints the values to a stream, or to sys.stdout by default.\n",
      "    Optional keyword arguments:\n",
      "    file:  a file-like object (stream); defaults to the current sys.stdout.\n",
      "    sep:   string inserted between values, default a space.\n",
      "    end:   string appended after the last value, default a newline.\n",
      "    flush: whether to forcibly flush the stream.\n",
      "\n"
     ]
    }
   ],
   "source": [
    "help(print)   # Nos muestra información de ayuda sobre la función predefinida print"
   ]
  },
  {
   "cell_type": "markdown",
   "metadata": {},
   "source": [
    "Por supuesto, la ayuda está en inglés. Habrá que acostumbrarse, porque la inmensa mayoría de documentación y ayudas que vas a encontrar para programar estará también en inglés..."
   ]
  },
  {
   "cell_type": "markdown",
   "metadata": {},
   "source": [
    "### ¡Prueba tú!"
   ]
  },
  {
   "cell_type": "code",
   "execution_count": 5,
   "metadata": {},
   "outputs": [
    {
     "name": "stdout",
     "output_type": "stream",
     "text": [
      "Help on _Helper in module _sitebuiltins object:\n",
      "\n",
      "class _Helper(builtins.object)\n",
      " |  Define the builtin 'help'.\n",
      " |  \n",
      " |  This is a wrapper around pydoc.help that provides a helpful message\n",
      " |  when 'help' is typed at the Python interactive prompt.\n",
      " |  \n",
      " |  Calling help() at the Python prompt starts an interactive help session.\n",
      " |  Calling help(thing) prints help for the python object 'thing'.\n",
      " |  \n",
      " |  Methods defined here:\n",
      " |  \n",
      " |  __call__(self, *args, **kwds)\n",
      " |      Call self as a function.\n",
      " |  \n",
      " |  __repr__(self)\n",
      " |      Return repr(self).\n",
      " |  \n",
      " |  ----------------------------------------------------------------------\n",
      " |  Data descriptors defined here:\n",
      " |  \n",
      " |  __dict__\n",
      " |      dictionary for instance variables (if defined)\n",
      " |  \n",
      " |  __weakref__\n",
      " |      list of weak references to the object (if defined)\n",
      "\n"
     ]
    }
   ],
   "source": [
    "# Haz que se muestre la ayuda disponible sobre la propia función help\n",
    "help(help)\n",
    "\n"
   ]
  },
  {
   "cell_type": "markdown",
   "metadata": {
    "nbpresent": {
     "id": "829150e0-712b-4739-92d6-37b9c3d789cb"
    }
   },
   "source": [
    "En el ejemplo anterior hemos usado el carácter almohadilla (#) para escribir un **comentario** sobre el código. Los comentarios se usan en los programas para hacer aclaraciones, explicar el funcionamiento y, en general, hacer más fácil de entender nuestros programas. \n",
    "\n",
    "Las funciones anteriores se llaman funciones predefinidas porque ya vienen incluidas \"por defecto\" en Python. Por contra, los programadores pueden **definir** sus propias **funciones**, como se muestra a continuación."
   ]
  },
  {
   "cell_type": "code",
   "execution_count": 6,
   "metadata": {
    "nbpresent": {
     "id": "8dce188c-36b7-41fa-9020-b5cb5502e452"
    }
   },
   "outputs": [],
   "source": [
    "def saluda(nombre):\n",
    "    ''' \n",
    "    Esta función imprime un saludo personalizado con el nombre indicado mediante el parámetro \"nombre\".\n",
    "    '''\n",
    "    print(\"Hola, \" + nombre)"
   ]
  },
  {
   "cell_type": "markdown",
   "metadata": {
    "nbpresent": {
     "id": "35a148d4-f201-4441-bf5e-8a07f93dea84"
    }
   },
   "source": [
    "La función que acabamos de definir se llama *saluda* y recibe un único parámetro. Después de la primera línea (llamada **cabecera** o **prototipo** de la función) vienen una o varias instrucciones (llamadas **cuerpo** de la función), que serán ejecutadas cuando alguien llame a la función. Date cuenta de que las instrucciones que conforman el cuerpo de la función aparecen indentadas, es decir, tienen un tabulador delante. \n",
    "\n",
    "Las primeras líneas del cuerpo de la función, que comienzan y acaban con tres comillas simples, se llaman **comentario de documentación** de la función, y, aunque no son obligatorias, sí es recomendable incluirlas. Cuando alguien llame a la función predefinida *help* para pedir ayuda sobre nuestra función, se mostrará precisamente el texto aquí incluido.\n",
    "\n",
    "Lo que hará la función cuando alguien la llame será mostrar un mensaje de saludo. Hagamos una llamada para probar la función: prueba a escribir tu nombre entre las comillas."
   ]
  },
  {
   "cell_type": "code",
   "execution_count": 7,
   "metadata": {
    "nbpresent": {
     "id": "85d1ab90-cc65-4935-808b-a6f57ecc892e"
    }
   },
   "outputs": [
    {
     "name": "stdout",
     "output_type": "stream",
     "text": [
      "Hola, Fermín\n"
     ]
    }
   ],
   "source": [
    "saluda(\"Fermín\")"
   ]
  },
  {
   "cell_type": "markdown",
   "metadata": {
    "nbpresent": {
     "id": "d99a804c-9444-418b-bc94-3c2f064e2844"
    }
   },
   "source": [
    "Al definir una función conseguimos reutilizar la funcionalidad implementada las veces que queramos, simplemente llamando a la función en las partes del programa en que necesitemos dicha funcionalidad. Por ejemplo, ahora puedo realizar varios saludos, uno tras otro:"
   ]
  },
  {
   "cell_type": "code",
   "execution_count": 8,
   "metadata": {
    "nbpresent": {
     "id": "86172e20-fe16-447d-859f-24a81e563011"
    }
   },
   "outputs": [
    {
     "name": "stdout",
     "output_type": "stream",
     "text": [
      "Hola, John\n",
      "Hola, Paul\n",
      "Hola, George\n",
      "Hola, Ringo\n"
     ]
    }
   ],
   "source": [
    "saluda(\"John\")\n",
    "saluda(\"Paul\")\n",
    "saluda(\"George\")\n",
    "saluda(\"Ringo\")"
   ]
  },
  {
   "cell_type": "markdown",
   "metadata": {},
   "source": [
    "### ¡Prueba tú!"
   ]
  },
  {
   "cell_type": "markdown",
   "metadata": {},
   "source": [
    "Define una función llamada *saluda_educado* que reciba un nombre como parámetro, imprima el mismo saludo personalizado que la función saluda, y a continuación imprima el texto \"Encantado de conocerle\".\n",
    "\n",
    "**¡Truco!:** puedes llamar a la función anterior *saluda* desde el cuerpo de la nueva función *saluda_educado*."
   ]
  },
  {
   "cell_type": "code",
   "execution_count": 11,
   "metadata": {},
   "outputs": [
    {
     "name": "stdout",
     "output_type": "stream",
     "text": [
      "Hola, Jorge\n",
      "Encantado de conocerte\n"
     ]
    }
   ],
   "source": [
    "\n",
    "def saluda_educado(nombre):\n",
    "    saluda(nombre)\n",
    "    print(\"Encantado de conocerte\")\n",
    "\n",
    "saluda_educado(\"Jorge\")"
   ]
  },
  {
   "cell_type": "markdown",
   "metadata": {},
   "source": [
    "## 2. Expresiones y tipos"
   ]
  },
  {
   "cell_type": "markdown",
   "metadata": {
    "nbpresent": {
     "id": "9659b1c1-9aed-4d71-b830-4a60d408ad71"
    }
   },
   "source": [
    "En la instrucción que hemos escrito al definir la función *saluda*:\n",
    "```python \n",
    "print(\"Hola, \" + nombre)\n",
    "```\n",
    "\n",
    "hemos usado un **operador**, el signo +, que sirve para concatenar las dos cadenas de texto: la cadena *\"Hola, \"* y la cadena contenida en el parámetro *nombre*. \n",
    "\n",
    "El uso de operadores es habitual en todos los lenguajes de programación. Llamamos **expresiones** a las instrucciones formadas por operadores (como el +), literales (como la cadena *\"Hola, \"*) y variables (como el parámetro *nombre*) *[bueno, y más participantes que iremos viendo más adelante]*. Una expresión es siempre evaluada por Python, para obtener un resultado, antes de seguir ejecutando el resto de instrucciones del programa. \n",
    "\n",
    "Veamos algunos ejemplos de expresiones utilizando los **operadores aritméticos**. Prueba a cambiar los ejemplos que se muestran para experimentar un poco."
   ]
  },
  {
   "cell_type": "code",
   "execution_count": 12,
   "metadata": {
    "nbpresent": {
     "id": "5a579720-fa62-4525-85e3-dd049cbd73be"
    }
   },
   "outputs": [
    {
     "data": {
      "text/plain": [
       "8"
      ]
     },
     "execution_count": 12,
     "metadata": {},
     "output_type": "execute_result"
    }
   ],
   "source": [
    "3 + 5"
   ]
  },
  {
   "cell_type": "code",
   "execution_count": 13,
   "metadata": {
    "nbpresent": {
     "id": "f6847886-4044-43a7-9edd-f18efddcb7a9"
    }
   },
   "outputs": [
    {
     "data": {
      "text/plain": [
       "43"
      ]
     },
     "execution_count": 13,
     "metadata": {},
     "output_type": "execute_result"
    }
   ],
   "source": [
    "3 + 5 * 8"
   ]
  },
  {
   "cell_type": "code",
   "execution_count": 14,
   "metadata": {
    "nbpresent": {
     "id": "5d433d13-f44a-45bb-91fd-406f60b33b67"
    }
   },
   "outputs": [
    {
     "data": {
      "text/plain": [
       "64"
      ]
     },
     "execution_count": 14,
     "metadata": {},
     "output_type": "execute_result"
    }
   ],
   "source": [
    "(3 + 5) * 8"
   ]
  },
  {
   "cell_type": "code",
   "execution_count": 15,
   "metadata": {},
   "outputs": [
    {
     "data": {
      "text/plain": [
       "4.571428571428571"
      ]
     },
     "execution_count": 15,
     "metadata": {},
     "output_type": "execute_result"
    }
   ],
   "source": [
    "(3 + 5) * 8 / 14"
   ]
  },
  {
   "cell_type": "markdown",
   "metadata": {},
   "source": [
    "### ¡Prueba tú!"
   ]
  },
  {
   "cell_type": "code",
   "execution_count": null,
   "metadata": {
    "collapsed": true
   },
   "outputs": [],
   "source": [
    "# Escribe alguna expresión usando operadores aritméticos. Además de los anteriores tienes los siguientes:\n",
    "# - // % **\n",
    "\n",
    "\n"
   ]
  },
  {
   "cell_type": "markdown",
   "metadata": {},
   "source": [
    "En las expresiones también podemos usar llamadas a funciones, siempre que sean funciones que devuelvan algún resultado. Para que una función devuelva un valor cuando sea invocada, usaremos la instrucción **return** en algún punto del cuerpo de la función (casi siempre, al final del cuerpo de la función). Por ejemplo:"
   ]
  },
  {
   "cell_type": "code",
   "execution_count": 19,
   "metadata": {},
   "outputs": [
    {
     "data": {
      "text/plain": [
       "20"
      ]
     },
     "execution_count": 19,
     "metadata": {},
     "output_type": "execute_result"
    }
   ],
   "source": [
    "def doble(x):\n",
    "    return x * 2\n",
    "\n",
    "doble(10)"
   ]
  },
  {
   "cell_type": "markdown",
   "metadata": {
    "nbpresent": {
     "id": "ee1bdf03-6e13-4f1f-9dc9-22d4e344fdba"
    }
   },
   "source": [
    "A veces necesitamos guardar el resultado de una expresión para utilizarlo más adelante en nuestro programa. Para esto se usan las **variables**. "
   ]
  },
  {
   "cell_type": "code",
   "execution_count": 20,
   "metadata": {
    "nbpresent": {
     "id": "14d1a927-b37f-4323-9404-17d453f3b487"
    }
   },
   "outputs": [
    {
     "name": "stdout",
     "output_type": "stream",
     "text": [
      "25.6\n"
     ]
    }
   ],
   "source": [
    "resultado = (3 + 5) * doble(8)\n",
    "print(resultado / 5)"
   ]
  },
  {
   "cell_type": "markdown",
   "metadata": {
    "nbpresent": {
     "id": "c71a78d7-9d0e-4825-9c84-9998f971317d"
    }
   },
   "source": [
    "Hemos **asignado** a la variable *resultado* el valor de la expresión que hemos escrito a la derecha del carácter igual (=), de manera que más adelante en el programa podremos utilizar ese valor haciendo mención a la variable. A este carácter igual lo llamamos instrucción de **asignación**."
   ]
  },
  {
   "cell_type": "markdown",
   "metadata": {},
   "source": [
    "### ¡Prueba tú!"
   ]
  },
  {
   "cell_type": "markdown",
   "metadata": {},
   "source": [
    "Intenta definir una función de nombre *descuento* que reciba como parámetro un valor y un porcentaje y devuelva el resultado de aplicar el descuento correspondiente al porcentaje sobre el valor indicado."
   ]
  },
  {
   "cell_type": "code",
   "execution_count": 31,
   "metadata": {},
   "outputs": [],
   "source": [
    "# Define aquí la función\n",
    "def descuento(valor,porcentaje):\n",
    "    return valor - valor * (porcentaje / 100)\n"
   ]
  },
  {
   "cell_type": "markdown",
   "metadata": {},
   "source": [
    "Cuando la termines de escribir, puedes ejecutar esta prueba:"
   ]
  },
  {
   "cell_type": "code",
   "execution_count": 32,
   "metadata": {},
   "outputs": [
    {
     "name": "stdout",
     "output_type": "stream",
     "text": [
      "Precio con 10% de descuento: 180.0\n"
     ]
    }
   ],
   "source": [
    "precio = 200\n",
    "print(\"Precio con 10% de descuento:\", descuento(precio, 10))"
   ]
  },
  {
   "cell_type": "markdown",
   "metadata": {},
   "source": [
    "En los ejemplos anteriores, hemos utilizado **literales** de tipo **cadena de caracteres** (por ejemplo, *\"Hola, mundo!\"*) y literales de tipo número **entero** (por ejemplo, *3*, *5* y *8*). Hay más tipos de literales, por ejemplo literales de tipo número **real** o de tipo **lógico**: "
   ]
  },
  {
   "cell_type": "code",
   "execution_count": 33,
   "metadata": {
    "nbpresent": {
     "id": "80be6133-d85a-4e43-9964-6578abcbaaac"
    }
   },
   "outputs": [
    {
     "name": "stdout",
     "output_type": "stream",
     "text": [
      "El área del círculo es 7.0685775\n",
      "¿Es el área superior al umbral? False\n"
     ]
    }
   ],
   "source": [
    "PI = 3.14159\n",
    "radio = 1.5\n",
    "area = PI * radio**2   # El operador ** sirve para calcular potencias\n",
    "print(\"El área del círculo es\", area)\n",
    "\n",
    "umbral = 100.0\n",
    "area_superior_umbral = area > umbral  \n",
    "# El carácter > es un operador relacional, se evalúa como True (verdadero) o False (falso)\n",
    "print(\"¿Es el área superior al umbral?\", area_superior_umbral)"
   ]
  },
  {
   "cell_type": "markdown",
   "metadata": {},
   "source": [
    "## 3. Listas y tuplas"
   ]
  },
  {
   "cell_type": "markdown",
   "metadata": {
    "nbpresent": {
     "id": "9b7597e9-aaa9-4d9f-ba0d-22f43d1a3900"
    }
   },
   "source": [
    "Cuando necesitamos almacenar varios datos en una sola variable, utilizamos literales de tipo **lista**:"
   ]
  },
  {
   "cell_type": "code",
   "execution_count": 34,
   "metadata": {
    "nbpresent": {
     "id": "0281a659-abae-4cb9-b30f-b552b9db399e"
    }
   },
   "outputs": [
    {
     "name": "stdout",
     "output_type": "stream",
     "text": [
      "[28.5, 27.8, 29.5, 32.1, 30.7, 25.5, 26.0]\n"
     ]
    }
   ],
   "source": [
    "temperaturas = [28.5, 27.8, 29.5, 32.1, 30.7, 25.5, 26.0]\n",
    "print(temperaturas)"
   ]
  },
  {
   "cell_type": "code",
   "execution_count": 35,
   "metadata": {},
   "outputs": [
    {
     "name": "stdout",
     "output_type": "stream",
     "text": [
      "['Spiderman', 'Iron Man', 'Lobezno', 'Capitán América', 'Hulk']\n"
     ]
    }
   ],
   "source": [
    "heroes = [\"Spiderman\", \"Iron Man\", \"Lobezno\", \"Capitán América\", \"Hulk\"]\n",
    "print(heroes)"
   ]
  },
  {
   "cell_type": "markdown",
   "metadata": {
    "collapsed": true
   },
   "source": [
    "O, a veces, de tipo **tupla**, que se escriben igual pero usando paréntesis en lugar de corchetes:"
   ]
  },
  {
   "cell_type": "code",
   "execution_count": 36,
   "metadata": {},
   "outputs": [
    {
     "name": "stdout",
     "output_type": "stream",
     "text": [
      "('Mark', 'Lenders')\n"
     ]
    }
   ],
   "source": [
    "usuario = (\"Mark\", \"Lenders\")\n",
    "print(usuario)"
   ]
  },
  {
   "cell_type": "markdown",
   "metadata": {},
   "source": [
    "Ambos, listas y tuplas, se parecen mucho (ya veremos algunas diferencias más adelante). Podemos acceder a un elemento concreto, indicando el **índice** de dicho elemento (es decir, la posición que ocupa dentro de la lista o tupla, contando desde la izquierda):"
   ]
  },
  {
   "cell_type": "code",
   "execution_count": 37,
   "metadata": {},
   "outputs": [
    {
     "data": {
      "text/plain": [
       "28.5"
      ]
     },
     "execution_count": 37,
     "metadata": {},
     "output_type": "execute_result"
    }
   ],
   "source": [
    "temperaturas[0]   # La primera posición corresponde al índice 0"
   ]
  },
  {
   "cell_type": "code",
   "execution_count": 38,
   "metadata": {},
   "outputs": [
    {
     "data": {
      "text/plain": [
       "'Hulk'"
      ]
     },
     "execution_count": 38,
     "metadata": {},
     "output_type": "execute_result"
    }
   ],
   "source": [
    "heroes[4]"
   ]
  },
  {
   "cell_type": "code",
   "execution_count": 39,
   "metadata": {},
   "outputs": [
    {
     "data": {
      "text/plain": [
       "'Lenders'"
      ]
     },
     "execution_count": 39,
     "metadata": {},
     "output_type": "execute_result"
    }
   ],
   "source": [
    "usuario[1]"
   ]
  },
  {
   "cell_type": "code",
   "execution_count": 40,
   "metadata": {},
   "outputs": [
    {
     "name": "stdout",
     "output_type": "stream",
     "text": [
      "[28.5, 27.0, 29.5, 32.1, 30.7, 25.5, 26.0]\n"
     ]
    }
   ],
   "source": [
    "temperaturas[1] = 27.0\n",
    "# Puedo asignar un valor a una posición cualquiera de una lista\n",
    "print(temperaturas)"
   ]
  },
  {
   "cell_type": "code",
   "execution_count": 41,
   "metadata": {},
   "outputs": [
    {
     "name": "stdout",
     "output_type": "stream",
     "text": [
      "[29.0, 27.0, 29.5, 32.1, 30.7, 25.5, 26.0]\n"
     ]
    }
   ],
   "source": [
    "temperaturas[0] = temperaturas[0] + 0.5\n",
    "# Incrementamos en 0.5 grados la primera temperatura de la lista\n",
    "print(temperaturas)"
   ]
  },
  {
   "cell_type": "markdown",
   "metadata": {},
   "source": [
    "También podemos conocer en cualquier momento el número total de elementos dentro de una lista o una tupla mediante la función predefinida **len**:"
   ]
  },
  {
   "cell_type": "code",
   "execution_count": 42,
   "metadata": {},
   "outputs": [
    {
     "data": {
      "text/plain": [
       "7"
      ]
     },
     "execution_count": 42,
     "metadata": {},
     "output_type": "execute_result"
    }
   ],
   "source": [
    "len(temperaturas)"
   ]
  },
  {
   "cell_type": "code",
   "execution_count": 43,
   "metadata": {},
   "outputs": [
    {
     "data": {
      "text/plain": [
       "2"
      ]
     },
     "execution_count": 43,
     "metadata": {},
     "output_type": "execute_result"
    }
   ],
   "source": [
    "len(usuario)"
   ]
  },
  {
   "cell_type": "markdown",
   "metadata": {},
   "source": [
    "---\n",
    "**¡Cuidado!** No podemos asignar valores a las posiciones de una tupla. Prueba a ejecutar este código:"
   ]
  },
  {
   "cell_type": "code",
   "execution_count": 44,
   "metadata": {},
   "outputs": [
    {
     "ename": "TypeError",
     "evalue": "'tuple' object does not support item assignment",
     "output_type": "error",
     "traceback": [
      "\u001b[1;31m---------------------------------------------------------------------------\u001b[0m",
      "\u001b[1;31mTypeError\u001b[0m                                 Traceback (most recent call last)",
      "\u001b[1;32m<ipython-input-44-4064d3d57ed0>\u001b[0m in \u001b[0;36m<module>\u001b[1;34m()\u001b[0m\n\u001b[1;32m----> 1\u001b[1;33m \u001b[0musuario\u001b[0m\u001b[1;33m[\u001b[0m\u001b[1;36m0\u001b[0m\u001b[1;33m]\u001b[0m \u001b[1;33m=\u001b[0m \u001b[1;34m\"Marcos\"\u001b[0m \u001b[1;31m# Cambiemos el nombre del usuario\u001b[0m\u001b[1;33m\u001b[0m\u001b[0m\n\u001b[0m",
      "\u001b[1;31mTypeError\u001b[0m: 'tuple' object does not support item assignment"
     ]
    }
   ],
   "source": [
    "usuario[0] = \"Marcos\" # Cambiemos el nombre del usuario"
   ]
  },
  {
   "cell_type": "markdown",
   "metadata": {},
   "source": [
    "Decimos que las tuplas son un **tipo inmutable**, lo que significa que una vez que hemos guardado un valor en una variable de este tipo, ¡ya no podremos cambiarlo!\n",
    "\n",
    "Lo que acaba de ocurrir es un **error en tiempo de ejecución**. Estos errores ocurren frecuentemente mientras estamos escribiendo y probando nuestros programas, y significan que no hemos hecho algo de la manera correcta. Cuando se produce uno de estos errores, el programa deja de ejecutarse. Cuando nuestro programa esté acabado y bien probado, no debería ocurrir ninguno de estos errores... Aunque ocasionalmente ocurre. Seguro que te suena esta ventana:\n",
    "\n",
    "![title](img001.png)\n"
   ]
  },
  {
   "cell_type": "markdown",
   "metadata": {},
   "source": [
    "### ¡Prueba tú!"
   ]
  },
  {
   "cell_type": "markdown",
   "metadata": {},
   "source": [
    "Los elementos de la lista *temperaturas* son números reales. Pero una lista puede contener elementos del tipo que quieras. Intenta definir una lista *usuarios*, en la que cada elemento sea una tupla *(nombre, apellido)*, como la tupla *usuario* que hemos definido anteriormente. Aquí tienes algunos pares nombre-apellido que puedes meter en la lista:\n",
    "* Mark Lenders\n",
    "* Oliver Atom\n",
    "* Benji Price"
   ]
  },
  {
   "cell_type": "code",
   "execution_count": 46,
   "metadata": {},
   "outputs": [
    {
     "data": {
      "text/plain": [
       "('Benji', 'Price')"
      ]
     },
     "execution_count": 46,
     "metadata": {},
     "output_type": "execute_result"
    }
   ],
   "source": [
    "# Completa la instrucción siguiente:\n",
    "usuarios = [(\"Mark\",\"Lenders\"),(\"Oliver\",\"Atom\"),(\"Benji\",\"Price\")]\n",
    "\n",
    "usuarios[2]"
   ]
  },
  {
   "cell_type": "markdown",
   "metadata": {},
   "source": [
    "## 4. Diccionarios\n",
    "\n",
    "Existen más tipos como las listas y las tuplas, que permiten almacenar conjuntos de datos. Uno muy utilizado es el **diccionario**. En un diccionario, cada valor almacenado se asocia a una clave, de manera que para acceder a los **valores** se utilizan dichas **claves** (de forma parecida a como para acceder a los valores de una lista se utilizan los índices).\n"
   ]
  },
  {
   "cell_type": "markdown",
   "metadata": {},
   "source": [
    "Puedes pensar en un diccionario como si se tratara de una tabla con dos columnas. Por ejemplo, un diccionario podría almacenar las temperaturas medias de las capitales andaluzas, indexando dichos valores mediante los nombres de las capitales:\n",
    "\n",
    "|Clave|Valor|\n",
    "|---|---|\n",
    "|\"Almería\"|19.9|\n",
    "|\"Cádiz\"| 19.1|\n",
    "|\"Córdoba\"| 19.1|\n",
    "|\"Granada\"|16.6|\n",
    "|\"Jaén\"|18.2|\n",
    "|\"Huelva\"|19.0|\n",
    "|\"Málaga\"|19.8|\n",
    "|\"Sevilla\"|20.0|\n",
    "\n",
    "Lo cual se escribiría en Python de la siguiente manera:"
   ]
  },
  {
   "cell_type": "code",
   "execution_count": 47,
   "metadata": {},
   "outputs": [
    {
     "name": "stdout",
     "output_type": "stream",
     "text": [
      "{'Almería': 19.9, 'Cádiz': 19.1, 'Córdoba': 19.1, 'Granada': 16.6, 'Jaén': 18.2, 'Huelva': 19.0, 'Málaga': 19.8, 'Sevilla': 20.0}\n"
     ]
    }
   ],
   "source": [
    "temperaturaMedia = {\"Almería\": 19.9, \"Cádiz\": 19.1, \"Córdoba\": 19.1, \"Granada\": 16.6, \n",
    "                    \"Jaén\": 18.2, \"Huelva\": 19.0, \"Málaga\": 19.8, \"Sevilla\": 20.0}\n",
    "print(temperaturaMedia)"
   ]
  },
  {
   "cell_type": "markdown",
   "metadata": {},
   "source": [
    "Ahora podemos trabajar con los datos del diccionario de forma parecida a las listas, aunque usando las claves para acceder a los valores, en lugar de los índices."
   ]
  },
  {
   "cell_type": "code",
   "execution_count": 48,
   "metadata": {},
   "outputs": [
    {
     "name": "stdout",
     "output_type": "stream",
     "text": [
      "Temperatura anterior: 20.0\n",
      "Temperatura actual: 21.0\n"
     ]
    }
   ],
   "source": [
    "print(\"Temperatura anterior:\", temperaturaMedia['Sevilla'])\n",
    "temperaturaMedia['Sevilla'] += 1.0   # ¡Cambio climático!\n",
    "print(\"Temperatura actual:\", temperaturaMedia['Sevilla'])"
   ]
  },
  {
   "cell_type": "markdown",
   "metadata": {},
   "source": [
    "### ¡Prueba tú!\n",
    "\n",
    "Intenta definir un diccionario en el que las claves sean los usuarios que definiste en el ejercicio anterior, y los valores asociados sean las claves de acceso a un sistema."
   ]
  },
  {
   "cell_type": "code",
   "execution_count": 50,
   "metadata": {},
   "outputs": [
    {
     "name": "stdout",
     "output_type": "stream",
     "text": [
      "NewTeam\n"
     ]
    }
   ],
   "source": [
    "# Completa la instrucción siguiente:\n",
    "claves = {\"Oliver Atom\": \"NewTeam\",\"Benji Price\": \"NewTeam\", \"Mark Lenders\": \"Mapped\"}\n",
    "\n",
    "print(claves[\"Oliver Atom\"])"
   ]
  },
  {
   "cell_type": "markdown",
   "metadata": {},
   "source": [
    "## 5. Objetos"
   ]
  },
  {
   "cell_type": "markdown",
   "metadata": {},
   "source": [
    "Si queremos añadir un elemento a la lista *temperaturas*, podemos hacerlo así:"
   ]
  },
  {
   "cell_type": "code",
   "execution_count": 51,
   "metadata": {},
   "outputs": [
    {
     "name": "stdout",
     "output_type": "stream",
     "text": [
      "[29.0, 27.0, 29.5, 32.1, 30.7, 25.5, 26.0, 29.2]\n",
      "8\n"
     ]
    }
   ],
   "source": [
    "temperaturas.append(29.2)  # añade el valor 29.2 al final de la lista\n",
    "print(temperaturas)\n",
    "print(len(temperaturas))"
   ]
  },
  {
   "cell_type": "markdown",
   "metadata": {},
   "source": [
    "Cuando una variable (*temperaturas*) puede ser usada como en el ejemplo anterior, escribiendo un punto (.) y a continuación invocando a una función (*append*), decimos que la variable es un **objeto**, y a la función en cuestión la llamamos **método**. La principal diferencia entre un método y una función es que el primero sólo se puede llamar si tenemos previamente un objeto del tipo adecuado. Por ejemplo, el método *append* sólo puede ser invocado sobre un objeto de tipo lista. \n",
    "\n",
    "Intentemos llamar a *append* como si fuese una función:"
   ]
  },
  {
   "cell_type": "code",
   "execution_count": 52,
   "metadata": {},
   "outputs": [
    {
     "ename": "NameError",
     "evalue": "name 'append' is not defined",
     "output_type": "error",
     "traceback": [
      "\u001b[1;31m---------------------------------------------------------------------------\u001b[0m",
      "\u001b[1;31mNameError\u001b[0m                                 Traceback (most recent call last)",
      "\u001b[1;32m<ipython-input-52-7a2cbbc23a19>\u001b[0m in \u001b[0;36m<module>\u001b[1;34m()\u001b[0m\n\u001b[1;32m----> 1\u001b[1;33m \u001b[0mappend\u001b[0m\u001b[1;33m(\u001b[0m\u001b[1;36m29.2\u001b[0m\u001b[1;33m)\u001b[0m\u001b[1;33m\u001b[0m\u001b[0m\n\u001b[0m",
      "\u001b[1;31mNameError\u001b[0m: name 'append' is not defined"
     ]
    }
   ],
   "source": [
    "append(29.2)"
   ]
  },
  {
   "cell_type": "markdown",
   "metadata": {},
   "source": [
    "Puedes ver todos los métodos que tiene un objeto mediante la función predefinida **dir**:"
   ]
  },
  {
   "cell_type": "code",
   "execution_count": 53,
   "metadata": {},
   "outputs": [
    {
     "data": {
      "text/plain": [
       "['__add__',\n",
       " '__class__',\n",
       " '__contains__',\n",
       " '__delattr__',\n",
       " '__delitem__',\n",
       " '__dir__',\n",
       " '__doc__',\n",
       " '__eq__',\n",
       " '__format__',\n",
       " '__ge__',\n",
       " '__getattribute__',\n",
       " '__getitem__',\n",
       " '__gt__',\n",
       " '__hash__',\n",
       " '__iadd__',\n",
       " '__imul__',\n",
       " '__init__',\n",
       " '__init_subclass__',\n",
       " '__iter__',\n",
       " '__le__',\n",
       " '__len__',\n",
       " '__lt__',\n",
       " '__mul__',\n",
       " '__ne__',\n",
       " '__new__',\n",
       " '__reduce__',\n",
       " '__reduce_ex__',\n",
       " '__repr__',\n",
       " '__reversed__',\n",
       " '__rmul__',\n",
       " '__setattr__',\n",
       " '__setitem__',\n",
       " '__sizeof__',\n",
       " '__str__',\n",
       " '__subclasshook__',\n",
       " 'append',\n",
       " 'clear',\n",
       " 'copy',\n",
       " 'count',\n",
       " 'extend',\n",
       " 'index',\n",
       " 'insert',\n",
       " 'pop',\n",
       " 'remove',\n",
       " 'reverse',\n",
       " 'sort']"
      ]
     },
     "execution_count": 53,
     "metadata": {},
     "output_type": "execute_result"
    }
   ],
   "source": [
    "dir(temperaturas)"
   ]
  },
  {
   "cell_type": "markdown",
   "metadata": {},
   "source": [
    "Y si quieres una descripción más detallada de cada método, puedes usar la función **help**, que ya hemos usado anteriormente."
   ]
  },
  {
   "cell_type": "code",
   "execution_count": 54,
   "metadata": {},
   "outputs": [
    {
     "name": "stdout",
     "output_type": "stream",
     "text": [
      "Help on list object:\n",
      "\n",
      "class list(object)\n",
      " |  list() -> new empty list\n",
      " |  list(iterable) -> new list initialized from iterable's items\n",
      " |  \n",
      " |  Methods defined here:\n",
      " |  \n",
      " |  __add__(self, value, /)\n",
      " |      Return self+value.\n",
      " |  \n",
      " |  __contains__(self, key, /)\n",
      " |      Return key in self.\n",
      " |  \n",
      " |  __delitem__(self, key, /)\n",
      " |      Delete self[key].\n",
      " |  \n",
      " |  __eq__(self, value, /)\n",
      " |      Return self==value.\n",
      " |  \n",
      " |  __ge__(self, value, /)\n",
      " |      Return self>=value.\n",
      " |  \n",
      " |  __getattribute__(self, name, /)\n",
      " |      Return getattr(self, name).\n",
      " |  \n",
      " |  __getitem__(...)\n",
      " |      x.__getitem__(y) <==> x[y]\n",
      " |  \n",
      " |  __gt__(self, value, /)\n",
      " |      Return self>value.\n",
      " |  \n",
      " |  __iadd__(self, value, /)\n",
      " |      Implement self+=value.\n",
      " |  \n",
      " |  __imul__(self, value, /)\n",
      " |      Implement self*=value.\n",
      " |  \n",
      " |  __init__(self, /, *args, **kwargs)\n",
      " |      Initialize self.  See help(type(self)) for accurate signature.\n",
      " |  \n",
      " |  __iter__(self, /)\n",
      " |      Implement iter(self).\n",
      " |  \n",
      " |  __le__(self, value, /)\n",
      " |      Return self<=value.\n",
      " |  \n",
      " |  __len__(self, /)\n",
      " |      Return len(self).\n",
      " |  \n",
      " |  __lt__(self, value, /)\n",
      " |      Return self<value.\n",
      " |  \n",
      " |  __mul__(self, value, /)\n",
      " |      Return self*value.n\n",
      " |  \n",
      " |  __ne__(self, value, /)\n",
      " |      Return self!=value.\n",
      " |  \n",
      " |  __new__(*args, **kwargs) from builtins.type\n",
      " |      Create and return a new object.  See help(type) for accurate signature.\n",
      " |  \n",
      " |  __repr__(self, /)\n",
      " |      Return repr(self).\n",
      " |  \n",
      " |  __reversed__(...)\n",
      " |      L.__reversed__() -- return a reverse iterator over the list\n",
      " |  \n",
      " |  __rmul__(self, value, /)\n",
      " |      Return self*value.\n",
      " |  \n",
      " |  __setitem__(self, key, value, /)\n",
      " |      Set self[key] to value.\n",
      " |  \n",
      " |  __sizeof__(...)\n",
      " |      L.__sizeof__() -- size of L in memory, in bytes\n",
      " |  \n",
      " |  append(...)\n",
      " |      L.append(object) -> None -- append object to end\n",
      " |  \n",
      " |  clear(...)\n",
      " |      L.clear() -> None -- remove all items from L\n",
      " |  \n",
      " |  copy(...)\n",
      " |      L.copy() -> list -- a shallow copy of L\n",
      " |  \n",
      " |  count(...)\n",
      " |      L.count(value) -> integer -- return number of occurrences of value\n",
      " |  \n",
      " |  extend(...)\n",
      " |      L.extend(iterable) -> None -- extend list by appending elements from the iterable\n",
      " |  \n",
      " |  index(...)\n",
      " |      L.index(value, [start, [stop]]) -> integer -- return first index of value.\n",
      " |      Raises ValueError if the value is not present.\n",
      " |  \n",
      " |  insert(...)\n",
      " |      L.insert(index, object) -- insert object before index\n",
      " |  \n",
      " |  pop(...)\n",
      " |      L.pop([index]) -> item -- remove and return item at index (default last).\n",
      " |      Raises IndexError if list is empty or index is out of range.\n",
      " |  \n",
      " |  remove(...)\n",
      " |      L.remove(value) -> None -- remove first occurrence of value.\n",
      " |      Raises ValueError if the value is not present.\n",
      " |  \n",
      " |  reverse(...)\n",
      " |      L.reverse() -- reverse *IN PLACE*\n",
      " |  \n",
      " |  sort(...)\n",
      " |      L.sort(key=None, reverse=False) -> None -- stable sort *IN PLACE*\n",
      " |  \n",
      " |  ----------------------------------------------------------------------\n",
      " |  Data and other attributes defined here:\n",
      " |  \n",
      " |  __hash__ = None\n",
      "\n"
     ]
    }
   ],
   "source": [
    "help(temperaturas)"
   ]
  },
  {
   "cell_type": "markdown",
   "metadata": {},
   "source": [
    "### ¡Prueba tú!"
   ]
  },
  {
   "cell_type": "markdown",
   "metadata": {},
   "source": [
    "Intenta utilizar algunos de los métodos del objeto *temperaturas*:"
   ]
  },
  {
   "cell_type": "code",
   "execution_count": 62,
   "metadata": {},
   "outputs": [
    {
     "name": "stdout",
     "output_type": "stream",
     "text": [
      "[32.1, 30.7, 29.5, 29.2, 29.0, 27.0, 26.0, 25.5]\n"
     ]
    }
   ],
   "source": [
    "temperaturas.sort(reverse=True)\n",
    "\n",
    "print(temperaturas)"
   ]
  },
  {
   "cell_type": "markdown",
   "metadata": {},
   "source": [
    "## 6. Control del flujo de ejecución"
   ]
  },
  {
   "cell_type": "markdown",
   "metadata": {},
   "source": [
    "Podemos utilizar la instrucción **for** para recorrer los elementos de una lista o una tupla. Llamamos a esto un **bucle**."
   ]
  },
  {
   "cell_type": "code",
   "execution_count": 63,
   "metadata": {},
   "outputs": [
    {
     "name": "stdout",
     "output_type": "stream",
     "text": [
      "Temperatura: 32.1\n",
      "Temperatura: 30.7\n",
      "Temperatura: 29.5\n",
      "Temperatura: 29.2\n",
      "Temperatura: 29.0\n",
      "Temperatura: 27.0\n",
      "Temperatura: 26.0\n",
      "Temperatura: 25.5\n"
     ]
    }
   ],
   "source": [
    "for temperatura in temperaturas:    # Se puede leer así: para cada valor \"temperatura\" en la lista \"temperaturas\"\n",
    "    print(\"Temperatura:\", temperatura)"
   ]
  },
  {
   "cell_type": "markdown",
   "metadata": {},
   "source": [
    "En el código anterior, la instrucción que aparece indentada se ejecuta una vez para cada elemento de la lista *temperaturas*. En cada ejecución, la variable *temperatura* almacena un elemento distinto de la lista, comenzando por el primero y pasando por cada elemento secuencialmente. Date cuenta también de que la función predefinida *print* se puede usar con varios parámetros, en cuyo caso mostrará cada uno de ellos por pantalla.\n",
    "\n",
    "Veamos otro ejemplo de bucle:"
   ]
  },
  {
   "cell_type": "code",
   "execution_count": 64,
   "metadata": {},
   "outputs": [
    {
     "name": "stdout",
     "output_type": "stream",
     "text": [
      "La temperatura media en la semana ha sido 28.625 grados.\n"
     ]
    }
   ],
   "source": [
    "suma = 0\n",
    "for temperatura in temperaturas:\n",
    "    suma += temperatura\n",
    "    # El operador += almacena en \"suma\" el resultado de sumar \"temperatura\" al valor anterior de \"suma\"\n",
    "print(\"La temperatura media en la semana ha sido\", suma / len(temperaturas), \"grados.\")"
   ]
  },
  {
   "cell_type": "markdown",
   "metadata": {},
   "source": [
    "Aunque realmente no hace falta hacer un bucle para sumar los elementos de una lista, ya que esto mismo podemos hacerlo en Python con la función predefinida **sum**."
   ]
  },
  {
   "cell_type": "code",
   "execution_count": 65,
   "metadata": {},
   "outputs": [
    {
     "name": "stdout",
     "output_type": "stream",
     "text": [
      "La temperatura media en la semana ha sido 28.625 grados.\n"
     ]
    }
   ],
   "source": [
    "print(\"La temperatura media en la semana ha sido\", sum(temperaturas) / len(temperaturas), \"grados.\")"
   ]
  },
  {
   "cell_type": "markdown",
   "metadata": {},
   "source": [
    "La instrucción *for* es una instrucción de **control del flujo de ejecución**, pues permite que la secuencia en que se van ejecutando las distintas instrucciones varíe con respecto a la ejecución esperada (recordemos que, por defecto, las instrucciones se van ejecutando una tras otra, en el orden en que las hemos escrito, y una sola vez). Otra instrucción que también altera el flujo normal de ejecución es la instrucción **if**. Veamos un ejemplo:"
   ]
  },
  {
   "cell_type": "code",
   "execution_count": 66,
   "metadata": {},
   "outputs": [
    {
     "name": "stdout",
     "output_type": "stream",
     "text": [
      "Buenos días, Fermín\n",
      "Buenas tardes, Fermín\n",
      "Buenas noches, Fermín\n"
     ]
    }
   ],
   "source": [
    "def saluda(nombre, hora):\n",
    "    if hora < 12:     # Si el parámetro \"hora\" es menor de 12, se ejecuta el siguiente bloque de instrucciones\n",
    "        print(\"Buenos días, \" + nombre)\n",
    "    elif hora < 21:   # En otro caso, si el parámetro \"hora\" es menor de 21, se ejecuta el siguiente bloque de instrucciones\n",
    "        print(\"Buenas tardes, \" + nombre)\n",
    "    else:           # En cualquier otro caso, se ejecuta el siguiente bloque de instrucciones\n",
    "        print(\"Buenas noches, \" + nombre)\n",
    "\n",
    "saluda(\"Fermín\", 11)\n",
    "saluda(\"Fermín\", 16)\n",
    "saluda(\"Fermín\", 23)\n"
   ]
  },
  {
   "cell_type": "markdown",
   "metadata": {},
   "source": [
    "Observa que las **palabras clave** que se usan son **if**, **elif** y **else**, y que a continuación de las dos primeras se escribe una expresión lógica (es decir, una expresión cuyo resultado es de tipo lógico: verdadero o falso). Las instrucciones que aparecen tras la palabra **if** sólo se ejecutan si la expresión correspondiente se evalúa como verdadera. Las instrucciones que aparecen tras la palabra **elif** sólo se ejecutan si no se han ejecutado las anteriores, y si la expresión correspondiente se evalúa como verdadera. Las instrucciones que aparecen tras la palabra **else** sólo se ejecutan si no se han ejecutado ninguna de las anteriores. \n",
    "\n",
    "Aquí tienes otros ejemplos:"
   ]
  },
  {
   "cell_type": "code",
   "execution_count": 69,
   "metadata": {},
   "outputs": [],
   "source": [
    "temperaturaActual = temperaturas[6]\n",
    "if temperaturaActual < 0:  # Si la temperatura es menor de cero grados\n",
    "    print(\"¡Cuidado! Riesgo de congelación.\")\n"
   ]
  },
  {
   "cell_type": "code",
   "execution_count": 70,
   "metadata": {},
   "outputs": [
    {
     "name": "stdout",
     "output_type": "stream",
     "text": [
      "Hola, Mark. Te estaba esperando.\n"
     ]
    }
   ],
   "source": [
    "# Si el primer elemento de la tupla \"usuario\" es igual a \"Mark\" y el segundo elemento es igual a \"Lenders\"\n",
    "if usuario[0] == \"Mark\" and usuario[1] == \"Lenders\": \n",
    "    print(\"Hola, Mark. Te estaba esperando.\")\n",
    "else:  # En otro caso\n",
    "    print(\"Hola, ¿nos conocemos?\")\n"
   ]
  },
  {
   "cell_type": "code",
   "execution_count": 72,
   "metadata": {},
   "outputs": [],
   "source": [
    "def acceso_restringido(usuario):\n",
    "    if usuario[0] == \"Mark\" and usuario[1] == \"Lenders\": \n",
    "        print(\"Hola, Mark. Te estaba esperando.\")\n",
    "    elif usuario[0] == \"Oliver\" and usuario[1] == \"Atom\": \n",
    "        print(\"Hola, Oliver. Te estaba esperando.\")\n",
    "    elif usuario[0] == \"Benji\" and usuario[1] == \"Price\": \n",
    "        print(\"Hola, Benji. Te estaba esperando.\")\n",
    "    else:  \n",
    "        print(\"Hola, ¿nos conocemos?\")\n"
   ]
  },
  {
   "cell_type": "markdown",
   "metadata": {},
   "source": [
    "Para escribir las expresiones lógicas se usan distintos **operadores lógicos** (como el operador **and**) y **operadores relacionales** (como los operadores **>** o **==**). Iremos viendo más operadores de estos tipos a medida que los vayamos necesitando."
   ]
  },
  {
   "cell_type": "markdown",
   "metadata": {},
   "source": [
    "### ¡Prueba tú!"
   ]
  },
  {
   "cell_type": "markdown",
   "metadata": {},
   "source": [
    "Escribe un bucle *for* para llamar a la función *acceso_restringido* pasándole cada uno de los elementos de la lista *usuarios*."
   ]
  },
  {
   "cell_type": "code",
   "execution_count": 73,
   "metadata": {},
   "outputs": [
    {
     "name": "stdout",
     "output_type": "stream",
     "text": [
      "Hola, Mark. Te estaba esperando.\n",
      "Hola, Oliver. Te estaba esperando.\n",
      "Hola, Benji. Te estaba esperando.\n"
     ]
    }
   ],
   "source": [
    "for usuario in usuarios:\n",
    "    acceso_restringido(usuario)\n",
    "    \n",
    "\n"
   ]
  },
  {
   "cell_type": "markdown",
   "metadata": {},
   "source": [
    "## 7. Módulos y paquetes"
   ]
  },
  {
   "cell_type": "markdown",
   "metadata": {},
   "source": [
    "Además de las funciones predefinidas, hay muchas otras cosas que se pueden hacer con Python sin necesidad de implementar nosotros ninguna función ni tener que descargar o instalar nada en el ordenador. Eso sí, para poder hacer uso de estas funcionalidades incluidas en Python, es necesario **importar** el módulo o módulos donde están implementadas. Un **módulo** es cada uno de los ficheros con extensión .py en los que están escritos los programas en Python. Los módulos están agrupados en **paquetes**, que son parecidos a las carpetas del explorador de archivos de Windows.\n",
    "\n",
    "Por ejemplo, si queremos generar números aleatorios, podemos usar el módulo **random**. Antes de hacerlo, es necesario importarlo. Prueba a ejecutar varias veces el siguiente código y verás como cada vez se genera un número distinto:"
   ]
  },
  {
   "cell_type": "code",
   "execution_count": 79,
   "metadata": {},
   "outputs": [
    {
     "name": "stdout",
     "output_type": "stream",
     "text": [
      "3\n"
     ]
    }
   ],
   "source": [
    "import random\n",
    "\n",
    "print(random.randint(1, 10))"
   ]
  },
  {
   "cell_type": "markdown",
   "metadata": {},
   "source": [
    "Fíjate que para llamar a la función randint, que está definida dentro del módulo random, debemos escribir *random.randint(...)*. Si vamos a usar muy a menudo la función en nuestro código, también podemos importarla así:"
   ]
  },
  {
   "cell_type": "code",
   "execution_count": 80,
   "metadata": {},
   "outputs": [
    {
     "name": "stdout",
     "output_type": "stream",
     "text": [
      "7\n"
     ]
    }
   ],
   "source": [
    "from random import randint\n",
    "\n",
    "print(randint(1, 10))"
   ]
  },
  {
   "cell_type": "markdown",
   "metadata": {},
   "source": [
    "De esta manera ya no es necesario indicar la ubicación de la función cada vez que la llamemos. Aunque es más cómodo, no es del todo recomendable, como veremos más adelante.\n",
    "\n",
    "¿Y si queremos generar, pongamos, 20 números aleatorios, entre 1 y 10? Podemos hacerlo con la instrucción **for**, la misma que utilizamos antes para recorrer los elementos de una lista:"
   ]
  },
  {
   "cell_type": "code",
   "execution_count": 81,
   "metadata": {},
   "outputs": [
    {
     "name": "stdout",
     "output_type": "stream",
     "text": [
      "[3, 10, 9, 6, 5, 4, 2, 1, 4, 8, 9, 4, 1, 4, 9, 6, 4, 9, 2, 4]\n"
     ]
    }
   ],
   "source": [
    "numeros = []\n",
    "for i in range(20):  # la función predefinida \"range\" devuelve los números enteros del 0 al 19.\n",
    "    numeros.append(randint(1, 10))\n",
    "print(numeros)"
   ]
  },
  {
   "cell_type": "markdown",
   "metadata": {},
   "source": [
    "En el siguiente ejemplo, usamos el módulo *datetime*, que nos permite, entre otras cosas, saber la hora actual en que se está ejecutando el programa."
   ]
  },
  {
   "cell_type": "code",
   "execution_count": 83,
   "metadata": {},
   "outputs": [
    {
     "name": "stdout",
     "output_type": "stream",
     "text": [
      "Buenas tardes, Fermín\n"
     ]
    }
   ],
   "source": [
    "# El módulo se llama \"datetime\", y dentro hay definido un objeto que también se llama \"datetime\"\n",
    "from datetime import datetime\n",
    "horaActual = datetime.now()  # El método now() devuelve un objeto de tipo datetime\n",
    "# El objeto horaActual tiene un atributo hour que indica la hora actual (de 0 a 23)\n",
    "saluda(\"Fermín\", horaActual.hour)"
   ]
  },
  {
   "cell_type": "markdown",
   "metadata": {},
   "source": [
    "En el ejemplo anterior, cuando escribimos *horaActual.hour* estamos accediendo a un **atributo**, llamado *hour*, del objeto *horaActual*. Por tanto, los objetos tienen, además de métodos, atributos, los cuales son parecidos a las variables (al igual que los métodos eran parecidos a las funciones). La manera de diferenciar si estamos accediendo a un atributo o llamando a un método es que en el segundo caso usamos los paréntesis."
   ]
  },
  {
   "cell_type": "markdown",
   "metadata": {},
   "source": [
    "Con los distintos módulos existentes para Python se puede hacer prácticamente de todo. Por ejemplo, dibujar gráficas de todo tipo, mediante la librería **matplotlib**. Cuando hablamos de una **librería** nos referimos a un conjunto de módulos relacionados entre sí por el tipo de funcionalidad que ofrecen. Generalmente, los módulos de una librería están agrupados dentro de un paquete, como es el caso de *matplotlib*."
   ]
  },
  {
   "cell_type": "code",
   "execution_count": 92,
   "metadata": {
    "scrolled": false
   },
   "outputs": [
    {
     "data": {
      "application/javascript": [
       "/* Put everything inside the global mpl namespace */\n",
       "window.mpl = {};\n",
       "\n",
       "\n",
       "mpl.get_websocket_type = function() {\n",
       "    if (typeof(WebSocket) !== 'undefined') {\n",
       "        return WebSocket;\n",
       "    } else if (typeof(MozWebSocket) !== 'undefined') {\n",
       "        return MozWebSocket;\n",
       "    } else {\n",
       "        alert('Your browser does not have WebSocket support.' +\n",
       "              'Please try Chrome, Safari or Firefox ≥ 6. ' +\n",
       "              'Firefox 4 and 5 are also supported but you ' +\n",
       "              'have to enable WebSockets in about:config.');\n",
       "    };\n",
       "}\n",
       "\n",
       "mpl.figure = function(figure_id, websocket, ondownload, parent_element) {\n",
       "    this.id = figure_id;\n",
       "\n",
       "    this.ws = websocket;\n",
       "\n",
       "    this.supports_binary = (this.ws.binaryType != undefined);\n",
       "\n",
       "    if (!this.supports_binary) {\n",
       "        var warnings = document.getElementById(\"mpl-warnings\");\n",
       "        if (warnings) {\n",
       "            warnings.style.display = 'block';\n",
       "            warnings.textContent = (\n",
       "                \"This browser does not support binary websocket messages. \" +\n",
       "                    \"Performance may be slow.\");\n",
       "        }\n",
       "    }\n",
       "\n",
       "    this.imageObj = new Image();\n",
       "\n",
       "    this.context = undefined;\n",
       "    this.message = undefined;\n",
       "    this.canvas = undefined;\n",
       "    this.rubberband_canvas = undefined;\n",
       "    this.rubberband_context = undefined;\n",
       "    this.format_dropdown = undefined;\n",
       "\n",
       "    this.image_mode = 'full';\n",
       "\n",
       "    this.root = $('<div/>');\n",
       "    this._root_extra_style(this.root)\n",
       "    this.root.attr('style', 'display: inline-block');\n",
       "\n",
       "    $(parent_element).append(this.root);\n",
       "\n",
       "    this._init_header(this);\n",
       "    this._init_canvas(this);\n",
       "    this._init_toolbar(this);\n",
       "\n",
       "    var fig = this;\n",
       "\n",
       "    this.waiting = false;\n",
       "\n",
       "    this.ws.onopen =  function () {\n",
       "            fig.send_message(\"supports_binary\", {value: fig.supports_binary});\n",
       "            fig.send_message(\"send_image_mode\", {});\n",
       "            if (mpl.ratio != 1) {\n",
       "                fig.send_message(\"set_dpi_ratio\", {'dpi_ratio': mpl.ratio});\n",
       "            }\n",
       "            fig.send_message(\"refresh\", {});\n",
       "        }\n",
       "\n",
       "    this.imageObj.onload = function() {\n",
       "            if (fig.image_mode == 'full') {\n",
       "                // Full images could contain transparency (where diff images\n",
       "                // almost always do), so we need to clear the canvas so that\n",
       "                // there is no ghosting.\n",
       "                fig.context.clearRect(0, 0, fig.canvas.width, fig.canvas.height);\n",
       "            }\n",
       "            fig.context.drawImage(fig.imageObj, 0, 0);\n",
       "        };\n",
       "\n",
       "    this.imageObj.onunload = function() {\n",
       "        fig.ws.close();\n",
       "    }\n",
       "\n",
       "    this.ws.onmessage = this._make_on_message_function(this);\n",
       "\n",
       "    this.ondownload = ondownload;\n",
       "}\n",
       "\n",
       "mpl.figure.prototype._init_header = function() {\n",
       "    var titlebar = $(\n",
       "        '<div class=\"ui-dialog-titlebar ui-widget-header ui-corner-all ' +\n",
       "        'ui-helper-clearfix\"/>');\n",
       "    var titletext = $(\n",
       "        '<div class=\"ui-dialog-title\" style=\"width: 100%; ' +\n",
       "        'text-align: center; padding: 3px;\"/>');\n",
       "    titlebar.append(titletext)\n",
       "    this.root.append(titlebar);\n",
       "    this.header = titletext[0];\n",
       "}\n",
       "\n",
       "\n",
       "\n",
       "mpl.figure.prototype._canvas_extra_style = function(canvas_div) {\n",
       "\n",
       "}\n",
       "\n",
       "\n",
       "mpl.figure.prototype._root_extra_style = function(canvas_div) {\n",
       "\n",
       "}\n",
       "\n",
       "mpl.figure.prototype._init_canvas = function() {\n",
       "    var fig = this;\n",
       "\n",
       "    var canvas_div = $('<div/>');\n",
       "\n",
       "    canvas_div.attr('style', 'position: relative; clear: both; outline: 0');\n",
       "\n",
       "    function canvas_keyboard_event(event) {\n",
       "        return fig.key_event(event, event['data']);\n",
       "    }\n",
       "\n",
       "    canvas_div.keydown('key_press', canvas_keyboard_event);\n",
       "    canvas_div.keyup('key_release', canvas_keyboard_event);\n",
       "    this.canvas_div = canvas_div\n",
       "    this._canvas_extra_style(canvas_div)\n",
       "    this.root.append(canvas_div);\n",
       "\n",
       "    var canvas = $('<canvas/>');\n",
       "    canvas.addClass('mpl-canvas');\n",
       "    canvas.attr('style', \"left: 0; top: 0; z-index: 0; outline: 0\")\n",
       "\n",
       "    this.canvas = canvas[0];\n",
       "    this.context = canvas[0].getContext(\"2d\");\n",
       "\n",
       "    var backingStore = this.context.backingStorePixelRatio ||\n",
       "\tthis.context.webkitBackingStorePixelRatio ||\n",
       "\tthis.context.mozBackingStorePixelRatio ||\n",
       "\tthis.context.msBackingStorePixelRatio ||\n",
       "\tthis.context.oBackingStorePixelRatio ||\n",
       "\tthis.context.backingStorePixelRatio || 1;\n",
       "\n",
       "    mpl.ratio = (window.devicePixelRatio || 1) / backingStore;\n",
       "\n",
       "    var rubberband = $('<canvas/>');\n",
       "    rubberband.attr('style', \"position: absolute; left: 0; top: 0; z-index: 1;\")\n",
       "\n",
       "    var pass_mouse_events = true;\n",
       "\n",
       "    canvas_div.resizable({\n",
       "        start: function(event, ui) {\n",
       "            pass_mouse_events = false;\n",
       "        },\n",
       "        resize: function(event, ui) {\n",
       "            fig.request_resize(ui.size.width, ui.size.height);\n",
       "        },\n",
       "        stop: function(event, ui) {\n",
       "            pass_mouse_events = true;\n",
       "            fig.request_resize(ui.size.width, ui.size.height);\n",
       "        },\n",
       "    });\n",
       "\n",
       "    function mouse_event_fn(event) {\n",
       "        if (pass_mouse_events)\n",
       "            return fig.mouse_event(event, event['data']);\n",
       "    }\n",
       "\n",
       "    rubberband.mousedown('button_press', mouse_event_fn);\n",
       "    rubberband.mouseup('button_release', mouse_event_fn);\n",
       "    // Throttle sequential mouse events to 1 every 20ms.\n",
       "    rubberband.mousemove('motion_notify', mouse_event_fn);\n",
       "\n",
       "    rubberband.mouseenter('figure_enter', mouse_event_fn);\n",
       "    rubberband.mouseleave('figure_leave', mouse_event_fn);\n",
       "\n",
       "    canvas_div.on(\"wheel\", function (event) {\n",
       "        event = event.originalEvent;\n",
       "        event['data'] = 'scroll'\n",
       "        if (event.deltaY < 0) {\n",
       "            event.step = 1;\n",
       "        } else {\n",
       "            event.step = -1;\n",
       "        }\n",
       "        mouse_event_fn(event);\n",
       "    });\n",
       "\n",
       "    canvas_div.append(canvas);\n",
       "    canvas_div.append(rubberband);\n",
       "\n",
       "    this.rubberband = rubberband;\n",
       "    this.rubberband_canvas = rubberband[0];\n",
       "    this.rubberband_context = rubberband[0].getContext(\"2d\");\n",
       "    this.rubberband_context.strokeStyle = \"#000000\";\n",
       "\n",
       "    this._resize_canvas = function(width, height) {\n",
       "        // Keep the size of the canvas, canvas container, and rubber band\n",
       "        // canvas in synch.\n",
       "        canvas_div.css('width', width)\n",
       "        canvas_div.css('height', height)\n",
       "\n",
       "        canvas.attr('width', width * mpl.ratio);\n",
       "        canvas.attr('height', height * mpl.ratio);\n",
       "        canvas.attr('style', 'width: ' + width + 'px; height: ' + height + 'px;');\n",
       "\n",
       "        rubberband.attr('width', width);\n",
       "        rubberband.attr('height', height);\n",
       "    }\n",
       "\n",
       "    // Set the figure to an initial 600x600px, this will subsequently be updated\n",
       "    // upon first draw.\n",
       "    this._resize_canvas(600, 600);\n",
       "\n",
       "    // Disable right mouse context menu.\n",
       "    $(this.rubberband_canvas).bind(\"contextmenu\",function(e){\n",
       "        return false;\n",
       "    });\n",
       "\n",
       "    function set_focus () {\n",
       "        canvas.focus();\n",
       "        canvas_div.focus();\n",
       "    }\n",
       "\n",
       "    window.setTimeout(set_focus, 100);\n",
       "}\n",
       "\n",
       "mpl.figure.prototype._init_toolbar = function() {\n",
       "    var fig = this;\n",
       "\n",
       "    var nav_element = $('<div/>')\n",
       "    nav_element.attr('style', 'width: 100%');\n",
       "    this.root.append(nav_element);\n",
       "\n",
       "    // Define a callback function for later on.\n",
       "    function toolbar_event(event) {\n",
       "        return fig.toolbar_button_onclick(event['data']);\n",
       "    }\n",
       "    function toolbar_mouse_event(event) {\n",
       "        return fig.toolbar_button_onmouseover(event['data']);\n",
       "    }\n",
       "\n",
       "    for(var toolbar_ind in mpl.toolbar_items) {\n",
       "        var name = mpl.toolbar_items[toolbar_ind][0];\n",
       "        var tooltip = mpl.toolbar_items[toolbar_ind][1];\n",
       "        var image = mpl.toolbar_items[toolbar_ind][2];\n",
       "        var method_name = mpl.toolbar_items[toolbar_ind][3];\n",
       "\n",
       "        if (!name) {\n",
       "            // put a spacer in here.\n",
       "            continue;\n",
       "        }\n",
       "        var button = $('<button/>');\n",
       "        button.addClass('ui-button ui-widget ui-state-default ui-corner-all ' +\n",
       "                        'ui-button-icon-only');\n",
       "        button.attr('role', 'button');\n",
       "        button.attr('aria-disabled', 'false');\n",
       "        button.click(method_name, toolbar_event);\n",
       "        button.mouseover(tooltip, toolbar_mouse_event);\n",
       "\n",
       "        var icon_img = $('<span/>');\n",
       "        icon_img.addClass('ui-button-icon-primary ui-icon');\n",
       "        icon_img.addClass(image);\n",
       "        icon_img.addClass('ui-corner-all');\n",
       "\n",
       "        var tooltip_span = $('<span/>');\n",
       "        tooltip_span.addClass('ui-button-text');\n",
       "        tooltip_span.html(tooltip);\n",
       "\n",
       "        button.append(icon_img);\n",
       "        button.append(tooltip_span);\n",
       "\n",
       "        nav_element.append(button);\n",
       "    }\n",
       "\n",
       "    var fmt_picker_span = $('<span/>');\n",
       "\n",
       "    var fmt_picker = $('<select/>');\n",
       "    fmt_picker.addClass('mpl-toolbar-option ui-widget ui-widget-content');\n",
       "    fmt_picker_span.append(fmt_picker);\n",
       "    nav_element.append(fmt_picker_span);\n",
       "    this.format_dropdown = fmt_picker[0];\n",
       "\n",
       "    for (var ind in mpl.extensions) {\n",
       "        var fmt = mpl.extensions[ind];\n",
       "        var option = $(\n",
       "            '<option/>', {selected: fmt === mpl.default_extension}).html(fmt);\n",
       "        fmt_picker.append(option)\n",
       "    }\n",
       "\n",
       "    // Add hover states to the ui-buttons\n",
       "    $( \".ui-button\" ).hover(\n",
       "        function() { $(this).addClass(\"ui-state-hover\");},\n",
       "        function() { $(this).removeClass(\"ui-state-hover\");}\n",
       "    );\n",
       "\n",
       "    var status_bar = $('<span class=\"mpl-message\"/>');\n",
       "    nav_element.append(status_bar);\n",
       "    this.message = status_bar[0];\n",
       "}\n",
       "\n",
       "mpl.figure.prototype.request_resize = function(x_pixels, y_pixels) {\n",
       "    // Request matplotlib to resize the figure. Matplotlib will then trigger a resize in the client,\n",
       "    // which will in turn request a refresh of the image.\n",
       "    this.send_message('resize', {'width': x_pixels, 'height': y_pixels});\n",
       "}\n",
       "\n",
       "mpl.figure.prototype.send_message = function(type, properties) {\n",
       "    properties['type'] = type;\n",
       "    properties['figure_id'] = this.id;\n",
       "    this.ws.send(JSON.stringify(properties));\n",
       "}\n",
       "\n",
       "mpl.figure.prototype.send_draw_message = function() {\n",
       "    if (!this.waiting) {\n",
       "        this.waiting = true;\n",
       "        this.ws.send(JSON.stringify({type: \"draw\", figure_id: this.id}));\n",
       "    }\n",
       "}\n",
       "\n",
       "\n",
       "mpl.figure.prototype.handle_save = function(fig, msg) {\n",
       "    var format_dropdown = fig.format_dropdown;\n",
       "    var format = format_dropdown.options[format_dropdown.selectedIndex].value;\n",
       "    fig.ondownload(fig, format);\n",
       "}\n",
       "\n",
       "\n",
       "mpl.figure.prototype.handle_resize = function(fig, msg) {\n",
       "    var size = msg['size'];\n",
       "    if (size[0] != fig.canvas.width || size[1] != fig.canvas.height) {\n",
       "        fig._resize_canvas(size[0], size[1]);\n",
       "        fig.send_message(\"refresh\", {});\n",
       "    };\n",
       "}\n",
       "\n",
       "mpl.figure.prototype.handle_rubberband = function(fig, msg) {\n",
       "    var x0 = msg['x0'] / mpl.ratio;\n",
       "    var y0 = (fig.canvas.height - msg['y0']) / mpl.ratio;\n",
       "    var x1 = msg['x1'] / mpl.ratio;\n",
       "    var y1 = (fig.canvas.height - msg['y1']) / mpl.ratio;\n",
       "    x0 = Math.floor(x0) + 0.5;\n",
       "    y0 = Math.floor(y0) + 0.5;\n",
       "    x1 = Math.floor(x1) + 0.5;\n",
       "    y1 = Math.floor(y1) + 0.5;\n",
       "    var min_x = Math.min(x0, x1);\n",
       "    var min_y = Math.min(y0, y1);\n",
       "    var width = Math.abs(x1 - x0);\n",
       "    var height = Math.abs(y1 - y0);\n",
       "\n",
       "    fig.rubberband_context.clearRect(\n",
       "        0, 0, fig.canvas.width, fig.canvas.height);\n",
       "\n",
       "    fig.rubberband_context.strokeRect(min_x, min_y, width, height);\n",
       "}\n",
       "\n",
       "mpl.figure.prototype.handle_figure_label = function(fig, msg) {\n",
       "    // Updates the figure title.\n",
       "    fig.header.textContent = msg['label'];\n",
       "}\n",
       "\n",
       "mpl.figure.prototype.handle_cursor = function(fig, msg) {\n",
       "    var cursor = msg['cursor'];\n",
       "    switch(cursor)\n",
       "    {\n",
       "    case 0:\n",
       "        cursor = 'pointer';\n",
       "        break;\n",
       "    case 1:\n",
       "        cursor = 'default';\n",
       "        break;\n",
       "    case 2:\n",
       "        cursor = 'crosshair';\n",
       "        break;\n",
       "    case 3:\n",
       "        cursor = 'move';\n",
       "        break;\n",
       "    }\n",
       "    fig.rubberband_canvas.style.cursor = cursor;\n",
       "}\n",
       "\n",
       "mpl.figure.prototype.handle_message = function(fig, msg) {\n",
       "    fig.message.textContent = msg['message'];\n",
       "}\n",
       "\n",
       "mpl.figure.prototype.handle_draw = function(fig, msg) {\n",
       "    // Request the server to send over a new figure.\n",
       "    fig.send_draw_message();\n",
       "}\n",
       "\n",
       "mpl.figure.prototype.handle_image_mode = function(fig, msg) {\n",
       "    fig.image_mode = msg['mode'];\n",
       "}\n",
       "\n",
       "mpl.figure.prototype.updated_canvas_event = function() {\n",
       "    // Called whenever the canvas gets updated.\n",
       "    this.send_message(\"ack\", {});\n",
       "}\n",
       "\n",
       "// A function to construct a web socket function for onmessage handling.\n",
       "// Called in the figure constructor.\n",
       "mpl.figure.prototype._make_on_message_function = function(fig) {\n",
       "    return function socket_on_message(evt) {\n",
       "        if (evt.data instanceof Blob) {\n",
       "            /* FIXME: We get \"Resource interpreted as Image but\n",
       "             * transferred with MIME type text/plain:\" errors on\n",
       "             * Chrome.  But how to set the MIME type?  It doesn't seem\n",
       "             * to be part of the websocket stream */\n",
       "            evt.data.type = \"image/png\";\n",
       "\n",
       "            /* Free the memory for the previous frames */\n",
       "            if (fig.imageObj.src) {\n",
       "                (window.URL || window.webkitURL).revokeObjectURL(\n",
       "                    fig.imageObj.src);\n",
       "            }\n",
       "\n",
       "            fig.imageObj.src = (window.URL || window.webkitURL).createObjectURL(\n",
       "                evt.data);\n",
       "            fig.updated_canvas_event();\n",
       "            fig.waiting = false;\n",
       "            return;\n",
       "        }\n",
       "        else if (typeof evt.data === 'string' && evt.data.slice(0, 21) == \"data:image/png;base64\") {\n",
       "            fig.imageObj.src = evt.data;\n",
       "            fig.updated_canvas_event();\n",
       "            fig.waiting = false;\n",
       "            return;\n",
       "        }\n",
       "\n",
       "        var msg = JSON.parse(evt.data);\n",
       "        var msg_type = msg['type'];\n",
       "\n",
       "        // Call the  \"handle_{type}\" callback, which takes\n",
       "        // the figure and JSON message as its only arguments.\n",
       "        try {\n",
       "            var callback = fig[\"handle_\" + msg_type];\n",
       "        } catch (e) {\n",
       "            console.log(\"No handler for the '\" + msg_type + \"' message type: \", msg);\n",
       "            return;\n",
       "        }\n",
       "\n",
       "        if (callback) {\n",
       "            try {\n",
       "                // console.log(\"Handling '\" + msg_type + \"' message: \", msg);\n",
       "                callback(fig, msg);\n",
       "            } catch (e) {\n",
       "                console.log(\"Exception inside the 'handler_\" + msg_type + \"' callback:\", e, e.stack, msg);\n",
       "            }\n",
       "        }\n",
       "    };\n",
       "}\n",
       "\n",
       "// from http://stackoverflow.com/questions/1114465/getting-mouse-location-in-canvas\n",
       "mpl.findpos = function(e) {\n",
       "    //this section is from http://www.quirksmode.org/js/events_properties.html\n",
       "    var targ;\n",
       "    if (!e)\n",
       "        e = window.event;\n",
       "    if (e.target)\n",
       "        targ = e.target;\n",
       "    else if (e.srcElement)\n",
       "        targ = e.srcElement;\n",
       "    if (targ.nodeType == 3) // defeat Safari bug\n",
       "        targ = targ.parentNode;\n",
       "\n",
       "    // jQuery normalizes the pageX and pageY\n",
       "    // pageX,Y are the mouse positions relative to the document\n",
       "    // offset() returns the position of the element relative to the document\n",
       "    var x = e.pageX - $(targ).offset().left;\n",
       "    var y = e.pageY - $(targ).offset().top;\n",
       "\n",
       "    return {\"x\": x, \"y\": y};\n",
       "};\n",
       "\n",
       "/*\n",
       " * return a copy of an object with only non-object keys\n",
       " * we need this to avoid circular references\n",
       " * http://stackoverflow.com/a/24161582/3208463\n",
       " */\n",
       "function simpleKeys (original) {\n",
       "  return Object.keys(original).reduce(function (obj, key) {\n",
       "    if (typeof original[key] !== 'object')\n",
       "        obj[key] = original[key]\n",
       "    return obj;\n",
       "  }, {});\n",
       "}\n",
       "\n",
       "mpl.figure.prototype.mouse_event = function(event, name) {\n",
       "    var canvas_pos = mpl.findpos(event)\n",
       "\n",
       "    if (name === 'button_press')\n",
       "    {\n",
       "        this.canvas.focus();\n",
       "        this.canvas_div.focus();\n",
       "    }\n",
       "\n",
       "    var x = canvas_pos.x * mpl.ratio;\n",
       "    var y = canvas_pos.y * mpl.ratio;\n",
       "\n",
       "    this.send_message(name, {x: x, y: y, button: event.button,\n",
       "                             step: event.step,\n",
       "                             guiEvent: simpleKeys(event)});\n",
       "\n",
       "    /* This prevents the web browser from automatically changing to\n",
       "     * the text insertion cursor when the button is pressed.  We want\n",
       "     * to control all of the cursor setting manually through the\n",
       "     * 'cursor' event from matplotlib */\n",
       "    event.preventDefault();\n",
       "    return false;\n",
       "}\n",
       "\n",
       "mpl.figure.prototype._key_event_extra = function(event, name) {\n",
       "    // Handle any extra behaviour associated with a key event\n",
       "}\n",
       "\n",
       "mpl.figure.prototype.key_event = function(event, name) {\n",
       "\n",
       "    // Prevent repeat events\n",
       "    if (name == 'key_press')\n",
       "    {\n",
       "        if (event.which === this._key)\n",
       "            return;\n",
       "        else\n",
       "            this._key = event.which;\n",
       "    }\n",
       "    if (name == 'key_release')\n",
       "        this._key = null;\n",
       "\n",
       "    var value = '';\n",
       "    if (event.ctrlKey && event.which != 17)\n",
       "        value += \"ctrl+\";\n",
       "    if (event.altKey && event.which != 18)\n",
       "        value += \"alt+\";\n",
       "    if (event.shiftKey && event.which != 16)\n",
       "        value += \"shift+\";\n",
       "\n",
       "    value += 'k';\n",
       "    value += event.which.toString();\n",
       "\n",
       "    this._key_event_extra(event, name);\n",
       "\n",
       "    this.send_message(name, {key: value,\n",
       "                             guiEvent: simpleKeys(event)});\n",
       "    return false;\n",
       "}\n",
       "\n",
       "mpl.figure.prototype.toolbar_button_onclick = function(name) {\n",
       "    if (name == 'download') {\n",
       "        this.handle_save(this, null);\n",
       "    } else {\n",
       "        this.send_message(\"toolbar_button\", {name: name});\n",
       "    }\n",
       "};\n",
       "\n",
       "mpl.figure.prototype.toolbar_button_onmouseover = function(tooltip) {\n",
       "    this.message.textContent = tooltip;\n",
       "};\n",
       "mpl.toolbar_items = [[\"Home\", \"Reset original view\", \"fa fa-home icon-home\", \"home\"], [\"Back\", \"Back to  previous view\", \"fa fa-arrow-left icon-arrow-left\", \"back\"], [\"Forward\", \"Forward to next view\", \"fa fa-arrow-right icon-arrow-right\", \"forward\"], [\"\", \"\", \"\", \"\"], [\"Pan\", \"Pan axes with left mouse, zoom with right\", \"fa fa-arrows icon-move\", \"pan\"], [\"Zoom\", \"Zoom to rectangle\", \"fa fa-square-o icon-check-empty\", \"zoom\"], [\"\", \"\", \"\", \"\"], [\"Download\", \"Download plot\", \"fa fa-floppy-o icon-save\", \"download\"]];\n",
       "\n",
       "mpl.extensions = [\"eps\", \"jpeg\", \"pdf\", \"png\", \"ps\", \"raw\", \"svg\", \"tif\"];\n",
       "\n",
       "mpl.default_extension = \"png\";var comm_websocket_adapter = function(comm) {\n",
       "    // Create a \"websocket\"-like object which calls the given IPython comm\n",
       "    // object with the appropriate methods. Currently this is a non binary\n",
       "    // socket, so there is still some room for performance tuning.\n",
       "    var ws = {};\n",
       "\n",
       "    ws.close = function() {\n",
       "        comm.close()\n",
       "    };\n",
       "    ws.send = function(m) {\n",
       "        //console.log('sending', m);\n",
       "        comm.send(m);\n",
       "    };\n",
       "    // Register the callback with on_msg.\n",
       "    comm.on_msg(function(msg) {\n",
       "        //console.log('receiving', msg['content']['data'], msg);\n",
       "        // Pass the mpl event to the overridden (by mpl) onmessage function.\n",
       "        ws.onmessage(msg['content']['data'])\n",
       "    });\n",
       "    return ws;\n",
       "}\n",
       "\n",
       "mpl.mpl_figure_comm = function(comm, msg) {\n",
       "    // This is the function which gets called when the mpl process\n",
       "    // starts-up an IPython Comm through the \"matplotlib\" channel.\n",
       "\n",
       "    var id = msg.content.data.id;\n",
       "    // Get hold of the div created by the display call when the Comm\n",
       "    // socket was opened in Python.\n",
       "    var element = $(\"#\" + id);\n",
       "    var ws_proxy = comm_websocket_adapter(comm)\n",
       "\n",
       "    function ondownload(figure, format) {\n",
       "        window.open(figure.imageObj.src);\n",
       "    }\n",
       "\n",
       "    var fig = new mpl.figure(id, ws_proxy,\n",
       "                           ondownload,\n",
       "                           element.get(0));\n",
       "\n",
       "    // Call onopen now - mpl needs it, as it is assuming we've passed it a real\n",
       "    // web socket which is closed, not our websocket->open comm proxy.\n",
       "    ws_proxy.onopen();\n",
       "\n",
       "    fig.parent_element = element.get(0);\n",
       "    fig.cell_info = mpl.find_output_cell(\"<div id='\" + id + \"'></div>\");\n",
       "    if (!fig.cell_info) {\n",
       "        console.error(\"Failed to find cell for figure\", id, fig);\n",
       "        return;\n",
       "    }\n",
       "\n",
       "    var output_index = fig.cell_info[2]\n",
       "    var cell = fig.cell_info[0];\n",
       "\n",
       "};\n",
       "\n",
       "mpl.figure.prototype.handle_close = function(fig, msg) {\n",
       "    var width = fig.canvas.width/mpl.ratio\n",
       "    fig.root.unbind('remove')\n",
       "\n",
       "    // Update the output cell to use the data from the current canvas.\n",
       "    fig.push_to_output();\n",
       "    var dataURL = fig.canvas.toDataURL();\n",
       "    // Re-enable the keyboard manager in IPython - without this line, in FF,\n",
       "    // the notebook keyboard shortcuts fail.\n",
       "    IPython.keyboard_manager.enable()\n",
       "    $(fig.parent_element).html('<img src=\"' + dataURL + '\" width=\"' + width + '\">');\n",
       "    fig.close_ws(fig, msg);\n",
       "}\n",
       "\n",
       "mpl.figure.prototype.close_ws = function(fig, msg){\n",
       "    fig.send_message('closing', msg);\n",
       "    // fig.ws.close()\n",
       "}\n",
       "\n",
       "mpl.figure.prototype.push_to_output = function(remove_interactive) {\n",
       "    // Turn the data on the canvas into data in the output cell.\n",
       "    var width = this.canvas.width/mpl.ratio\n",
       "    var dataURL = this.canvas.toDataURL();\n",
       "    this.cell_info[1]['text/html'] = '<img src=\"' + dataURL + '\" width=\"' + width + '\">';\n",
       "}\n",
       "\n",
       "mpl.figure.prototype.updated_canvas_event = function() {\n",
       "    // Tell IPython that the notebook contents must change.\n",
       "    IPython.notebook.set_dirty(true);\n",
       "    this.send_message(\"ack\", {});\n",
       "    var fig = this;\n",
       "    // Wait a second, then push the new image to the DOM so\n",
       "    // that it is saved nicely (might be nice to debounce this).\n",
       "    setTimeout(function () { fig.push_to_output() }, 1000);\n",
       "}\n",
       "\n",
       "mpl.figure.prototype._init_toolbar = function() {\n",
       "    var fig = this;\n",
       "\n",
       "    var nav_element = $('<div/>')\n",
       "    nav_element.attr('style', 'width: 100%');\n",
       "    this.root.append(nav_element);\n",
       "\n",
       "    // Define a callback function for later on.\n",
       "    function toolbar_event(event) {\n",
       "        return fig.toolbar_button_onclick(event['data']);\n",
       "    }\n",
       "    function toolbar_mouse_event(event) {\n",
       "        return fig.toolbar_button_onmouseover(event['data']);\n",
       "    }\n",
       "\n",
       "    for(var toolbar_ind in mpl.toolbar_items){\n",
       "        var name = mpl.toolbar_items[toolbar_ind][0];\n",
       "        var tooltip = mpl.toolbar_items[toolbar_ind][1];\n",
       "        var image = mpl.toolbar_items[toolbar_ind][2];\n",
       "        var method_name = mpl.toolbar_items[toolbar_ind][3];\n",
       "\n",
       "        if (!name) { continue; };\n",
       "\n",
       "        var button = $('<button class=\"btn btn-default\" href=\"#\" title=\"' + name + '\"><i class=\"fa ' + image + ' fa-lg\"></i></button>');\n",
       "        button.click(method_name, toolbar_event);\n",
       "        button.mouseover(tooltip, toolbar_mouse_event);\n",
       "        nav_element.append(button);\n",
       "    }\n",
       "\n",
       "    // Add the status bar.\n",
       "    var status_bar = $('<span class=\"mpl-message\" style=\"text-align:right; float: right;\"/>');\n",
       "    nav_element.append(status_bar);\n",
       "    this.message = status_bar[0];\n",
       "\n",
       "    // Add the close button to the window.\n",
       "    var buttongrp = $('<div class=\"btn-group inline pull-right\"></div>');\n",
       "    var button = $('<button class=\"btn btn-mini btn-primary\" href=\"#\" title=\"Stop Interaction\"><i class=\"fa fa-power-off icon-remove icon-large\"></i></button>');\n",
       "    button.click(function (evt) { fig.handle_close(fig, {}); } );\n",
       "    button.mouseover('Stop Interaction', toolbar_mouse_event);\n",
       "    buttongrp.append(button);\n",
       "    var titlebar = this.root.find($('.ui-dialog-titlebar'));\n",
       "    titlebar.prepend(buttongrp);\n",
       "}\n",
       "\n",
       "mpl.figure.prototype._root_extra_style = function(el){\n",
       "    var fig = this\n",
       "    el.on(\"remove\", function(){\n",
       "\tfig.close_ws(fig, {});\n",
       "    });\n",
       "}\n",
       "\n",
       "mpl.figure.prototype._canvas_extra_style = function(el){\n",
       "    // this is important to make the div 'focusable\n",
       "    el.attr('tabindex', 0)\n",
       "    // reach out to IPython and tell the keyboard manager to turn it's self\n",
       "    // off when our div gets focus\n",
       "\n",
       "    // location in version 3\n",
       "    if (IPython.notebook.keyboard_manager) {\n",
       "        IPython.notebook.keyboard_manager.register_events(el);\n",
       "    }\n",
       "    else {\n",
       "        // location in version 2\n",
       "        IPython.keyboard_manager.register_events(el);\n",
       "    }\n",
       "\n",
       "}\n",
       "\n",
       "mpl.figure.prototype._key_event_extra = function(event, name) {\n",
       "    var manager = IPython.notebook.keyboard_manager;\n",
       "    if (!manager)\n",
       "        manager = IPython.keyboard_manager;\n",
       "\n",
       "    // Check for shift+enter\n",
       "    if (event.shiftKey && event.which == 13) {\n",
       "        this.canvas_div.blur();\n",
       "        event.shiftKey = false;\n",
       "        // Send a \"J\" for go to next cell\n",
       "        event.which = 74;\n",
       "        event.keyCode = 74;\n",
       "        manager.command_mode();\n",
       "        manager.handle_keydown(event);\n",
       "    }\n",
       "}\n",
       "\n",
       "mpl.figure.prototype.handle_save = function(fig, msg) {\n",
       "    fig.ondownload(fig, null);\n",
       "}\n",
       "\n",
       "\n",
       "mpl.find_output_cell = function(html_output) {\n",
       "    // Return the cell and output element which can be found *uniquely* in the notebook.\n",
       "    // Note - this is a bit hacky, but it is done because the \"notebook_saving.Notebook\"\n",
       "    // IPython event is triggered only after the cells have been serialised, which for\n",
       "    // our purposes (turning an active figure into a static one), is too late.\n",
       "    var cells = IPython.notebook.get_cells();\n",
       "    var ncells = cells.length;\n",
       "    for (var i=0; i<ncells; i++) {\n",
       "        var cell = cells[i];\n",
       "        if (cell.cell_type === 'code'){\n",
       "            for (var j=0; j<cell.output_area.outputs.length; j++) {\n",
       "                var data = cell.output_area.outputs[j];\n",
       "                if (data.data) {\n",
       "                    // IPython >= 3 moved mimebundle to data attribute of output\n",
       "                    data = data.data;\n",
       "                }\n",
       "                if (data['text/html'] == html_output) {\n",
       "                    return [cell, data, j];\n",
       "                }\n",
       "            }\n",
       "        }\n",
       "    }\n",
       "}\n",
       "\n",
       "// Register the function which deals with the matplotlib target/channel.\n",
       "// The kernel may be null if the page has been refreshed.\n",
       "if (IPython.notebook.kernel != null) {\n",
       "    IPython.notebook.kernel.comm_manager.register_target('matplotlib', mpl.mpl_figure_comm);\n",
       "}\n"
      ],
      "text/plain": [
       "<IPython.core.display.Javascript object>"
      ]
     },
     "metadata": {},
     "output_type": "display_data"
    },
    {
     "data": {
      "text/html": [
       "<img src=\"data:image/png;base64,iVBORw0KGgoAAAANSUhEUgAAAoAAAAHgCAYAAAA10dzkAAAgAElEQVR4Xu3de6wcBfk/4LdtAlVDK60QSlukqYJCE5qC0gKiFAViYgr/QImAkEiggmkiEMK9jReoaLgllAKJIA2FeKMpIvpHI4iUcK0BCYIgCm1BKXp+NeHUCOeXWTnne3pjL++end0zzyYkCvPO7D7z2X3fMzszO2ZgYGAgPAgQIECAAAECBCojMMYAWJl97YUSIECAAAECBGoCBkBBIECAAAECBAhUTMAAWLEd7uUSIECAAAECBAyAMkCAAAECBAgQqJiAAbBiO9zLJUCAAAECBAgYAGWAAAECBAgQIFAxAQNgxXa4l0uAAAECBAgQMADKAAECBAgQIECgYgIGwIrtcC+XAAECBAgQIGAAlAECBAgQIECAQMUEDIAV2+FeLgECBAgQIEDAACgDBAgQIECAAIGKCRgAK7bDvVwCBAgQIECAgAFQBggQIECAAAECFRMwAFZsh3u5BAgQIECAAAEDoAwQIECAAAECBComYACs2A73cgkQIECAAAECBkAZIECAAAECBAhUTMAAWLEd7uUSIECAAAECBAyAMkCAAAECBAgQqJiAAbBiO9zLJUCAAAECBAgYAGWAAAECBAgQIFAxAQNgxXa4l0uAAAECBAgQMADKAAECBAgQIECgYgIGwIrtcC+XAAECBAgQIGAAlAECBAgQIECAQMUEDIAV2+FeLgECBAgQIEDAACgDBAgQIECAAIGKCRgAK7bDvVwCBAgQIECAgAFQBggQIECAAAECFRMwAFZsh3u5BAgQIECAAAEDoAwQIECAAAECBComYACs2A73cgkQIECAAAECBkAZIECAAAECBAhUTMAAWLEd7uUSIECAAAECBAyAMkCAAAECBAgQqJiAAbBiO9zLJUCAAAECBAgYAGWAAAECBAgQIFAxAQNgxXa4l0uAAAECBAgQMADKAAECBAgQIECgYgIGwIrtcC+XAAECBAgQIGAAlAECBAgQIECAQMUEDIAV2+FeLgECBAgQIEDAACgDBAgQIECAAIGKCRgAK7bDvVwCBAgQIECAgAFQBggQIECAAAECFRMwAFZsh3u5BAgQIECAAAEDoAwQIECAAAECBComYACs2A73cgkQIECAAAECBkAZIECAAAECBAhUTMAAWLEd7uUSIECAAAECBAyAMkCAAAECBAgQqJiAAbBiO9zLJUCAAAECBAgYAGWAAAECBAgQIFAxAQNgxXa4l0uAAAECBAgQMADKAAECBAgQIECgYgIGwMQOf++992Ljxo2xxx57xJgxYxJrUkqAAAECBAh0SmBgYCC2bNkS++67b4wdO7ZTm+2q7RgAE7vj9ddfj+nTpyfWoJQAAQIECBAoS+C1116LadOmlbX5UrdrAEzw9/X1xUc/+tEoAjRhwoTEmpQSIECAAAECnRL4f//v/9UO4PzrX/+KiRMndmqzXbUdA2BidxQBKoJTDIIGwASkUgIECBAg0EEB/TvCAJgInAAl8JQSIECAAIGSBPRvA2AqegKU4lNMgAABAgRKEdC/DYCp4AlQik8xAQIECBAoRUD/NgCmgidAKT7FBAgQIECgFAH92wCYCp4ApfgUEyBAgACBUgT0bwNgKngClOJTTIAAAQIEShHQvw2AqeAJUIpPMQECBAgQKEVA/zYApoInQCk+xQQIECBAoBQB/dsAmAqeAKX4FEfEu+8NxON/eTv+vqU/9t5jfHx2xqQYN9bvSgsHAQLNCfgsac5L/zYANpeY7ZYWoBRf5YsffG5TLF3zfGzq6x+ymDJxfFz1lYPihFlTKu8DgACBxgR8ljTmNHwp/dsA2HxqhlUIUIqv0sXFB/ailU/HwHYKg8f+lp82xxBY6YR48QQaE/BZ0pjT9kvp3wbA1pLzfpUApfgqW1x8VXPUsrXbHPkbjlEMgftMHB+PXDzf18GVTYkXTqC+gM+S+ka7WkL/NgC2np6IEKAUX2WL1728OU697bG6r3/V2XNj3szJdZezAAEC1RTwWdL6fte/DYCtp8cAmLKrcvHq9Rti8T3r6xLcsHB2LJg9te5yFiBAoJoCPkta3+8GQANg6+kxAKbsqlzsr/Yq732vnUD7BHyWtG5pADQAtp4eA2DKrsrFg+ftvNHXv8NFIIWLcwCrnA6vnUDjAj5LGrfafkkDYEUGwKuvvjouvfTSWLx4cVx//fW1HGzdujUuvPDCWLVqVbzzzjtx7LHHxs033xzTpk1rOFEC1DCVBbcTGLxyr/jXw68EdhWwqBAg0IyAz5JmtP5vWf27AgPgE088ESeffHJMmDAhjjnmmKEBcNGiRbFmzZq44447YvLkyXHBBRfE22+/HU899VSMGzeuoUQJUENMFtqFgHt3iQYBAu0Q8FnSvKL+PcoHwH//+98xZ86c2pG973znOzF79uzaANjX1xd77bVX3HXXXXHKKafUkrNx48aYPn16PPDAA3H88cc3lCYBaojJQh8g4O794kGAQDsEfJY0p6h/j/IB8Gtf+1pMmjQprrvuuvjCF74wNACuXbu29pVvccRvzz33HErNIYccEieeeGIsXbq0oSQJUENMFiJAgAABAl0loH+P4gHwnnvuqR31e/LJJ2P8+PHbDIB33313nHXWWbXzAIc/jjvuuJgxY0asWLFip0Etlh9eUwSoOGpYHFEsvmL2IECAAAECBLpfwAA4SgfA1157LQ477LD4zW9+E8VRveIx/AjgrgbAL33pSzFz5sy45ZZbdpreJUuW7PTooAGw+9/sniEBAgQIEBgUMACO0gHwvvvui5NOOmmbiznefffdGDNmTIwdOzZ+/etfxxe/+MWmvwJ2BNCHBwECBAgQ6H0BA+AoHQC3bNkSf/3rX7dJaPGV76c+9am4+OKLa1/bFheBrFy5snaFcPHYtGlT7RYwLgLp/Te2V0CAAAECBD5IwAA4SgfAne304V8BF/+9uA3M/fffX7sNTHGhSHFPwM2bN7sNjM8MAgQIECAwygUMgBUeAPv7++Oiiy6K4nzA4TeCLo4ONvoQoEalLEeAAAECBLpHQP+u0AA4ErEToJFQtU4CBAgQIDCyAvq3ATCVMAFK8SkmQIAAAQKlCOjfBsBU8AQoxaeYAAECBAiUIqB/GwBTwROgFJ9iAgQIECBQioD+bQBMBU+AUnyKCRAgQIBAKQL6twEwFTwBSvEpTgj44fcEnlICBCovoH8bAFNvAgFK8SluUeDB5zbF0jXPx6a+/qE1TJk4Pq76ykFxwqwpLa5VGQECBKojoH8bAFNpF6AUn+IWBIrhb9HKp2Ngu9ox7///5afNMQS24KqEAIFqCejfBsBU4gUoxae4SYHia9+jlq3d5sjf8FUUQ+A+E8fHIxfPj3FjB0fCJjdicQIECFRAQP82AKZiLkApPsVNCqx7eXOcettjdatWnT035s2cXHc5CxAgQKCqAvq3ATCVfQFK8SluUmD1+g2x+J71datuWDg7FsyeWnc5CxAgQKCqAvq3ATCVfQFK8SluUsARwCbBLE6AAIFdCOjfBsDUm0OAUnyKmxQYPAfwjb7+HS4CKVblHMAmQS1OgEBlBfRvA2Aq/AKU4lPcgsDgVcBF6fArgV0F3AKmEgIEKiugfxsAU+EXoBSf4hYF3AewRThlBAgQeF9A/zYApt4MApTiU5wQ8EsgCTylBAhUXkD/NgCm3gQClOJTTIAAAQIEShHQvw2AqeAJUIpPMQECBAgQKEVA/zYApoInQCk+xQQIECBAoBQB/dsAmAqeAKX4FBMgQIAAgVIE9G8DYCp4ApTiU0yAAAECBEoR0L8NgKngCVCKTzEBAgQIEChFQP82AKaCJ0ApPsUECBAgQKAUAf3bAJgKngCl+BQTIECAAIFSBPRvA2AqeAKU4lNMgAABAgRKEdC/DYCp4AlQik8xAQIECBAoRUD/NgCmgidAKT7FBAgQIECgFAH92wCYCp4ApfgUEyBAgACBUgT0bwNgKngClOJTTIAAAQIEShHQvw2AqeAJUIpPMQECBAgQKEVA/zYApoInQCk+xQQIECBAoBQB/dsAmAqeAKX4FBMgQIAAgVIE9G8DYCp4ApTiU0yAAAECBEoR0L8NgKngCVCKTzEBAgQIEChFQP82AKaCJ0ApPsUECBAgQKAUAf3bAJgKngCl+BQTIECAAIFSBPRvA2AqeAKU4lNMgAABAgRKEdC/DYCp4AlQik8xAQIECBAoRUD/NgCmgidAKT7FBAgQIECgFAH92wCYCp4ApfgUEyBAgACBUgT0bwNgKngClOJTTIAAAQIEShHQvw2AqeAJUIpPMQECBAgQKEVA/zYApoInQCk+xQQIECBAoBQB/dsAmAqeAKX4FBMgQIAAgVIE9G8DYCp4ApTiU0yAAAECBEoR0L8NgKngCVCKTzEBAgQIEChFQP82AKaCJ0ApPsUECBAgQKAUAf3bAJgKngCl+BQTIECAAIFSBPRvA2AqeAKU4lNMgAABAgRKEdC/DYCp4AlQik8xAQIECBAoRUD/NgCmgidAKT7FBAi0KPDuewPx+F/ejr9v6Y+99xgfn50xKcaNHdPi2pQRqJ6A/m0ATKVegFJ8igkQaEHgwec2xdI1z8emvv6h6ikTx8dVXzkoTpg1pYU1KiFQPQH92wCYSr0ApfgUEyDQpEAx/C1a+XQMbFc3eOxv+WlzDIFNmlq8mgL6twEwlXwBSvEpJkCgCYHia9+jlq3d5sjf8PJiCNxn4vh45OL5vg5uwtWi1RTQvw2AqeQLUIpPMQECTQise3lznHrbY3UrVp09N+bNnFx3OQsQqLKA/m0ATOVfgFJ8igkQaEJg9foNsfie9XUrblg4OxbMnlp3OQsQqLKA/m0ATOVfgFJ8igkQaELAEcAmsCxKoI6A/m0ATL1JBCjFp5gAgSYEBs8BfKOvf4eLQIrVOAewCUyLVl5A/zYApt4EApTiU0yAQJMCg1cBF2XDrwR2FXCTkBavvID+bQBMvQkEKMWnmACBFgTcB7AFNCUEthPQvw2AqTeFAKX4FBMg0KKAXwJpEU4ZgfcF9G8DYOrNIEApPsUECBAgQKAUAf3bAJgKngCl+BQTIECAAIFSBPRvA2AqeAKU4lNMgAABAgRKEdC/DYCp4AlQik8xAQIECBAoRUD/HsUD4NVXXx0///nP44UXXogPfehDccQRR8SyZcviwAMPHArb1q1b48ILL4xVq1bFO++8E8cee2zcfPPNMW3atIYCKUANMVmIAAECBAh0lYD+PYoHwBNOOCEWLlwYn/nMZ+K///1vXHbZZfHss8/G888/Hx/5yEdqQVy0aFGsWbMm7rjjjpg8eXJccMEF8fbbb8dTTz0V48aNqxtWAapLZAECBAgQINB1Avr3KB4At0/bP/7xj9h7773joYceiqOPPjr6+vpir732irvuuitOOeWU2uIbN26M6dOnxwMPPBDHH3983cAKUF0iCxAgQIAAga4T0L8rNAD++c9/jk9+8pO1o4CzZs2KtWvX1r7yLY747bnnnkPhPOSQQ+LEE0+MpUuX1g2sANUlsgABAgQIEOg6Af27IgPgwMBALFiwIP75z3/G7373u1oQ77777jjrrLOiOA9w+OO4446LGTNmxIoVK3YIbLHs8OWLABVHDIujiRMmTOi6gHtCBAgQIECAwI4CBsCKDIDnnXde/PKXv4xHHnlk6AKPXQ2AX/rSl2LmzJlxyy237JCYJUuW7PTIoAHQxwsBAgQIEOgdAQNgBQbAb37zm3HffffFww8/XDuyN/ho5StgRwB7583tmRIgQIAAgV0JGABH8QBYfO1bDH+/+MUv4re//W3t/L/hj8GLQFauXBknn3xy7T9t2rSpdoTQRSA+NAgQIDByAn7LeORsrbkxAQPgKB4Av/GNb9TO81u9evU29/6bOHFi7b6AxaO4Dcz9999fuw3MpEmTavcE3Lx5s9vANPb+sRQBAgSaFnjwuU2xdM3zsamvf6h2ysTxcdVXDooTZk1pen0KCLQiYAAcxQPgmDFjdpqJH/3oR3HmmWfW/lt/f39cdNFFtUFx+I2giws7GnkIUCNKliFAgMD/BIrhb9HKp2NgO5DBT+vlp80xBApLRwT071E8AHYiQQLUCWXbIEBgNAgUX/setWztNkf+hr+uYgjcZ+L4eOTi+TFu7M7/gB8NDl5Ddwjo3wbAVBIFKMWnmACBCgmse3lznHrbY3Vf8aqz58a8mZPrLmcBAhkB/dsAmMlPCFCKTzEBAhUSWL1+Qyy+Z33dV3zDwtmxYPbUustZgEBGQP82AGbyYwBM6SkmQKBKAo4AVmlvd/9rNQAaAFMpFaAUn2ICBCokMHgO4Bt9/TtcBFIwOAewQmHogpeqfxsAUzEUoBSfYgIEKiYweBVw8bKHXwnsKuCKBaELXq7+bQBMxVCAUnyKCRCooID7AFZwp3fhS9a/DYCpWApQik8xAQIVFfBLIBXd8V30svVvA2AqjqM5QD6gU9FQTIAAAQJdLDCa+3ej7GMGih/N9WhJYLQGyFc0LcVBEQECBAj0iMBo7d/N8BsAm9HabtnRGCA/1ZQIhFICBAgQ6AmB0di/m4U3ADYrNmz50RYgP9WUCINSAgQIEOgZgdHWv1uBNwC2ovZ+zWgLkBu1JsKglAABAgR6RmC09e9W4A2AraiN0gHQTzUlwqCUAAECBHpGwADoKuBUWEdbgBwBTMVBMQECBAj0iMBo69+tsDsC2IraKD0C6KeaEmFQSoAAAQI9I2AAdAQwFdbRGCA/1ZSKhGICBAgQ6AGB0di/m2V3BLBZsWHLj9YAuQ9gIhRKCRAgQKDrBUZr/24G3gDYjNZ2y47mAPklkEQwlBIgQIBAVwuM5v7dKLwBsFGpnSwnQAk8pQQIECBAoCQB/ds5gKnoCVCKTzEBAgQIEChFQP82AKaCJ0ApPsUECBAgQKAUAf3bAJgKngCl+BQTIECAAIFSBPRvA2AqeCMVIBdgpHaLYgIECBAg8IECI9W/e4ndRSCJvTUSAXILlsQOUUqAAAECBBoQGIn+3cBmu2oRA2Bid7Q7QIM3YR7Y7jmNef//Lz9tTpwwa0riGSslQIAAAQIE2t2/e1HUAJjYa+0M0ODPsG3q69/pMyqGwH0mjo9HLp4f48YOjoSJJ6+UAAECBAhUVKCd/btXCQ2AiT3XzgCte3lznHrbY3Wfzaqz58a8mZPrLmcBAgQIECBAYOcC7ezfvWpsAEzsuXYGaPX6DbH4nvV1n80NC2fHgtlT6y5nAQIECBAgQMAAuKsMGAAT7452DoCOACZ2hFICBAgQINCEQDv7dxOb7apFDYCJ3dHOAA2eA/hGX39sfxFI8RSdA5jYUUoJECBAgMAwgXb2716FNQAm9ly7AzR4FXDxlIYPga4CTuwkpQQIECBAYDuBdvfvXgQ2ACb22kgEyH0AEztEKQECBAgQaEBgJPp3A5vtqkUMgIndMVIB8ksgiZ2ilAABAgQI1BEYqf7dS/AGwMTeEqAEnlICBAgQIFCSgP7tt4BT0ROgFJ9iAgQIECBQioD+bQBMBU+AUnyKCRAgQIBAKQL6twEwFTwBSvEpJkCAAAECpQjo3wbAVPAEKMWnmAABAgQIlCKgfxsAU8EToBSfYgIECBAgUIqA/m0ATAVPgFJ8igkQIECAQCkC+rcBMBU8AUrxKSZAgAABAqUI6N8GwFTwBCjF11Kxm2S3xNaxIvunY9Q2RIBAQkD/NgAm4hMhQCm+pov9TF7TZB0tsH86ym1jBAgkBPRvA2AiPgbAFF6TxcVwsWjl0zGwXd2Y9///8tPmxAmzpjS5Vou3S8D+aZek9RAg0AkBA6ABMJUzAUrxNVxcfK141LK1samvf6c1xRC4z8Tx8cjF82Pc2MGRsOHVWzApYP8kAZUTINBxAf3bAJgKnQCl+BouXvfy5jj1tsfqLr/q7Lkxb+bkustZoL0C9k97Pa2NAIGRF9C/DYCplAlQiq/h4tXrN8Tie9bXXf6GhbNjweypdZezQHsF7J/2elobAQIjL6B/GwBTKROgFF/DxY4wNUxVyoL2TynsNkqAQEJA/zYAJuLjIpAUXhPFg+eYvdHXv8NFIMVqnAPYBOYILGr/jACqVRIgMKICBkADYCpgApTia6p48CrTomj4lcCuAm6KccQWtn9GjNaKCRAYAQH92wCYipUApfiaLnafuabJOlpg/3SU28YIEEgI6N8GwER8fAWcwmux2C9NtAjXoTL7p0PQNkOAQErAAGgAFKCUgGICBAgQINB7AgZAA2AqtQKU4lNMgAABAgRKEdC/DYCp4AlQik8xAQIECBAoRUD/NgCmgidAKT7FBAgQIECgFAH92wCYCp4ApfgUEyBAgACBUgT0bwNgKngClOJTTIAAAQIEShHQvw2AqeAJUIpPMQECBAgQKEVA/zYApoInQCk+xQQIECBAoBQB/dsAmAqeAKX4FBMgQIAAgVIE9G8DYCp4ApTiU0yAAAECBEoR0L8NgKngCVCKTzEBAgQIEChFQP82AKaCJ0ApPsUECBAgQKAUAf3bABg333xzXHvttbFp06Y4+OCD4/rrr4/Pfe5zDQVSgBpishABAgQIEOgqAf274gPgvffeG6effnptCDzyyCNjxYoVcfvtt8fzzz8f++23X92wClBdIgsQIECAAIGuE9C/Kz4AHn744TFnzpxYvnz5UDg//elPx4knnhhXX3113cAKUF0iCxAgQIAAga4T0L8rPAD+5z//iQ9/+MPxk5/8JE466aShcC5evDjWr18fDz300A6B3bp1axT/DD6KAE2fPj36+vpiwoQJXRfwMp7Qu+8NxON/eTv+vqU/9t5jfHx2xqQYN3ZMGU/FNgkQIECAwE4FDIAVHgA3btwYU6dOjd///vdxxBFHDAXke9/7Xtx5553xpz/9aYfQLFmyJJYuXbrDvzcA/o/kwec2xdI1z8emvv4hoykTx8dVXzkoTpg1xccQAQIECBDoCgEDoAEwHn300Zg3b95QIL/73e/GXXfdFS+88IIjgE28TYvhb9HKp2Ngu5rBY3/LT5tjCGzC06IECBAgMHICBsAKD4CtfAW8fRQF6H8ixde+Ry1bu82Rv+FWxRC4z8Tx8cjF830dPHKfZ9ZMgAABAg0K6N8VHgCLjBQXgRx66KG1q4AHHwcddFAsWLDARSANvomKxda9vDlOve2xuhWrzp4b82ZOrrucBQgQIECAwEgKGAArPgAO3gbmlltuqX0NfOutt8Ztt90Wf/zjH+PjH/943ewJ0P+IVq/fEIvvWV/X64aFs2PB7Kl1l7MAAQIECBAYSQH9u+IDYBGu4ujf97///dqNoGfNmhXXXXddHH300Q3lToD+x+QIYENxsRABAgQIdImA/m0ATEVRgP7HN3gO4Bt9/TtcBFL8d+cApmKmmAABAgTaLKB/GwBTkRKg/+MbvAq4+DfDrwR2FXAqYooJECBAYAQE9G8DYCpWArQtn/sApuKkmAABAgQ6JKB/GwBTUROgHfn8EkgqUooJECBAoAMC+rcBMBUzAUrxKSZAgAABAqUI6N8GwFTwBCjFp5gAAQIECJQioH8bAFPBE6AUn2ICBAgQIFCKgP5tAEwFT4BSfIoJECBAgEApAvq3ATAVPAFK8SkmQIAAAQKlCOjfBsBU8AQoxaeYAAECBAiUIqB/GwBTwROgFJ9iAgQIECBQioD+bQBMBU+AUnyKCRAgQIBAKQL6twEwFTwBSvEpJkCAAAECpQjo3wbAVPAEKMWnmAABAgQIlCKgfxsAU8EToBSfYgIECBAgUIqA/m0ATAVPgFJ8igkQIECAQCkC+rcBMBU8AUrxKSZAgAABAqUI6N8GwFTwBCjFp5gAAQIECJQioH8bAFPBE6AUn2ICBAgQIFCKgP5tAEwFT4BSfIoJECBAgEApAvq3ATAVPAFK8SkmQIAAAQKlCOjfBsBU8AQoxaeYAAECBAiUIqB/GwBTwROgFJ9iAgQIECBQioD+bQBMBU+AUnyKCRBoUeDd9wbi8b+8HX/f0h977zE+PjtjUowbO6bFtSkjUD0B/dsAmEq9AKX4FBMg0ILAg89tiqVrno9Nff1D1VMmjo+rvnJQnDBrSgtrVEKgegL6twEwlXoBSvEpJkCgSYFi+Fu08ukY2K5u8Njf8tPmGAKbNLV4NQX0bwNgKvkClOJTTIBAEwLF175HLVu7zZG/4eXFELjPxPHxyMXzfR3chKtFqymgfxsAU8kXoBSfYgIEmhBY9/LmOPW2x+pWrDp7bsybObnuchYgUGUB/dsAmMq/AKX4FBMg0ITA6vUbYvE96+tW3LBwdiyYPbXuchYgUGUB/dsAmMq/AKX4FBMg0ISAI4BNYFmUQB0B/dsAmHqTCFCKTzEBAk0IDJ4D+EZf/w4XgRSrcQ5gE5gWrbyA/m0ATL0JBCjFp5gAgSYFBq8CLsqGXwnsKuAmIS1eeQH92wCYehMIUIpPMQECLQi4D2ALaEoIbCegfxsAU28KAUrxKSZAoEUBvwTSIpwyAu8L6N8GwNSbQYBSfIpLEDA4lIBukwQIdJ2A/m0ATIVSgFJ8ijss4KvDDoPbHAECXSugfxsAU+EUoBSf4g4K+AmxDmLbFAECXS+gfxsAUyEVoBSf4g4J+AmxDkHbDAECPSOgfxsAU2EVoBSf4g4JuIFwh6BthgCBnhHQvw2AqbAKUIpPcYcE/IRYh6BthgCBnhHQvw2AqbAKUIpPcYcEHAHsELTNECDQMwL6twEwFVYBSvEp7pCAnxDrELTNECDQMwL6twEwFVYBSvEp7qCAnxDrILZNESDQ9QL6twEwFVIBSvEp7rCA+wB2GNzmCBDoWgH92wCYCqcApfgUlyDgl0BKQLdJAgS6TkD/NgCmQilAKT7FBAgQIECgFAH92wCYCp4ApfgUEyBAgACBUgT0bwNgKngClOJTTIAAAQIEShHQvw2AqeAJUIpPMQECBAgQKEVA/zYApoInQCk+xQQIECBAoBQB/dsAmIv3iTAAABuiSURBVAqeAKX4FBMgQIAAgVIE9G8DYCp4ApTiU0yAAAECBEoR0L8NgKngCVCKTzEBAgQIEChFQP82AKaCJ0ApPsUECBAgQKAUAf3bAJgKngCl+BQTIECAAIFSBPRvA2AqeAKU4lNMgAABAgRKEdC/DYCp4AlQik8xAQIECBAoRUD/NgCmgidAKT7FBAgQIECgFAH92wCYCp4ApfgUEyBAgACBUgT0bwNgKngClOJTTIAAAQIEShHQvw2AqeAJUIpPMQECBAgQKEVA/zYApoInQCk+xQQIECBAoBQB/dsAmAqeAKX4FBMgQIAAgVIE9G8DYCp4ApTiU0yAAAECBEoR0L9H6QD46quvxre//e1Yu3ZtvPHGG7HvvvvGaaedFpdddlnstttuQ2F79tln4/zzz4/HH388Jk2aFOecc05cccUVMWbMmIYCKUANMVmIAAECBAh0lYD+PUoHwAcffDDuvffeOPXUU+MTn/hEPPfcc3H22WfH6aefHj/4wQ9qISx2/gEHHBDHHHNMbTB88cUX48wzz4yrrroqLrjggoaCKkANMVmIAAECBAh0lYD+PUoHwJ2l7Nprr43ly5fHK6+8UvvPxf++5JJL4s0334zdd9+99u+uueaauOmmm+L1119v6CigAHXV+9mTIUCAAAECDQno3xUaAC+//PIojgw++eSTtXCcccYZ0dfXF6tXrx4KyzPPPBNz5sypDYkzZsyoGyIBqktkAQIECBAg0HUC+ndFBsCXX365Ntj98Ic/jK9//eu1IB533HGx//77x6233joUzI0bN8bUqVPj0UcfjXnz5u0Q2K1bt0bxz+CjCND06dNrg+SECRO6LuDFE3r3vYF4/C9vx9+39Mfee4yPz86YFOPGNnaOY1e+IE+KAAECBAgkBQyAPTYALlmyJJYuXfqBu/2JJ56Iww47bJuh7vOf/3wU/9x+++1D/74YAIujfCtWrBj6dxs2bIhp06bFunXrYu7cuTtsZ1fb79YB8MHnNsXSNc/Hpr7+odcyZeL4uOorB8UJs6Yk3z7KCRAgQIBAbwoYAHtsAHzrrbei+OeDHsVRvfHjx9cWKY7oFRd5HH744XHHHXfE2LFjh0pb+Qq4l44AFsPfopVPx8B2WIPH/pafNscQ2JufW541AQIECCQFDIA9NgA2s7+Lo3nF8HfooYfGypUrY9y4cduUFxeBXHrppbWLQAZvDbNs2bK48cYbe/4ikOJr36OWrd3myN/wF18MgftMHB+PXDzf18HNhMqyBAgQIDAqBAyAo3QALI78FV/57rfffvHjH/94m+Fvn332qYW3+Nr2wAMPjPnz59cGwZdeeql2G5grr7yy528Ds+7lzXHqbY/VfZOuOntuzJs5ue5yFiBAgAABAqNJwAA4SgfA4uves846a6dZHRj4vy9FixtBn3feebUbQe+5555x7rnn1gbAXr8R9Or1G2LxPevrvldvWDg7FsyeWnc5CxAgQIAAgdEkYAAcpQNgp0LarQFyBLBTCbAdAgQIEOhFgW7t3520HDMw/JBYJ7c8CrbVrQEaPAfwjb7+HS4CKdidAzgKwuclECBAgEDLAt3av1t+QS0UGgBbQBss6eYADV4FXDzX4VcCuwo4scOVEiBAgMCoEOjm/t0pYANgQrrbA+Q+gImdq5QAAQIERq1At/fvTsAbABPKvRAgvwSS2MFKCRAgQGBUCvRC/x5peANgQliAEnhKCRAgUKKAP45LxO+CTevfrgJOxVCAUnyKCRAgUIqA02NKYe+qjerfBsBUIAUoxaeYAAECHRfwM5kdJ+/KDerfBsBUMAUoxaeYAAECHRXwM5kd5e7qjenfBsBUQAUoxaeYAAECHRVwk/yOcnf1xvRvA2AqoAKU4lNMgACBjgr4mcyOcnf1xvRvA2AqoAKU4lNMgACBjgo4AthR7q7emP5tAEwFVIBSfIoJECDQUQE/k9lR7q7emP5tAEwFVIBSfIoJECDQcQE/k9lx8q7coP5tAEwFU4BSfIoJECBQioD7AJbC3lUb1b8NgKlAClCKTzEBAgRKE/BLIKXRd8WG9W8DYCqIApTiU0yAAAECBEoR0L8NgKngCVCKTzEBAgQIEChFQP82AKaCJ0ApPsUECBAgQKAUAf3bAJgKngCl+BQTIECAAIFSBPRvA2AqeAKU4lNMgAABAgRKEdC/DYCp4AlQik8xAQIECBAoRUD/NgCmgidAKT7FBAgQIECgFAH92wCYCp4ApfgUEyBAoCkB9+5risvCHyCgfxsAU28QAUrxKSZAgEDDAn69o2EqCzYgoH8bABuIya4XEaAUn2ICBAg0JDD4+70D2y095v3/v/y0OXHCrCkNrctCBAoB/dsAmHonCFCKTzEBAgTqChRf+x61bG1s6uvf6bLFELjPxPHxyMXzY9zYwZGw7motUHEB/dsAmHoLCFCKTzEBAgTqCqx7eXOcettjdZdbdfbcmDdzct3lLEDAEcD/ZWDMwMDA9kfVpaNBAQNgg1AWI0CAQIsCq9dviMX3rK9bfcPC2bFg9tS6y1mAgAHQAJh+FxgA04RWQIAAgQ8UcARQQEZCQP92BDCVKwFK8SkmQIBAXYHBcwDf6OuPnX1d5RzAuoQW2ImA/m0ATL0xBCjFp5gAAQINCQxeBVwsPHwIdBVwQ3wWMgDuNAPOAUy8NQyACTylBAgQaELAfQCbwLJoXQH92xHAuiH5oAUEKMWnmAABAk0J+CWQprgs/AEC+rcBMPUGEaAUn2ICBAgQIFCKgP5tAEwFT4BSfIoJECBAgMBOBUb6aK/+bQBMvfUEKMWnmAABAgQI7CDQifM99W8DYOqtJ0ApPsUECBAgQGAbgU797rP+bQBMvfUEKMWnmAABAgQIDAl08nef9W8DYOqtJ0ApPsUECBAgQGBIoJO/+qJ/GwBTbz0BSvEpJkCAAAECQwKd/N1n/dsAmHrrCVCKTzEBAgQIEHAEsKQM+CWQBLwBMIGnlAABAgQIDBPo5O8+69+OAKbefAKU4lNMgAABAgS2EejU7z7r3wbA1FtPgFJ8igkQIECAwA4C7gPYmVD4CjjhbABM4CklQIAAAQK7EPBLICMfDQNgwtgAmMBTSoAAAQIEShLQv30FnIqeAKX4FBMgQIAAgVIE9G8DYCp4ApTiU0yAAAECBEoR0L8NgKngCVCKTzEBAgQIEChFQP82AKaCJ0ApPsUECBAgQKAUAf3bAJgKngCl+BQTIECAAIFSBPRvA2AqeAKU4lNMgAABAgRKEdC/DYCp4AlQik8xAQIECBAoRUD/NgCmgidAKT7FBAgQIECgFAH92wCYCp4ApfgUEyBAgACBUgT0bwNgKngClOJTTIAAAQIEShHQvw2AqeAJUIpPMQECBAgQKEVA/zYApoInQCk+xQQIECBAoBQB/dsAmAqeAKX4FBMgQIAAgVIE9G8DYCp4ApTiU0yAAAECBEoR0L8NgKngCVCKTzEBAgQIEChFQP82AKaCJ0ApPsUECBAgQKAUAf3bAJgKngCl+BQTIECAAIFSBPRvA2AqeAKU4lNMgAABAgRKEdC/KzAAbt26NQ4//PD4wx/+EM8880zMnj17KGzPPvtsnH/++fH444/HpEmT4pxzzokrrrgixowZ01AgBaghJgsRIECAAIGuEtC/KzAALl68OF566aX41a9+tc0AWOz8Aw44II455pi47LLL4sUXX4wzzzwzrrrqqrjgggsaCqoANcRkIQIECBAg0FUC+vcoHwCLoe9b3/pW/OxnP4uDDz54mwFw+fLlcckll8Sbb74Zu+++ey2Y11xzTdx0003x+uuvN3QUUIC66v3syRAgQIAAgYYE9O9RPAAWg92hhx4a9913X3zsYx+LGTNmbDMAnnHGGdHX1xerV68eCkvxFfGcOXPilVdeqS1f7yFA9YT8dwIECBAg0H0C+vcoHQAHBgbiy1/+chx55JFx+eWXx6uvvrrDAHjcccfF/vvvH7feeutQMjdu3BhTp06NRx99NObNm7dDYovzCYt/Bh9FgKZPn14bJCdMmNB9CfeMCBAgQIAAgR0EDIA9NgAuWbIkli5d+oFRfuKJJ2oD3L333hsPP/xwjBs3bpcDYHGUb8WKFUPr27BhQ0ybNi3WrVsXc+fO3WE7u9q+AdCnCwECBAgQ6B0BA2CPDYBvvfVWFP980KM4qrdw4cJYs2bNNufxvfvuu7Vh8Ktf/Wrceeed0cpXwI4A9s6b2zMlQIAAAQK7EjAA9tgA2GiU//a3v0WxcwcfxVe7xx9/fPz0pz+t3RKmOMpXXARy6aWX1i4C2W233WqLLlu2LG688UYXgTQKbTkCBAgQINCDAgbAUToAbp/FnZ0DWHxte+CBB8b8+fNrg2Bxq5jiNjBXXnml28D04JvZUyZAgAABAo0KGAArPAAWISluBH3eeefVbgS95557xrnnnlsbAN0IutG3kOUIECBAgEDvCRgAKzIAjlQ0BWikZK2XAAECBAiMnID+bQBMpUuAUnzbFL/73kA8/pe34+9b+mPvPcbHZ2dMinFjG/tJvvY9C2siQIAAgSoI6N8GwFTOBSjFN1T84HObYuma52NTX//Qv5sycXxc9ZWD4oRZU9qzEWshQIAAAQLvC+jfBsDUm0GAUny14mL4W7Ty6RjYblWDx/6WnzbHEJhntgYCBAgQGCagfxsAU28IAUrxRfG171HL1m5z5G/4GoshcJ+J4+ORi+f7OjhHrZrAqBBwqsio2I1d8SL0bwNgKogClOKLdS9vjlNve6zuSladPTfmzZxcdzkLECAwegWcKjJ6920Zr0z/NgCmcidAKb5YvX5DLL5nfd2V3LBwdiyYPbXuchYgQGB0CjhVZHTu1zJflf5tAEzlT4BSfI4A5vhUE6iEgFNFKrGbO/4i9W8DYCp0ApTiGzoH8I2+/h0uAinW7BzAnK9qAqNBwKkio2EvbvsauuFcTv3bAJh6ZwlQiq9WPPjVTvG/h18J7CrgvK01EBgNAk4VGQ178f9eQ7ecy6l/GwBT7ywBSvENFXfLB0J7Xo21ECDQTgFHANupWe66uulcTv3bAJh6NwhQim+b4m74SqB9r8aaCBBol8DgOYBOFWmXaDnr6bZzOfVvA2DqnSBAKT7FBAgQaEjAqSINMXX1Qt12JFf/NgCm3jAClOJTTIAAgYYFnCrSMFVXLtht53Lq3wbA1BtFgFJ8igkQINCUgFNFmuLqqoUdAeyq3VF7MmMGBga2/xnW7nuWXfqMDIBdumM8LQIECBDoKoFuO5dT/zYApt4gApTiU0yAAAECFRLopnM59W8DYOqtJ0ApPsUECBAgUDGBbjmXU/82AKbeegKU4lNMgAABAhUU6IZzOfVvA2DqrSdAKT7FBAgQINDDAt0wyLXKp38bAFvNTq1OgFJ8igkQIECgRwW65avcVvn0bwNgq9kxAKbkFBMgQIBArwp000+6tWpoADQAtpodA2BKTjEBAgQI9KJAt/2kW6uGBkADYKvZMQCm5BQTIECAQC8KdNsNnVs1NAAaAFvNjgEwJaeYAAECBHpRoNt+0q1VQwOgAbDV7BgAU3KKCRAgQKAXBRwB7MW9tvPn7KfgEvvSXxAJPKUECBAg0HMC3faTbq0C6t+OALaaHUcAU3KKCRAgQKBXBbrpJ91aNTQAGgBbzY4BMCWnmAABAgR6WcB9AHt57/3vufsKOLEP/QWRwFNKgAABAj0t4JdAenr3GQAzu88AmNFTS4AAAQIEyhHQvx0BTCVPgFJ8igkQIECAQCkC+rcBMBU8AUrxKSZAgAABAqUI6N8GwFTwBCjFp5gAAQIECJQioH8bAFPBE6AUn2ICBAgQIFCKgP5tAEwFT4BSfIoJECBAgEApAvq3ATAVPAFK8SkmQIAAAQKlCOjfBsBU8AQoxaeYAAECBAiUIqB/GwBTwROgFJ9iAgQIECBQioD+bQBMBU+AUnyKCRAgQIBAKQL6twEwFby+vr746Ec/Gq+99lpMmDAhtS7FBAgQIECAQGcEigFw+vTp8a9//SsmTpzYmY122Vb8FnBih7z++uu1AHkQIECAAAECvSdQHMCZNm1a7z3xNjxjA2AC8b333ouNGzfGHnvsEWPGjEmsqTtLB/9CcoSz8/uHfefNB7fInn15AuVsuYqZHxgYiC1btsS+++4bY8eOLQe+5K0aAEveAd28eedIlLd32LMvT6C8Lct9Ofbcy3Eve6sGwLL3QBdv34dCeTuHPfvyBMrbstyXY8+9HPeyt2oALHsPdPH2fSiUt3PYsy9PoLwty3059tzLcS97qwbAsvdAF29/69atcfXVV8cll1wSu+++exc/09H31NiXt0/Zsy9PoJwty3w57mVv1QBY9h6wfQIECBAgQIBAhwUMgB0GtzkCBAgQIECAQNkCBsCy94DtEyBAgAABAgQ6LGAA7DC4zREgQIAAAQIEyhYwAJa9B2yfAAECBAgQINBhAQNgh8F7bXPF1WGHH354/OEPf4hnnnkmZs+ePfQSnn322Tj//PPj8ccfj0mTJsU555wTV1xxxaj8VZRO7bdXX301vv3tb8fatWvjjTfeqN2l/rTTTovLLrssdtttN/YjvCNuvvnmuPbaa2PTpk1x8MEHx/XXXx+f+9znRnir1Vp9cWeBn//85/HCCy/Ehz70oTjiiCNi2bJlceCBBw5BFJ87F154YaxatSreeeedOPbYY6PYN1X9ya6RSEixHy699NJYvHhxLefFg/tISHfvOg2A3btvuuKZFR8OL730UvzqV7/aZgAs7ht1wAEHxDHHHFMbTl588cU488wz46qrrooLLrigK557Lz6JBx98MO6999449dRT4xOf+EQ899xzcfbZZ8fpp58eP/jBD2ovif3I7NnCvXAuBo0jjzwyVqxYEbfffns8//zzsd9++43MRiu41hNOOCEWLlwYn/nMZ+K///1v7fOj+GOycP7IRz5SE1m0aFGsWbMm7rjjjpg8eXLtM+Xtt9+Op556KsaNG1dBtfa+5CeeeCJOPvnkmDBhQu0zfHAA5N5e525fmwGw2/dQic+vGPq+9a1vxc9+9rPa0ZDhRwCXL19euz/gm2++OXSPwGuuuSZuuummeP311x0FbON+K45IFd6vvPJKba3s24g7bFXFke45c+bUfAcfn/70p+PEE0+s3Q/TY2QE/vGPf8Tee+8dDz30UBx99NHR19cXe+21V9x1111xyimn1DZa/Ob69OnT44EHHojjjz9+ZJ5IRdb673//u5bz4g+d73znO7VvdYoBkHtFAjDsZRoAq7fPG3rFxWB36KGHxn333Rcf+9jHYsaMGdsMgGeccUbtA2P16tVD6ysGxOKDpRhUiuU92iNw+eWXR3Fk8Mknn6ytkH17XIev5T//+U98+MMfjp/85Cdx0kknDf2n4gj4+vXra8OJx8gI/PnPf45PfvKTtaOAs2bNqp3+UHzlWxzx23PPPYc2esghh9SG8aVLl47ME6nIWr/2ta/VTtm57rrr4gtf+MLQAMi9IgEwAFZvRzfzigcGBuLLX/5y7WuwYvgozkvbfgA87rjjYv/9949bb711aNXFX+lTp06NRx99NObNm9fMJi27C4GXX365NlT/8Ic/jK9//eu1pdi3Py6D2f39739fOydt8PG9730v7rzzzvjTn/7U/o1aYxSfNQsWLIh//vOf8bvf/a4mcvfdd8dZZ51VOx9t+KPIffE5VHw179GawD333FM76lf8MTl+/PhtBkDurZn2cpUjgL2895p87kuWLKn713NxbkgxwBXnQz388MO18212NQBu/2G8YcOG2kna69ati7lz5zb57Eb34o3aH3bYYdsM1J///Oej+Kc4F23wsbNGyD6Xn1398fLd73639lVkccGCR/sFzjvvvPjlL38ZjzzyyNAFHrsaRL70pS/FzJkz45Zbbmn/E6nAGl977bUoPl9+85vfRHE0tXgMPwLIvQIh2O4lGgArtM/feuutKP75oEdxVK84Qbs4AXvMmDFDi7777ru1YfCrX/1q7YiIryGbC06j9sVf5cWjGEiKk7OL89KKE+HHjh07tEH2zdk3srSvgBtRau8y3/zmN2unmBR/aA4/ZcRXke11HlxbYV2c3jD8Ipric734nC8+X37961/HF7/4RV+9jwx/V67VANiVu6XcJ/W3v/2tdqXp4KMYRooTr3/605/WBpLiKF9xonxxC4HiXMHB25MUt3K48cYbXQSS3H3F0bxi+CvOwVy5cuUOVz2yTwLvorzIdmFenBw/+DjooINqX1G6CKR95sXXvsXw94tf/CJ++9vf1s7/G/4YvBihyH5xpWrxKG7LU3zuuAik9f2wZcuW+Otf/7rNCoqv2j/1qU/FxRdfXLvIprj4hnvrxr1WaQDstT1WwvPd2VfAxYd0cd+u+fPn1wbB4lYxxW1grrzySreBSeyjYtguvvItbjvy4x//eJvhb5999qmtmX0C+ANKB28DU3zFWJzDWpzfetttt8Uf//jH+PjHPz4yG63gWr/xjW/UzvMrLiAbfu+/iRMn1u4LWDyK25Hcf//9taPfxQULxT0BN2/e7DYwbc7L8K+AubcZtwdWZwDsgZ1U9lPc2QBYPKfiqr3iHJ7iRtDF1XrnnntubQAc/tVx2c+917ZfNLzir/KdPYojJ4MP9iOzZ4ujf9///vdrR5yKK1KLKyWLW5N4tE9gV58PP/rRj2p/RBaP/v7+uOiii2qD4vAbQRdHqTzaJ7D9AMi9fba9sCYDYC/sJc+RAAECBAgQINBGAQNgGzGtigABAgQIECDQCwIGwF7YS54jAQIECBAgQKCNAgbANmJaFQECBAgQIECgFwQMgL2wlzxHAgQIECBAgEAbBQyAbcS0KgIECBAgQIBALwgYAHthL3mOBAgQIECAAIE2ChgA24hpVQQIECBAgACBXhAwAPbCXvIcCRAgQIAAAQJtFDAAthHTqggQIECAAAECvSBgAOyFveQ5EiBAgAABAgTaKGAAbCOmVREgQIAAAQIEekHAANgLe8lzJECAAAECBAi0UcAA2EZMqyJAgAABAgQI9IKAAbAX9pLnSIAAAQIECBBoo4ABsI2YVkWAAAECBAgQ6AUBA2Av7CXPkQABAgQIECDQRgEDYBsxrYoAAQIECBAg0AsCBsBe2EueIwECBAgQIECgjQIGwDZiWhUBAgQIECBAoBcEDIC9sJc8RwIECBAgQIBAGwUMgG3EtCoCBAgQIECAQC8IGAB7YS95jgQIECBAgACBNgoYANuIaVUECBAgQIAAgV4QMAD2wl7yHAkQIECAAAECbRQwALYR06oIECBAgAABAr0gYADshb3kORIgQIAAAQIE2ihgAGwjplURIECAAAECBHpBwADYC3vJcyRAgAABAgQItFHAANhGTKsiQIAAAQIECPSCgAGwF/aS50iAAAECBAgQaKOAAbCNmFZFgAABAgQIEOgFgf8PFP4yqggMpA4AAAAASUVORK5CYII=\" width=\"640\">"
      ],
      "text/plain": [
       "<IPython.core.display.HTML object>"
      ]
     },
     "metadata": {},
     "output_type": "display_data"
    },
    {
     "data": {
      "text/plain": [
       "[<matplotlib.lines.Line2D at 0x1787681b630>]"
      ]
     },
     "execution_count": 92,
     "metadata": {},
     "output_type": "execute_result"
    }
   ],
   "source": [
    "# Para que las gráficas se muestren sobre el propio notebook, en lugar de en una ventana, hay que escribir:\n",
    "%matplotlib notebook    \n",
    "\n",
    "from matplotlib import pyplot  # pyplot es el módulo que permite dibujar gráficas matemáticas\n",
    "\n",
    "x = []   # \"x\" es una lista vacía, es decir, aún no contiene elementos\n",
    "y = []   # \"y\" también es una lista vacía\n",
    "for i in range(20):\n",
    "    x.append(randint(-50, 50))\n",
    "    y.append(randint(-50, 50))\n",
    "\n",
    "# El tercer parámetro sirve para especificar el formato de la representación gráfica de los datos\n",
    "pyplot.plot(x, y, \"o\")"
   ]
  },
  {
   "cell_type": "markdown",
   "metadata": {},
   "source": [
    "Todos los paquetes, módulos y librerías más usados están ampliamente documentados en Internet: sólo tienes que hacer una consulta a tu buscador favorito. Por ejemplo, si quieres ver qué otras cosas se pueden hacer con la función *plot*, puedes verlo aquí: https://matplotlib.org/api/pyplot_api.html#matplotlib.pyplot.plot"
   ]
  },
  {
   "cell_type": "markdown",
   "metadata": {},
   "source": [
    "### ¡Prueba tú!"
   ]
  },
  {
   "cell_type": "markdown",
   "metadata": {},
   "source": [
    "Intenta completar el siguiente código para mostrar una gráfica de la función coseno para los valores de la x contenidos en el intervalo \\[-10,10\\]. Busca documentación sobre el módulo **math** para ver cómo calcular el coseno de un número [prueba buscando en Google \"math Python 3\"](https://www.google.es/search?q=math+Python+3)."
   ]
  },
  {
   "cell_type": "code",
   "execution_count": 97,
   "metadata": {},
   "outputs": [
    {
     "data": {
      "application/javascript": [
       "/* Put everything inside the global mpl namespace */\n",
       "window.mpl = {};\n",
       "\n",
       "\n",
       "mpl.get_websocket_type = function() {\n",
       "    if (typeof(WebSocket) !== 'undefined') {\n",
       "        return WebSocket;\n",
       "    } else if (typeof(MozWebSocket) !== 'undefined') {\n",
       "        return MozWebSocket;\n",
       "    } else {\n",
       "        alert('Your browser does not have WebSocket support.' +\n",
       "              'Please try Chrome, Safari or Firefox ≥ 6. ' +\n",
       "              'Firefox 4 and 5 are also supported but you ' +\n",
       "              'have to enable WebSockets in about:config.');\n",
       "    };\n",
       "}\n",
       "\n",
       "mpl.figure = function(figure_id, websocket, ondownload, parent_element) {\n",
       "    this.id = figure_id;\n",
       "\n",
       "    this.ws = websocket;\n",
       "\n",
       "    this.supports_binary = (this.ws.binaryType != undefined);\n",
       "\n",
       "    if (!this.supports_binary) {\n",
       "        var warnings = document.getElementById(\"mpl-warnings\");\n",
       "        if (warnings) {\n",
       "            warnings.style.display = 'block';\n",
       "            warnings.textContent = (\n",
       "                \"This browser does not support binary websocket messages. \" +\n",
       "                    \"Performance may be slow.\");\n",
       "        }\n",
       "    }\n",
       "\n",
       "    this.imageObj = new Image();\n",
       "\n",
       "    this.context = undefined;\n",
       "    this.message = undefined;\n",
       "    this.canvas = undefined;\n",
       "    this.rubberband_canvas = undefined;\n",
       "    this.rubberband_context = undefined;\n",
       "    this.format_dropdown = undefined;\n",
       "\n",
       "    this.image_mode = 'full';\n",
       "\n",
       "    this.root = $('<div/>');\n",
       "    this._root_extra_style(this.root)\n",
       "    this.root.attr('style', 'display: inline-block');\n",
       "\n",
       "    $(parent_element).append(this.root);\n",
       "\n",
       "    this._init_header(this);\n",
       "    this._init_canvas(this);\n",
       "    this._init_toolbar(this);\n",
       "\n",
       "    var fig = this;\n",
       "\n",
       "    this.waiting = false;\n",
       "\n",
       "    this.ws.onopen =  function () {\n",
       "            fig.send_message(\"supports_binary\", {value: fig.supports_binary});\n",
       "            fig.send_message(\"send_image_mode\", {});\n",
       "            if (mpl.ratio != 1) {\n",
       "                fig.send_message(\"set_dpi_ratio\", {'dpi_ratio': mpl.ratio});\n",
       "            }\n",
       "            fig.send_message(\"refresh\", {});\n",
       "        }\n",
       "\n",
       "    this.imageObj.onload = function() {\n",
       "            if (fig.image_mode == 'full') {\n",
       "                // Full images could contain transparency (where diff images\n",
       "                // almost always do), so we need to clear the canvas so that\n",
       "                // there is no ghosting.\n",
       "                fig.context.clearRect(0, 0, fig.canvas.width, fig.canvas.height);\n",
       "            }\n",
       "            fig.context.drawImage(fig.imageObj, 0, 0);\n",
       "        };\n",
       "\n",
       "    this.imageObj.onunload = function() {\n",
       "        fig.ws.close();\n",
       "    }\n",
       "\n",
       "    this.ws.onmessage = this._make_on_message_function(this);\n",
       "\n",
       "    this.ondownload = ondownload;\n",
       "}\n",
       "\n",
       "mpl.figure.prototype._init_header = function() {\n",
       "    var titlebar = $(\n",
       "        '<div class=\"ui-dialog-titlebar ui-widget-header ui-corner-all ' +\n",
       "        'ui-helper-clearfix\"/>');\n",
       "    var titletext = $(\n",
       "        '<div class=\"ui-dialog-title\" style=\"width: 100%; ' +\n",
       "        'text-align: center; padding: 3px;\"/>');\n",
       "    titlebar.append(titletext)\n",
       "    this.root.append(titlebar);\n",
       "    this.header = titletext[0];\n",
       "}\n",
       "\n",
       "\n",
       "\n",
       "mpl.figure.prototype._canvas_extra_style = function(canvas_div) {\n",
       "\n",
       "}\n",
       "\n",
       "\n",
       "mpl.figure.prototype._root_extra_style = function(canvas_div) {\n",
       "\n",
       "}\n",
       "\n",
       "mpl.figure.prototype._init_canvas = function() {\n",
       "    var fig = this;\n",
       "\n",
       "    var canvas_div = $('<div/>');\n",
       "\n",
       "    canvas_div.attr('style', 'position: relative; clear: both; outline: 0');\n",
       "\n",
       "    function canvas_keyboard_event(event) {\n",
       "        return fig.key_event(event, event['data']);\n",
       "    }\n",
       "\n",
       "    canvas_div.keydown('key_press', canvas_keyboard_event);\n",
       "    canvas_div.keyup('key_release', canvas_keyboard_event);\n",
       "    this.canvas_div = canvas_div\n",
       "    this._canvas_extra_style(canvas_div)\n",
       "    this.root.append(canvas_div);\n",
       "\n",
       "    var canvas = $('<canvas/>');\n",
       "    canvas.addClass('mpl-canvas');\n",
       "    canvas.attr('style', \"left: 0; top: 0; z-index: 0; outline: 0\")\n",
       "\n",
       "    this.canvas = canvas[0];\n",
       "    this.context = canvas[0].getContext(\"2d\");\n",
       "\n",
       "    var backingStore = this.context.backingStorePixelRatio ||\n",
       "\tthis.context.webkitBackingStorePixelRatio ||\n",
       "\tthis.context.mozBackingStorePixelRatio ||\n",
       "\tthis.context.msBackingStorePixelRatio ||\n",
       "\tthis.context.oBackingStorePixelRatio ||\n",
       "\tthis.context.backingStorePixelRatio || 1;\n",
       "\n",
       "    mpl.ratio = (window.devicePixelRatio || 1) / backingStore;\n",
       "\n",
       "    var rubberband = $('<canvas/>');\n",
       "    rubberband.attr('style', \"position: absolute; left: 0; top: 0; z-index: 1;\")\n",
       "\n",
       "    var pass_mouse_events = true;\n",
       "\n",
       "    canvas_div.resizable({\n",
       "        start: function(event, ui) {\n",
       "            pass_mouse_events = false;\n",
       "        },\n",
       "        resize: function(event, ui) {\n",
       "            fig.request_resize(ui.size.width, ui.size.height);\n",
       "        },\n",
       "        stop: function(event, ui) {\n",
       "            pass_mouse_events = true;\n",
       "            fig.request_resize(ui.size.width, ui.size.height);\n",
       "        },\n",
       "    });\n",
       "\n",
       "    function mouse_event_fn(event) {\n",
       "        if (pass_mouse_events)\n",
       "            return fig.mouse_event(event, event['data']);\n",
       "    }\n",
       "\n",
       "    rubberband.mousedown('button_press', mouse_event_fn);\n",
       "    rubberband.mouseup('button_release', mouse_event_fn);\n",
       "    // Throttle sequential mouse events to 1 every 20ms.\n",
       "    rubberband.mousemove('motion_notify', mouse_event_fn);\n",
       "\n",
       "    rubberband.mouseenter('figure_enter', mouse_event_fn);\n",
       "    rubberband.mouseleave('figure_leave', mouse_event_fn);\n",
       "\n",
       "    canvas_div.on(\"wheel\", function (event) {\n",
       "        event = event.originalEvent;\n",
       "        event['data'] = 'scroll'\n",
       "        if (event.deltaY < 0) {\n",
       "            event.step = 1;\n",
       "        } else {\n",
       "            event.step = -1;\n",
       "        }\n",
       "        mouse_event_fn(event);\n",
       "    });\n",
       "\n",
       "    canvas_div.append(canvas);\n",
       "    canvas_div.append(rubberband);\n",
       "\n",
       "    this.rubberband = rubberband;\n",
       "    this.rubberband_canvas = rubberband[0];\n",
       "    this.rubberband_context = rubberband[0].getContext(\"2d\");\n",
       "    this.rubberband_context.strokeStyle = \"#000000\";\n",
       "\n",
       "    this._resize_canvas = function(width, height) {\n",
       "        // Keep the size of the canvas, canvas container, and rubber band\n",
       "        // canvas in synch.\n",
       "        canvas_div.css('width', width)\n",
       "        canvas_div.css('height', height)\n",
       "\n",
       "        canvas.attr('width', width * mpl.ratio);\n",
       "        canvas.attr('height', height * mpl.ratio);\n",
       "        canvas.attr('style', 'width: ' + width + 'px; height: ' + height + 'px;');\n",
       "\n",
       "        rubberband.attr('width', width);\n",
       "        rubberband.attr('height', height);\n",
       "    }\n",
       "\n",
       "    // Set the figure to an initial 600x600px, this will subsequently be updated\n",
       "    // upon first draw.\n",
       "    this._resize_canvas(600, 600);\n",
       "\n",
       "    // Disable right mouse context menu.\n",
       "    $(this.rubberband_canvas).bind(\"contextmenu\",function(e){\n",
       "        return false;\n",
       "    });\n",
       "\n",
       "    function set_focus () {\n",
       "        canvas.focus();\n",
       "        canvas_div.focus();\n",
       "    }\n",
       "\n",
       "    window.setTimeout(set_focus, 100);\n",
       "}\n",
       "\n",
       "mpl.figure.prototype._init_toolbar = function() {\n",
       "    var fig = this;\n",
       "\n",
       "    var nav_element = $('<div/>')\n",
       "    nav_element.attr('style', 'width: 100%');\n",
       "    this.root.append(nav_element);\n",
       "\n",
       "    // Define a callback function for later on.\n",
       "    function toolbar_event(event) {\n",
       "        return fig.toolbar_button_onclick(event['data']);\n",
       "    }\n",
       "    function toolbar_mouse_event(event) {\n",
       "        return fig.toolbar_button_onmouseover(event['data']);\n",
       "    }\n",
       "\n",
       "    for(var toolbar_ind in mpl.toolbar_items) {\n",
       "        var name = mpl.toolbar_items[toolbar_ind][0];\n",
       "        var tooltip = mpl.toolbar_items[toolbar_ind][1];\n",
       "        var image = mpl.toolbar_items[toolbar_ind][2];\n",
       "        var method_name = mpl.toolbar_items[toolbar_ind][3];\n",
       "\n",
       "        if (!name) {\n",
       "            // put a spacer in here.\n",
       "            continue;\n",
       "        }\n",
       "        var button = $('<button/>');\n",
       "        button.addClass('ui-button ui-widget ui-state-default ui-corner-all ' +\n",
       "                        'ui-button-icon-only');\n",
       "        button.attr('role', 'button');\n",
       "        button.attr('aria-disabled', 'false');\n",
       "        button.click(method_name, toolbar_event);\n",
       "        button.mouseover(tooltip, toolbar_mouse_event);\n",
       "\n",
       "        var icon_img = $('<span/>');\n",
       "        icon_img.addClass('ui-button-icon-primary ui-icon');\n",
       "        icon_img.addClass(image);\n",
       "        icon_img.addClass('ui-corner-all');\n",
       "\n",
       "        var tooltip_span = $('<span/>');\n",
       "        tooltip_span.addClass('ui-button-text');\n",
       "        tooltip_span.html(tooltip);\n",
       "\n",
       "        button.append(icon_img);\n",
       "        button.append(tooltip_span);\n",
       "\n",
       "        nav_element.append(button);\n",
       "    }\n",
       "\n",
       "    var fmt_picker_span = $('<span/>');\n",
       "\n",
       "    var fmt_picker = $('<select/>');\n",
       "    fmt_picker.addClass('mpl-toolbar-option ui-widget ui-widget-content');\n",
       "    fmt_picker_span.append(fmt_picker);\n",
       "    nav_element.append(fmt_picker_span);\n",
       "    this.format_dropdown = fmt_picker[0];\n",
       "\n",
       "    for (var ind in mpl.extensions) {\n",
       "        var fmt = mpl.extensions[ind];\n",
       "        var option = $(\n",
       "            '<option/>', {selected: fmt === mpl.default_extension}).html(fmt);\n",
       "        fmt_picker.append(option)\n",
       "    }\n",
       "\n",
       "    // Add hover states to the ui-buttons\n",
       "    $( \".ui-button\" ).hover(\n",
       "        function() { $(this).addClass(\"ui-state-hover\");},\n",
       "        function() { $(this).removeClass(\"ui-state-hover\");}\n",
       "    );\n",
       "\n",
       "    var status_bar = $('<span class=\"mpl-message\"/>');\n",
       "    nav_element.append(status_bar);\n",
       "    this.message = status_bar[0];\n",
       "}\n",
       "\n",
       "mpl.figure.prototype.request_resize = function(x_pixels, y_pixels) {\n",
       "    // Request matplotlib to resize the figure. Matplotlib will then trigger a resize in the client,\n",
       "    // which will in turn request a refresh of the image.\n",
       "    this.send_message('resize', {'width': x_pixels, 'height': y_pixels});\n",
       "}\n",
       "\n",
       "mpl.figure.prototype.send_message = function(type, properties) {\n",
       "    properties['type'] = type;\n",
       "    properties['figure_id'] = this.id;\n",
       "    this.ws.send(JSON.stringify(properties));\n",
       "}\n",
       "\n",
       "mpl.figure.prototype.send_draw_message = function() {\n",
       "    if (!this.waiting) {\n",
       "        this.waiting = true;\n",
       "        this.ws.send(JSON.stringify({type: \"draw\", figure_id: this.id}));\n",
       "    }\n",
       "}\n",
       "\n",
       "\n",
       "mpl.figure.prototype.handle_save = function(fig, msg) {\n",
       "    var format_dropdown = fig.format_dropdown;\n",
       "    var format = format_dropdown.options[format_dropdown.selectedIndex].value;\n",
       "    fig.ondownload(fig, format);\n",
       "}\n",
       "\n",
       "\n",
       "mpl.figure.prototype.handle_resize = function(fig, msg) {\n",
       "    var size = msg['size'];\n",
       "    if (size[0] != fig.canvas.width || size[1] != fig.canvas.height) {\n",
       "        fig._resize_canvas(size[0], size[1]);\n",
       "        fig.send_message(\"refresh\", {});\n",
       "    };\n",
       "}\n",
       "\n",
       "mpl.figure.prototype.handle_rubberband = function(fig, msg) {\n",
       "    var x0 = msg['x0'] / mpl.ratio;\n",
       "    var y0 = (fig.canvas.height - msg['y0']) / mpl.ratio;\n",
       "    var x1 = msg['x1'] / mpl.ratio;\n",
       "    var y1 = (fig.canvas.height - msg['y1']) / mpl.ratio;\n",
       "    x0 = Math.floor(x0) + 0.5;\n",
       "    y0 = Math.floor(y0) + 0.5;\n",
       "    x1 = Math.floor(x1) + 0.5;\n",
       "    y1 = Math.floor(y1) + 0.5;\n",
       "    var min_x = Math.min(x0, x1);\n",
       "    var min_y = Math.min(y0, y1);\n",
       "    var width = Math.abs(x1 - x0);\n",
       "    var height = Math.abs(y1 - y0);\n",
       "\n",
       "    fig.rubberband_context.clearRect(\n",
       "        0, 0, fig.canvas.width, fig.canvas.height);\n",
       "\n",
       "    fig.rubberband_context.strokeRect(min_x, min_y, width, height);\n",
       "}\n",
       "\n",
       "mpl.figure.prototype.handle_figure_label = function(fig, msg) {\n",
       "    // Updates the figure title.\n",
       "    fig.header.textContent = msg['label'];\n",
       "}\n",
       "\n",
       "mpl.figure.prototype.handle_cursor = function(fig, msg) {\n",
       "    var cursor = msg['cursor'];\n",
       "    switch(cursor)\n",
       "    {\n",
       "    case 0:\n",
       "        cursor = 'pointer';\n",
       "        break;\n",
       "    case 1:\n",
       "        cursor = 'default';\n",
       "        break;\n",
       "    case 2:\n",
       "        cursor = 'crosshair';\n",
       "        break;\n",
       "    case 3:\n",
       "        cursor = 'move';\n",
       "        break;\n",
       "    }\n",
       "    fig.rubberband_canvas.style.cursor = cursor;\n",
       "}\n",
       "\n",
       "mpl.figure.prototype.handle_message = function(fig, msg) {\n",
       "    fig.message.textContent = msg['message'];\n",
       "}\n",
       "\n",
       "mpl.figure.prototype.handle_draw = function(fig, msg) {\n",
       "    // Request the server to send over a new figure.\n",
       "    fig.send_draw_message();\n",
       "}\n",
       "\n",
       "mpl.figure.prototype.handle_image_mode = function(fig, msg) {\n",
       "    fig.image_mode = msg['mode'];\n",
       "}\n",
       "\n",
       "mpl.figure.prototype.updated_canvas_event = function() {\n",
       "    // Called whenever the canvas gets updated.\n",
       "    this.send_message(\"ack\", {});\n",
       "}\n",
       "\n",
       "// A function to construct a web socket function for onmessage handling.\n",
       "// Called in the figure constructor.\n",
       "mpl.figure.prototype._make_on_message_function = function(fig) {\n",
       "    return function socket_on_message(evt) {\n",
       "        if (evt.data instanceof Blob) {\n",
       "            /* FIXME: We get \"Resource interpreted as Image but\n",
       "             * transferred with MIME type text/plain:\" errors on\n",
       "             * Chrome.  But how to set the MIME type?  It doesn't seem\n",
       "             * to be part of the websocket stream */\n",
       "            evt.data.type = \"image/png\";\n",
       "\n",
       "            /* Free the memory for the previous frames */\n",
       "            if (fig.imageObj.src) {\n",
       "                (window.URL || window.webkitURL).revokeObjectURL(\n",
       "                    fig.imageObj.src);\n",
       "            }\n",
       "\n",
       "            fig.imageObj.src = (window.URL || window.webkitURL).createObjectURL(\n",
       "                evt.data);\n",
       "            fig.updated_canvas_event();\n",
       "            fig.waiting = false;\n",
       "            return;\n",
       "        }\n",
       "        else if (typeof evt.data === 'string' && evt.data.slice(0, 21) == \"data:image/png;base64\") {\n",
       "            fig.imageObj.src = evt.data;\n",
       "            fig.updated_canvas_event();\n",
       "            fig.waiting = false;\n",
       "            return;\n",
       "        }\n",
       "\n",
       "        var msg = JSON.parse(evt.data);\n",
       "        var msg_type = msg['type'];\n",
       "\n",
       "        // Call the  \"handle_{type}\" callback, which takes\n",
       "        // the figure and JSON message as its only arguments.\n",
       "        try {\n",
       "            var callback = fig[\"handle_\" + msg_type];\n",
       "        } catch (e) {\n",
       "            console.log(\"No handler for the '\" + msg_type + \"' message type: \", msg);\n",
       "            return;\n",
       "        }\n",
       "\n",
       "        if (callback) {\n",
       "            try {\n",
       "                // console.log(\"Handling '\" + msg_type + \"' message: \", msg);\n",
       "                callback(fig, msg);\n",
       "            } catch (e) {\n",
       "                console.log(\"Exception inside the 'handler_\" + msg_type + \"' callback:\", e, e.stack, msg);\n",
       "            }\n",
       "        }\n",
       "    };\n",
       "}\n",
       "\n",
       "// from http://stackoverflow.com/questions/1114465/getting-mouse-location-in-canvas\n",
       "mpl.findpos = function(e) {\n",
       "    //this section is from http://www.quirksmode.org/js/events_properties.html\n",
       "    var targ;\n",
       "    if (!e)\n",
       "        e = window.event;\n",
       "    if (e.target)\n",
       "        targ = e.target;\n",
       "    else if (e.srcElement)\n",
       "        targ = e.srcElement;\n",
       "    if (targ.nodeType == 3) // defeat Safari bug\n",
       "        targ = targ.parentNode;\n",
       "\n",
       "    // jQuery normalizes the pageX and pageY\n",
       "    // pageX,Y are the mouse positions relative to the document\n",
       "    // offset() returns the position of the element relative to the document\n",
       "    var x = e.pageX - $(targ).offset().left;\n",
       "    var y = e.pageY - $(targ).offset().top;\n",
       "\n",
       "    return {\"x\": x, \"y\": y};\n",
       "};\n",
       "\n",
       "/*\n",
       " * return a copy of an object with only non-object keys\n",
       " * we need this to avoid circular references\n",
       " * http://stackoverflow.com/a/24161582/3208463\n",
       " */\n",
       "function simpleKeys (original) {\n",
       "  return Object.keys(original).reduce(function (obj, key) {\n",
       "    if (typeof original[key] !== 'object')\n",
       "        obj[key] = original[key]\n",
       "    return obj;\n",
       "  }, {});\n",
       "}\n",
       "\n",
       "mpl.figure.prototype.mouse_event = function(event, name) {\n",
       "    var canvas_pos = mpl.findpos(event)\n",
       "\n",
       "    if (name === 'button_press')\n",
       "    {\n",
       "        this.canvas.focus();\n",
       "        this.canvas_div.focus();\n",
       "    }\n",
       "\n",
       "    var x = canvas_pos.x * mpl.ratio;\n",
       "    var y = canvas_pos.y * mpl.ratio;\n",
       "\n",
       "    this.send_message(name, {x: x, y: y, button: event.button,\n",
       "                             step: event.step,\n",
       "                             guiEvent: simpleKeys(event)});\n",
       "\n",
       "    /* This prevents the web browser from automatically changing to\n",
       "     * the text insertion cursor when the button is pressed.  We want\n",
       "     * to control all of the cursor setting manually through the\n",
       "     * 'cursor' event from matplotlib */\n",
       "    event.preventDefault();\n",
       "    return false;\n",
       "}\n",
       "\n",
       "mpl.figure.prototype._key_event_extra = function(event, name) {\n",
       "    // Handle any extra behaviour associated with a key event\n",
       "}\n",
       "\n",
       "mpl.figure.prototype.key_event = function(event, name) {\n",
       "\n",
       "    // Prevent repeat events\n",
       "    if (name == 'key_press')\n",
       "    {\n",
       "        if (event.which === this._key)\n",
       "            return;\n",
       "        else\n",
       "            this._key = event.which;\n",
       "    }\n",
       "    if (name == 'key_release')\n",
       "        this._key = null;\n",
       "\n",
       "    var value = '';\n",
       "    if (event.ctrlKey && event.which != 17)\n",
       "        value += \"ctrl+\";\n",
       "    if (event.altKey && event.which != 18)\n",
       "        value += \"alt+\";\n",
       "    if (event.shiftKey && event.which != 16)\n",
       "        value += \"shift+\";\n",
       "\n",
       "    value += 'k';\n",
       "    value += event.which.toString();\n",
       "\n",
       "    this._key_event_extra(event, name);\n",
       "\n",
       "    this.send_message(name, {key: value,\n",
       "                             guiEvent: simpleKeys(event)});\n",
       "    return false;\n",
       "}\n",
       "\n",
       "mpl.figure.prototype.toolbar_button_onclick = function(name) {\n",
       "    if (name == 'download') {\n",
       "        this.handle_save(this, null);\n",
       "    } else {\n",
       "        this.send_message(\"toolbar_button\", {name: name});\n",
       "    }\n",
       "};\n",
       "\n",
       "mpl.figure.prototype.toolbar_button_onmouseover = function(tooltip) {\n",
       "    this.message.textContent = tooltip;\n",
       "};\n",
       "mpl.toolbar_items = [[\"Home\", \"Reset original view\", \"fa fa-home icon-home\", \"home\"], [\"Back\", \"Back to  previous view\", \"fa fa-arrow-left icon-arrow-left\", \"back\"], [\"Forward\", \"Forward to next view\", \"fa fa-arrow-right icon-arrow-right\", \"forward\"], [\"\", \"\", \"\", \"\"], [\"Pan\", \"Pan axes with left mouse, zoom with right\", \"fa fa-arrows icon-move\", \"pan\"], [\"Zoom\", \"Zoom to rectangle\", \"fa fa-square-o icon-check-empty\", \"zoom\"], [\"\", \"\", \"\", \"\"], [\"Download\", \"Download plot\", \"fa fa-floppy-o icon-save\", \"download\"]];\n",
       "\n",
       "mpl.extensions = [\"eps\", \"jpeg\", \"pdf\", \"png\", \"ps\", \"raw\", \"svg\", \"tif\"];\n",
       "\n",
       "mpl.default_extension = \"png\";var comm_websocket_adapter = function(comm) {\n",
       "    // Create a \"websocket\"-like object which calls the given IPython comm\n",
       "    // object with the appropriate methods. Currently this is a non binary\n",
       "    // socket, so there is still some room for performance tuning.\n",
       "    var ws = {};\n",
       "\n",
       "    ws.close = function() {\n",
       "        comm.close()\n",
       "    };\n",
       "    ws.send = function(m) {\n",
       "        //console.log('sending', m);\n",
       "        comm.send(m);\n",
       "    };\n",
       "    // Register the callback with on_msg.\n",
       "    comm.on_msg(function(msg) {\n",
       "        //console.log('receiving', msg['content']['data'], msg);\n",
       "        // Pass the mpl event to the overridden (by mpl) onmessage function.\n",
       "        ws.onmessage(msg['content']['data'])\n",
       "    });\n",
       "    return ws;\n",
       "}\n",
       "\n",
       "mpl.mpl_figure_comm = function(comm, msg) {\n",
       "    // This is the function which gets called when the mpl process\n",
       "    // starts-up an IPython Comm through the \"matplotlib\" channel.\n",
       "\n",
       "    var id = msg.content.data.id;\n",
       "    // Get hold of the div created by the display call when the Comm\n",
       "    // socket was opened in Python.\n",
       "    var element = $(\"#\" + id);\n",
       "    var ws_proxy = comm_websocket_adapter(comm)\n",
       "\n",
       "    function ondownload(figure, format) {\n",
       "        window.open(figure.imageObj.src);\n",
       "    }\n",
       "\n",
       "    var fig = new mpl.figure(id, ws_proxy,\n",
       "                           ondownload,\n",
       "                           element.get(0));\n",
       "\n",
       "    // Call onopen now - mpl needs it, as it is assuming we've passed it a real\n",
       "    // web socket which is closed, not our websocket->open comm proxy.\n",
       "    ws_proxy.onopen();\n",
       "\n",
       "    fig.parent_element = element.get(0);\n",
       "    fig.cell_info = mpl.find_output_cell(\"<div id='\" + id + \"'></div>\");\n",
       "    if (!fig.cell_info) {\n",
       "        console.error(\"Failed to find cell for figure\", id, fig);\n",
       "        return;\n",
       "    }\n",
       "\n",
       "    var output_index = fig.cell_info[2]\n",
       "    var cell = fig.cell_info[0];\n",
       "\n",
       "};\n",
       "\n",
       "mpl.figure.prototype.handle_close = function(fig, msg) {\n",
       "    var width = fig.canvas.width/mpl.ratio\n",
       "    fig.root.unbind('remove')\n",
       "\n",
       "    // Update the output cell to use the data from the current canvas.\n",
       "    fig.push_to_output();\n",
       "    var dataURL = fig.canvas.toDataURL();\n",
       "    // Re-enable the keyboard manager in IPython - without this line, in FF,\n",
       "    // the notebook keyboard shortcuts fail.\n",
       "    IPython.keyboard_manager.enable()\n",
       "    $(fig.parent_element).html('<img src=\"' + dataURL + '\" width=\"' + width + '\">');\n",
       "    fig.close_ws(fig, msg);\n",
       "}\n",
       "\n",
       "mpl.figure.prototype.close_ws = function(fig, msg){\n",
       "    fig.send_message('closing', msg);\n",
       "    // fig.ws.close()\n",
       "}\n",
       "\n",
       "mpl.figure.prototype.push_to_output = function(remove_interactive) {\n",
       "    // Turn the data on the canvas into data in the output cell.\n",
       "    var width = this.canvas.width/mpl.ratio\n",
       "    var dataURL = this.canvas.toDataURL();\n",
       "    this.cell_info[1]['text/html'] = '<img src=\"' + dataURL + '\" width=\"' + width + '\">';\n",
       "}\n",
       "\n",
       "mpl.figure.prototype.updated_canvas_event = function() {\n",
       "    // Tell IPython that the notebook contents must change.\n",
       "    IPython.notebook.set_dirty(true);\n",
       "    this.send_message(\"ack\", {});\n",
       "    var fig = this;\n",
       "    // Wait a second, then push the new image to the DOM so\n",
       "    // that it is saved nicely (might be nice to debounce this).\n",
       "    setTimeout(function () { fig.push_to_output() }, 1000);\n",
       "}\n",
       "\n",
       "mpl.figure.prototype._init_toolbar = function() {\n",
       "    var fig = this;\n",
       "\n",
       "    var nav_element = $('<div/>')\n",
       "    nav_element.attr('style', 'width: 100%');\n",
       "    this.root.append(nav_element);\n",
       "\n",
       "    // Define a callback function for later on.\n",
       "    function toolbar_event(event) {\n",
       "        return fig.toolbar_button_onclick(event['data']);\n",
       "    }\n",
       "    function toolbar_mouse_event(event) {\n",
       "        return fig.toolbar_button_onmouseover(event['data']);\n",
       "    }\n",
       "\n",
       "    for(var toolbar_ind in mpl.toolbar_items){\n",
       "        var name = mpl.toolbar_items[toolbar_ind][0];\n",
       "        var tooltip = mpl.toolbar_items[toolbar_ind][1];\n",
       "        var image = mpl.toolbar_items[toolbar_ind][2];\n",
       "        var method_name = mpl.toolbar_items[toolbar_ind][3];\n",
       "\n",
       "        if (!name) { continue; };\n",
       "\n",
       "        var button = $('<button class=\"btn btn-default\" href=\"#\" title=\"' + name + '\"><i class=\"fa ' + image + ' fa-lg\"></i></button>');\n",
       "        button.click(method_name, toolbar_event);\n",
       "        button.mouseover(tooltip, toolbar_mouse_event);\n",
       "        nav_element.append(button);\n",
       "    }\n",
       "\n",
       "    // Add the status bar.\n",
       "    var status_bar = $('<span class=\"mpl-message\" style=\"text-align:right; float: right;\"/>');\n",
       "    nav_element.append(status_bar);\n",
       "    this.message = status_bar[0];\n",
       "\n",
       "    // Add the close button to the window.\n",
       "    var buttongrp = $('<div class=\"btn-group inline pull-right\"></div>');\n",
       "    var button = $('<button class=\"btn btn-mini btn-primary\" href=\"#\" title=\"Stop Interaction\"><i class=\"fa fa-power-off icon-remove icon-large\"></i></button>');\n",
       "    button.click(function (evt) { fig.handle_close(fig, {}); } );\n",
       "    button.mouseover('Stop Interaction', toolbar_mouse_event);\n",
       "    buttongrp.append(button);\n",
       "    var titlebar = this.root.find($('.ui-dialog-titlebar'));\n",
       "    titlebar.prepend(buttongrp);\n",
       "}\n",
       "\n",
       "mpl.figure.prototype._root_extra_style = function(el){\n",
       "    var fig = this\n",
       "    el.on(\"remove\", function(){\n",
       "\tfig.close_ws(fig, {});\n",
       "    });\n",
       "}\n",
       "\n",
       "mpl.figure.prototype._canvas_extra_style = function(el){\n",
       "    // this is important to make the div 'focusable\n",
       "    el.attr('tabindex', 0)\n",
       "    // reach out to IPython and tell the keyboard manager to turn it's self\n",
       "    // off when our div gets focus\n",
       "\n",
       "    // location in version 3\n",
       "    if (IPython.notebook.keyboard_manager) {\n",
       "        IPython.notebook.keyboard_manager.register_events(el);\n",
       "    }\n",
       "    else {\n",
       "        // location in version 2\n",
       "        IPython.keyboard_manager.register_events(el);\n",
       "    }\n",
       "\n",
       "}\n",
       "\n",
       "mpl.figure.prototype._key_event_extra = function(event, name) {\n",
       "    var manager = IPython.notebook.keyboard_manager;\n",
       "    if (!manager)\n",
       "        manager = IPython.keyboard_manager;\n",
       "\n",
       "    // Check for shift+enter\n",
       "    if (event.shiftKey && event.which == 13) {\n",
       "        this.canvas_div.blur();\n",
       "        event.shiftKey = false;\n",
       "        // Send a \"J\" for go to next cell\n",
       "        event.which = 74;\n",
       "        event.keyCode = 74;\n",
       "        manager.command_mode();\n",
       "        manager.handle_keydown(event);\n",
       "    }\n",
       "}\n",
       "\n",
       "mpl.figure.prototype.handle_save = function(fig, msg) {\n",
       "    fig.ondownload(fig, null);\n",
       "}\n",
       "\n",
       "\n",
       "mpl.find_output_cell = function(html_output) {\n",
       "    // Return the cell and output element which can be found *uniquely* in the notebook.\n",
       "    // Note - this is a bit hacky, but it is done because the \"notebook_saving.Notebook\"\n",
       "    // IPython event is triggered only after the cells have been serialised, which for\n",
       "    // our purposes (turning an active figure into a static one), is too late.\n",
       "    var cells = IPython.notebook.get_cells();\n",
       "    var ncells = cells.length;\n",
       "    for (var i=0; i<ncells; i++) {\n",
       "        var cell = cells[i];\n",
       "        if (cell.cell_type === 'code'){\n",
       "            for (var j=0; j<cell.output_area.outputs.length; j++) {\n",
       "                var data = cell.output_area.outputs[j];\n",
       "                if (data.data) {\n",
       "                    // IPython >= 3 moved mimebundle to data attribute of output\n",
       "                    data = data.data;\n",
       "                }\n",
       "                if (data['text/html'] == html_output) {\n",
       "                    return [cell, data, j];\n",
       "                }\n",
       "            }\n",
       "        }\n",
       "    }\n",
       "}\n",
       "\n",
       "// Register the function which deals with the matplotlib target/channel.\n",
       "// The kernel may be null if the page has been refreshed.\n",
       "if (IPython.notebook.kernel != null) {\n",
       "    IPython.notebook.kernel.comm_manager.register_target('matplotlib', mpl.mpl_figure_comm);\n",
       "}\n"
      ],
      "text/plain": [
       "<IPython.core.display.Javascript object>"
      ]
     },
     "metadata": {},
     "output_type": "display_data"
    },
    {
     "data": {
      "text/html": [
       "<img src=\"data:image/png;base64,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\" width=\"640\">"
      ],
      "text/plain": [
       "<IPython.core.display.HTML object>"
      ]
     },
     "metadata": {},
     "output_type": "display_data"
    },
    {
     "data": {
      "text/plain": [
       "[<matplotlib.lines.Line2D at 0x17877ff9400>]"
      ]
     },
     "execution_count": 97,
     "metadata": {},
     "output_type": "execute_result"
    }
   ],
   "source": [
    "%matplotlib notebook    \n",
    "import math\n",
    "\n",
    "lista_x = []  # En esta lista guardaremos los valores para los que vamos a calcular el coseno\n",
    "for i in range(-100, 101):\n",
    "    lista_x.append(i/10)\n",
    "# ESCRIBE AQUÍ una instrucción para \"añadir a lista_x el valor i / 10\"\n",
    "    \n",
    "lista_y = []  # En esta lista guardaremos los cosenos de los valores anteriores\n",
    "for x in lista_x:\n",
    "    lista_y.append(math.cos(x))# ESCRIBE AQUÍ una instrucción para \"añadir a lista_y el valor coseno(x)\"\n",
    "    \n",
    "pyplot.plot(lista_x, lista_y, \"o\")\n",
    "# ESCRIBE AQUÍ una instrucción para dibujar la gráfica correspondiente a las coordenadas lista_x y lista_y.\n",
    "# Elige las opciones de formato de la representación gráfica que quieras\n"
   ]
  },
  {
   "cell_type": "markdown",
   "metadata": {
    "collapsed": true
   },
   "source": [
    "Cuando construimos una lista a partir de otra, como ocurre con *lista_y* en el código que acabas de completar, podemos hacerlo de una forma muy compacta llamada **definición de listas por comprensión**. Observa el siguiente ejemplo:"
   ]
  },
  {
   "cell_type": "code",
   "execution_count": 98,
   "metadata": {},
   "outputs": [
    {
     "name": "stdout",
     "output_type": "stream",
     "text": [
      "[-0.8390715290764524, -0.8891911526253609, -0.9304262721047533, -0.9623648798313102, -0.984687855794127, -0.9971721561963784, -0.9996930420352065, -0.9922253254526034, -0.9748436214041636, -0.9477216021311119, -0.9111302618846769, -0.8654352092411123, -0.811093014061656, -0.7486466455973987, -0.6787200473200125, -0.6020119026848236, -0.5192886541166856, -0.43137684497062084, -0.3391548609838345, -0.2435441537357911, -0.14550003380861354, -0.04600212563953695, 0.05395542056264975, 0.15337386203786435, 0.2512598425822557, 0.3466353178350258, 0.43854732757439036, 0.5260775173811053, 0.6083513145322546, 0.6845466664428066, 0.7539022543433046, 0.8157251001253568, 0.8693974903498253, 0.9143831482353194, 0.9502325919585296, 0.9765876257280235, 0.9931849187581926, 0.9998586363834151, 0.9965420970232175, 0.9832684384425845, 0.960170286650366, 0.9274784307440359, 0.8855195169413189, 0.8347127848391598, 0.7755658785102496, 0.70866977429126, 0.6346928759426347, 0.5543743361791608, 0.4685166713003771, 0.37797774271298024, 0.28366218546322625, 0.18651236942257576, 0.0874989834394464, -0.01238866346289056, -0.11215252693505487, -0.2107957994307797, -0.30733286997841935, -0.40079917207997545, -0.4902608213406994, -0.5748239465332692, -0.6536436208636119, -0.7259323042001402, -0.7909677119144168, -0.848100031710408, -0.896758416334147, -0.9364566872907963, -0.9667981925794611, -0.9874797699088649, -0.9982947757947531, -0.9991351502732795, -0.9899924966004454, -0.9709581651495905, -0.9422223406686581, -0.9040721420170612, -0.8568887533689473, -0.8011436155469337, -0.7373937155412454, -0.666276021279824, -0.5885011172553458, -0.5048461045998576, -0.4161468365471424, -0.32328956686350335, -0.2272020946930871, -0.12884449429552464, -0.029199522301288815, 0.0707372016677029, 0.16996714290024104, 0.26749882862458735, 0.3623577544766736, 0.4535961214255773, 0.5403023058681398, 0.6216099682706644, 0.6967067093471654, 0.7648421872844885, 0.8253356149096783, 0.8775825618903728, 0.9210609940028851, 0.955336489125606, 0.9800665778412416, 0.9950041652780258, 1.0, 0.9950041652780258, 0.9800665778412416, 0.955336489125606, 0.9210609940028851, 0.8775825618903728, 0.8253356149096783, 0.7648421872844885, 0.6967067093471654, 0.6216099682706644, 0.5403023058681398, 0.4535961214255773, 0.3623577544766736, 0.26749882862458735, 0.16996714290024104, 0.0707372016677029, -0.029199522301288815, -0.12884449429552464, -0.2272020946930871, -0.32328956686350335, -0.4161468365471424, -0.5048461045998576, -0.5885011172553458, -0.666276021279824, -0.7373937155412454, -0.8011436155469337, -0.8568887533689473, -0.9040721420170612, -0.9422223406686581, -0.9709581651495905, -0.9899924966004454, -0.9991351502732795, -0.9982947757947531, -0.9874797699088649, -0.9667981925794611, -0.9364566872907963, -0.896758416334147, -0.848100031710408, -0.7909677119144168, -0.7259323042001402, -0.6536436208636119, -0.5748239465332692, -0.4902608213406994, -0.40079917207997545, -0.30733286997841935, -0.2107957994307797, -0.11215252693505487, -0.01238866346289056, 0.0874989834394464, 0.18651236942257576, 0.28366218546322625, 0.37797774271298024, 0.4685166713003771, 0.5543743361791608, 0.6346928759426347, 0.70866977429126, 0.7755658785102496, 0.8347127848391598, 0.8855195169413189, 0.9274784307440359, 0.960170286650366, 0.9832684384425845, 0.9965420970232175, 0.9998586363834151, 0.9931849187581926, 0.9765876257280235, 0.9502325919585296, 0.9143831482353194, 0.8693974903498253, 0.8157251001253568, 0.7539022543433046, 0.6845466664428066, 0.6083513145322546, 0.5260775173811053, 0.43854732757439036, 0.3466353178350258, 0.2512598425822557, 0.15337386203786435, 0.05395542056264975, -0.04600212563953695, -0.14550003380861354, -0.2435441537357911, -0.3391548609838345, -0.43137684497062084, -0.5192886541166856, -0.6020119026848236, -0.6787200473200125, -0.7486466455973987, -0.811093014061656, -0.8654352092411123, -0.9111302618846769, -0.9477216021311119, -0.9748436214041636, -0.9922253254526034, -0.9996930420352065, -0.9971721561963784, -0.984687855794127, -0.9623648798313102, -0.9304262721047533, -0.8891911526253609, -0.8390715290764524]\n"
     ]
    }
   ],
   "source": [
    "lista_y = [math.cos(x) for x in lista_x]\n",
    "print(lista_y)"
   ]
  },
  {
   "cell_type": "markdown",
   "metadata": {},
   "source": [
    "## 8. Ficheros"
   ]
  },
  {
   "cell_type": "markdown",
   "metadata": {},
   "source": [
    "Es muy habitual trabajar con **ficheros** (quizás estés acostumbrado a referirte a ellos como \"archivos\", que es un sinónimo). Aunque los ficheros pueden contener todo tipo de datos, nosotros trabajaremos con ficheros de texto. Al igual que haces tú mismo cuando quieres trabajar con un documento en el ordenador, para trabajar con un fichero en Python primero tenemos que abrirlo; después podemos leer o escribir datos en el mismo, y finalmente hemos de cerrarlo. Aquí tienes un pequeño ejemplo que abre un fichero de texto y muestra su contenido en pantalla:\n"
   ]
  },
  {
   "cell_type": "code",
   "execution_count": 100,
   "metadata": {},
   "outputs": [
    {
     "name": "stdout",
     "output_type": "stream",
     "text": [
      "Un pequeño texto de prueba.\n",
      "\n",
      "Sólo hay dos líneas en este fichero.\n"
     ]
    }
   ],
   "source": [
    "with open(\"prueba.txt\") as f:\n",
    "    for linea in f:\n",
    "        print(linea)\n",
    "\n",
    "# El archivo se cierra automáticamente cuando acaban las instrucciones escritas dentro de la instrucción \"with\""
   ]
  },
  {
   "cell_type": "markdown",
   "metadata": {},
   "source": [
    "Si el código anterior ocasiona un error al ser ejecutado, asegúrate de que tienes el archivo *prueba.txt* en la misma carpeta desde la que estás ejecutando este notebook."
   ]
  },
  {
   "cell_type": "markdown",
   "metadata": {},
   "source": [
    "## 9. Función principal"
   ]
  },
  {
   "cell_type": "markdown",
   "metadata": {},
   "source": [
    "Cuando escribimos nuestro código en un fichero de texto con extensión \".py\", estamos definiendo un módulo. Otros programadores podrán importar nuestro módulo, y hacer uso en sus programas de las funciones que hayamos definido en el mismo, o de las variables y objetos que aparezcan definidos sin indentar.\n",
    "\n",
    "Sin embargo, algunas veces queremos que el código que hemos escrito sea ejecutado por un usuario; es decir, estamos definiendo un **programa ejecutable**. En este caso, el usuario puede ejecutar el programa con el siguiente comando, escrito desde el **terminal** o **ventana de comandos** del sistema operativo:\n",
    "\n",
    "<pre>\n",
    "python nombre_fichero.py\n",
    "</pre>\n",
    "\n",
    "Cuando un programa es ejecutable, debe existir un **punto de entrada**. Un punto de entrada es un conjunto de instrucciones que se ejecutarán cuando se lance el programa. En Python, estas instrucciones se deben escribir dentro de un bloque **if** como el que se muestra a continuación:"
   ]
  },
  {
   "cell_type": "code",
   "execution_count": 102,
   "metadata": {},
   "outputs": [
    {
     "name": "stdout",
     "output_type": "stream",
     "text": [
      "Buenas tardes, Fermín\n"
     ]
    }
   ],
   "source": [
    "if __name__ == '__main__':\n",
    "    # Aquí vienen las instrucciones que definen el punto de entrada del programa\n",
    "    horaActual = datetime.now() \n",
    "    saluda(\"Fermín\", horaActual.hour)\n",
    "    "
   ]
  },
  {
   "cell_type": "markdown",
   "metadata": {},
   "source": [
    "A veces, el conjunto de instrucciones que definen el punto de entrada se escribe dentro de una función, a la que se le suele dar el nombre **main**. Esto en Python no es obligatorio, aunque sí lo es en otros lenguajes de programación. Si queremos hacerlo así, entonces el programa ejecutable anterior quedaría como sigue (se muestra a continuación el programa completo, con las sentencias *import* y las definiciones de funciones necesarias):\n"
   ]
  },
  {
   "cell_type": "code",
   "execution_count": 103,
   "metadata": {},
   "outputs": [
    {
     "name": "stdout",
     "output_type": "stream",
     "text": [
      "Buenas tardes, Fermín\n"
     ]
    }
   ],
   "source": [
    "from datetime import datetime\n",
    "\n",
    "\n",
    "def main():\n",
    "    horaActual = datetime.now() \n",
    "    saluda(\"Fermín\", horaActual.hour)\n",
    "\n",
    "\n",
    "def saluda(nombre, hora):\n",
    "    if hora < 12:     # Si el parámetro \"hora\" es menor de 12, se ejecuta el siguiente bloque de instrucciones\n",
    "        print(\"Buenos días, \" + nombre)\n",
    "    elif hora < 21:   # En otro caso, si el parámetro \"hora\" es menor de 21, se ejecuta el siguiente bloque de instrucciones\n",
    "        print(\"Buenas tardes, \" + nombre)\n",
    "    else:           # En cualquier otro caso, se ejecuta el siguiente bloque de instrucciones\n",
    "        print(\"Buenas noches, \" + nombre)\n",
    "\n",
    "\n",
    "if __name__ == '__main__':\n",
    "    main()\n",
    " "
   ]
  },
  {
   "cell_type": "markdown",
   "metadata": {},
   "source": [
    "### ¡Prueba tú!"
   ]
  },
  {
   "cell_type": "markdown",
   "metadata": {},
   "source": [
    "Escribe el código anterior en un fichero de texto llamado \"saluda.py\", y trata de ejecutarlo desde el terminal o ventana de comandos de tu sistema operativo."
   ]
  },
  {
   "cell_type": "markdown",
   "metadata": {},
   "source": [
    "---\n",
    "\n",
    "Ya sabes lo básico para entender programas simples escritos en Python y para escribir los tuyos propios. **¡Feliz programación!**"
   ]
  },
  {
   "cell_type": "code",
   "execution_count": 104,
   "metadata": {},
   "outputs": [
    {
     "name": "stdout",
     "output_type": "stream",
     "text": [
      "The Zen of Python, by Tim Peters\n",
      "\n",
      "Beautiful is better than ugly.\n",
      "Explicit is better than implicit.\n",
      "Simple is better than complex.\n",
      "Complex is better than complicated.\n",
      "Flat is better than nested.\n",
      "Sparse is better than dense.\n",
      "Readability counts.\n",
      "Special cases aren't special enough to break the rules.\n",
      "Although practicality beats purity.\n",
      "Errors should never pass silently.\n",
      "Unless explicitly silenced.\n",
      "In the face of ambiguity, refuse the temptation to guess.\n",
      "There should be one-- and preferably only one --obvious way to do it.\n",
      "Although that way may not be obvious at first unless you're Dutch.\n",
      "Now is better than never.\n",
      "Although never is often better than *right* now.\n",
      "If the implementation is hard to explain, it's a bad idea.\n",
      "If the implementation is easy to explain, it may be a good idea.\n",
      "Namespaces are one honking great idea -- let's do more of those!\n"
     ]
    }
   ],
   "source": [
    "# ¿Conoces el \"Zen de Python\"?\n",
    "import this"
   ]
  },
  {
   "cell_type": "code",
   "execution_count": null,
   "metadata": {
    "collapsed": true
   },
   "outputs": [],
   "source": []
  }
 ],
 "metadata": {
  "anaconda-cloud": {},
  "celltoolbar": "Raw Cell Format",
  "kernelspec": {
   "display_name": "Python 3",
   "language": "python",
   "name": "python3"
  },
  "language_info": {
   "codemirror_mode": {
    "name": "ipython",
    "version": 3
   },
   "file_extension": ".py",
   "mimetype": "text/x-python",
   "name": "python",
   "nbconvert_exporter": "python",
   "pygments_lexer": "ipython3",
   "version": "3.6.5"
  },
  "nbpresent": {
   "slides": {
    "1390653e-bdb6-444a-b611-39c60ffb77a1": {
     "id": "1390653e-bdb6-444a-b611-39c60ffb77a1",
     "prev": "5c2c8cc8-3676-4c06-b94c-d3f866ade69b",
     "regions": {
      "620813b3-9326-41e6-9d30-f5ac4f858225": {
       "attrs": {
        "height": 0.8,
        "width": 0.8,
        "x": 0.1,
        "y": 0.1
       },
       "content": {
        "cell": "86423d42-e808-47e6-b1a7-e925e195f821",
        "part": "whole"
       },
       "id": "620813b3-9326-41e6-9d30-f5ac4f858225"
      }
     }
    },
    "21036f68-a492-4532-a832-b213435c0ad2": {
     "id": "21036f68-a492-4532-a832-b213435c0ad2",
     "prev": "2c1c7f11-e5ee-4a25-8975-f0b033ba739a",
     "regions": {
      "a3908958-0784-4faa-ac97-b9325abe8ede": {
       "attrs": {
        "height": 0.8,
        "width": 0.8,
        "x": 0.1,
        "y": 0.1
       },
       "content": {
        "cell": "9aa64747-dc13-4bd9-bf26-73606628ad1c",
        "part": "whole"
       },
       "id": "a3908958-0784-4faa-ac97-b9325abe8ede"
      }
     }
    },
    "2c1c7f11-e5ee-4a25-8975-f0b033ba739a": {
     "id": "2c1c7f11-e5ee-4a25-8975-f0b033ba739a",
     "prev": "f3f10f50-4cad-4149-b308-c66e6a493a72",
     "regions": {
      "9e2d820e-ec17-4915-b960-0e0d5f640379": {
       "attrs": {
        "height": 0.8,
        "width": 0.8,
        "x": 0.1,
        "y": 0.1
       },
       "content": {
        "cell": "0281a659-abae-4cb9-b30f-b552b9db399e",
        "part": "whole"
       },
       "id": "9e2d820e-ec17-4915-b960-0e0d5f640379"
      }
     }
    },
    "30509a9a-dbd8-4dbd-9fab-852a7266d894": {
     "id": "30509a9a-dbd8-4dbd-9fab-852a7266d894",
     "prev": "8b078b7a-c2c6-4129-a19f-2a4f5c4a26f3",
     "regions": {
      "7baa4379-8f84-4d8f-b002-5a5ffd051489": {
       "attrs": {
        "height": 0.8,
        "width": 0.8,
        "x": 0.1,
        "y": 0.1
       },
       "content": {
        "cell": "14d1a927-b37f-4323-9404-17d453f3b487",
        "part": "whole"
       },
       "id": "7baa4379-8f84-4d8f-b002-5a5ffd051489"
      }
     }
    },
    "42d1bd80-265e-4acf-bbc1-b202afddade3": {
     "id": "42d1bd80-265e-4acf-bbc1-b202afddade3",
     "prev": "9bfe6214-4631-45b5-a05e-8923f178bb57",
     "regions": {
      "f2340145-4108-4fed-a0bc-4b91ca6c10ae": {
       "attrs": {
        "height": 0.8,
        "width": 0.8,
        "x": 0.1,
        "y": 0.1
       },
       "content": {
        "cell": "80be6133-d85a-4e43-9964-6578abcbaaac",
        "part": "whole"
       },
       "id": "f2340145-4108-4fed-a0bc-4b91ca6c10ae"
      }
     }
    },
    "5c2c8cc8-3676-4c06-b94c-d3f866ade69b": {
     "id": "5c2c8cc8-3676-4c06-b94c-d3f866ade69b",
     "prev": "6c4bc874-f3fc-472c-a81c-cd415b91c24b",
     "regions": {
      "e1de7ab6-4ef2-4b14-92d7-b174bf32806e": {
       "attrs": {
        "height": 0.8,
        "width": 0.8,
        "x": 0.1,
        "y": 0.1
       },
       "content": {
        "cell": "ae8725fa-30f7-4d7f-a2c2-5f86953d730b",
        "part": "whole"
       },
       "id": "e1de7ab6-4ef2-4b14-92d7-b174bf32806e"
      }
     }
    },
    "5cab5674-74dc-4378-93d7-eaa79e90cdae": {
     "id": "5cab5674-74dc-4378-93d7-eaa79e90cdae",
     "prev": "ba274d18-2760-4e55-ad47-2727b824fd00",
     "regions": {
      "2178d7cf-bf1e-4850-95a2-1509f15febfa": {
       "attrs": {
        "height": 0.8,
        "width": 0.8,
        "x": 0.1,
        "y": 0.1
       },
       "content": {
        "cell": "5d433d13-f44a-45bb-91fd-406f60b33b67",
        "part": "whole"
       },
       "id": "2178d7cf-bf1e-4850-95a2-1509f15febfa"
      }
     }
    },
    "638df7e1-84d1-4fd4-a15c-c94b731d1bea": {
     "id": "638df7e1-84d1-4fd4-a15c-c94b731d1bea",
     "prev": "b9dddf99-da24-46e1-81d4-8ac33b6fc3a3",
     "regions": {
      "deba8b1f-d997-4426-8f1b-978df7f19b41": {
       "attrs": {
        "height": 0.8,
        "width": 0.8,
        "x": 0.1,
        "y": 0.1
       },
       "content": {
        "cell": "7adaaf8f-a83e-456b-b99a-d3b3d4cb6d1a",
        "part": "whole"
       },
       "id": "deba8b1f-d997-4426-8f1b-978df7f19b41"
      }
     }
    },
    "6bda9eb4-0724-4e53-9971-131d0cb5f9e2": {
     "id": "6bda9eb4-0724-4e53-9971-131d0cb5f9e2",
     "prev": "ee33e624-cd65-4b8c-b28b-c95623a56dbf",
     "regions": {
      "feffbbd2-27d1-4318-8359-7d57583ee2bc": {
       "attrs": {
        "height": 0.8,
        "width": 0.8,
        "x": 0.1,
        "y": 0.1
       },
       "content": {
        "cell": "8dce188c-36b7-41fa-9020-b5cb5502e452",
        "part": "whole"
       },
       "id": "feffbbd2-27d1-4318-8359-7d57583ee2bc"
      }
     }
    },
    "6c4bc874-f3fc-472c-a81c-cd415b91c24b": {
     "id": "6c4bc874-f3fc-472c-a81c-cd415b91c24b",
     "prev": null,
     "regions": {
      "c9eac7e8-d033-4b03-8bf7-abd58ffe8d41": {
       "attrs": {
        "height": 0.8,
        "width": 0.8,
        "x": 0.1,
        "y": 0.1
       },
       "content": {
        "cell": "71219fc3-c9cb-4700-9f0b-ab38b1b223da",
        "part": "whole"
       },
       "id": "c9eac7e8-d033-4b03-8bf7-abd58ffe8d41"
      }
     }
    },
    "6d7ab34f-9d99-4c74-9877-27b25abc73f0": {
     "id": "6d7ab34f-9d99-4c74-9877-27b25abc73f0",
     "prev": "febe7de9-9362-4079-bfe9-2d4dfddf00e2",
     "regions": {
      "2ee252de-db5f-43e7-b4b7-7f59bba29962": {
       "attrs": {
        "height": 0.8,
        "width": 0.8,
        "x": 0.1,
        "y": 0.1
       },
       "content": {
        "cell": "85d1ab90-cc65-4935-808b-a6f57ecc892e",
        "part": "whole"
       },
       "id": "2ee252de-db5f-43e7-b4b7-7f59bba29962"
      }
     }
    },
    "7ea582c3-439d-4ec2-9f27-dea18bcacc31": {
     "id": "7ea582c3-439d-4ec2-9f27-dea18bcacc31",
     "prev": "f0727a74-61a1-48c1-94a5-3e7490c29f0b",
     "regions": {
      "652960af-b61f-4c36-b122-3eacd714867b": {
       "attrs": {
        "height": 0.8,
        "width": 0.8,
        "x": 0.1,
        "y": 0.1
       },
       "content": {
        "cell": "86172e20-fe16-447d-859f-24a81e563011",
        "part": "whole"
       },
       "id": "652960af-b61f-4c36-b122-3eacd714867b"
      }
     }
    },
    "8b078b7a-c2c6-4129-a19f-2a4f5c4a26f3": {
     "id": "8b078b7a-c2c6-4129-a19f-2a4f5c4a26f3",
     "prev": "5cab5674-74dc-4378-93d7-eaa79e90cdae",
     "regions": {
      "dce1e605-9342-414d-b8c6-7dcb922fbf47": {
       "attrs": {
        "height": 0.8,
        "width": 0.8,
        "x": 0.1,
        "y": 0.1
       },
       "content": {
        "cell": "ee1bdf03-6e13-4f1f-9dc9-22d4e344fdba",
        "part": "whole"
       },
       "id": "dce1e605-9342-414d-b8c6-7dcb922fbf47"
      }
     }
    },
    "999513ad-b53e-4d84-b9ef-ed37967f74d6": {
     "id": "999513ad-b53e-4d84-b9ef-ed37967f74d6",
     "prev": "638df7e1-84d1-4fd4-a15c-c94b731d1bea",
     "regions": {
      "2e85c1b2-3c30-413e-9b0f-141281da3a2a": {
       "attrs": {
        "height": 0.8,
        "width": 0.8,
        "x": 0.1,
        "y": 0.1
       },
       "content": {
        "cell": "998dc7f5-ab6d-4fb8-866f-4fa96a06aaaa",
        "part": "whole"
       },
       "id": "2e85c1b2-3c30-413e-9b0f-141281da3a2a"
      }
     }
    },
    "9add3d79-8621-4167-8e1d-d4ae48fba71b": {
     "id": "9add3d79-8621-4167-8e1d-d4ae48fba71b",
     "prev": "7ea582c3-439d-4ec2-9f27-dea18bcacc31",
     "regions": {
      "d5f4537e-4d8c-4179-b14b-6c475f50b04e": {
       "attrs": {
        "height": 0.8,
        "width": 0.8,
        "x": 0.1,
        "y": 0.1
       },
       "content": {
        "cell": "9659b1c1-9aed-4d71-b830-4a60d408ad71",
        "part": "whole"
       },
       "id": "d5f4537e-4d8c-4179-b14b-6c475f50b04e"
      }
     }
    },
    "9bfe6214-4631-45b5-a05e-8923f178bb57": {
     "id": "9bfe6214-4631-45b5-a05e-8923f178bb57",
     "prev": "30509a9a-dbd8-4dbd-9fab-852a7266d894",
     "regions": {
      "aac53254-d149-49f2-8f92-670c6f2714bb": {
       "attrs": {
        "height": 0.8,
        "width": 0.8,
        "x": 0.1,
        "y": 0.1
       },
       "content": {
        "cell": "c71a78d7-9d0e-4825-9c84-9998f971317d",
        "part": "whole"
       },
       "id": "aac53254-d149-49f2-8f92-670c6f2714bb"
      }
     }
    },
    "b9dddf99-da24-46e1-81d4-8ac33b6fc3a3": {
     "id": "b9dddf99-da24-46e1-81d4-8ac33b6fc3a3",
     "prev": "1390653e-bdb6-444a-b611-39c60ffb77a1",
     "regions": {
      "0b31dbb4-f15b-4a16-9420-c5dc8ed4e871": {
       "attrs": {
        "height": 0.8,
        "width": 0.8,
        "x": 0.1,
        "y": 0.1
       },
       "content": {
        "cell": "d0569bb0-fad8-48b7-8d48-0066bfb90401",
        "part": "whole"
       },
       "id": "0b31dbb4-f15b-4a16-9420-c5dc8ed4e871"
      }
     }
    },
    "ba274d18-2760-4e55-ad47-2727b824fd00": {
     "id": "ba274d18-2760-4e55-ad47-2727b824fd00",
     "prev": "ed47079d-58cf-4b87-a9fa-a709d8a7c3c6",
     "regions": {
      "13000b51-bd66-4fb5-970b-20bfad440880": {
       "attrs": {
        "height": 0.8,
        "width": 0.8,
        "x": 0.1,
        "y": 0.1
       },
       "content": {
        "cell": "f6847886-4044-43a7-9edd-f18efddcb7a9",
        "part": "whole"
       },
       "id": "13000b51-bd66-4fb5-970b-20bfad440880"
      }
     }
    },
    "ed47079d-58cf-4b87-a9fa-a709d8a7c3c6": {
     "id": "ed47079d-58cf-4b87-a9fa-a709d8a7c3c6",
     "prev": "9add3d79-8621-4167-8e1d-d4ae48fba71b",
     "regions": {
      "a96aea94-1714-4020-83f9-dbc03e9fd55e": {
       "attrs": {
        "height": 0.8,
        "width": 0.8,
        "x": 0.1,
        "y": 0.1
       },
       "content": {
        "cell": "5a579720-fa62-4525-85e3-dd049cbd73be",
        "part": "whole"
       },
       "id": "a96aea94-1714-4020-83f9-dbc03e9fd55e"
      }
     }
    },
    "ee33e624-cd65-4b8c-b28b-c95623a56dbf": {
     "id": "ee33e624-cd65-4b8c-b28b-c95623a56dbf",
     "prev": "999513ad-b53e-4d84-b9ef-ed37967f74d6",
     "regions": {
      "325ae98d-0855-4d16-8408-6d12f47efa24": {
       "attrs": {
        "height": 0.8,
        "width": 0.8,
        "x": 0.1,
        "y": 0.1
       },
       "content": {
        "cell": "829150e0-712b-4739-92d6-37b9c3d789cb",
        "part": "whole"
       },
       "id": "325ae98d-0855-4d16-8408-6d12f47efa24"
      }
     }
    },
    "f0727a74-61a1-48c1-94a5-3e7490c29f0b": {
     "id": "f0727a74-61a1-48c1-94a5-3e7490c29f0b",
     "prev": "6d7ab34f-9d99-4c74-9877-27b25abc73f0",
     "regions": {
      "1666081e-448d-4f80-90f2-9f26f1568cdc": {
       "attrs": {
        "height": 0.8,
        "width": 0.8,
        "x": 0.1,
        "y": 0.1
       },
       "content": {
        "cell": "d99a804c-9444-418b-bc94-3c2f064e2844",
        "part": "whole"
       },
       "id": "1666081e-448d-4f80-90f2-9f26f1568cdc"
      }
     }
    },
    "f3f10f50-4cad-4149-b308-c66e6a493a72": {
     "id": "f3f10f50-4cad-4149-b308-c66e6a493a72",
     "prev": "42d1bd80-265e-4acf-bbc1-b202afddade3",
     "regions": {
      "4fc1185f-bdb8-46fc-99bd-b8d30defeca9": {
       "attrs": {
        "height": 0.8,
        "width": 0.8,
        "x": 0.1,
        "y": 0.1
       },
       "content": {
        "cell": "9b7597e9-aaa9-4d9f-ba0d-22f43d1a3900",
        "part": "whole"
       },
       "id": "4fc1185f-bdb8-46fc-99bd-b8d30defeca9"
      }
     }
    },
    "febe7de9-9362-4079-bfe9-2d4dfddf00e2": {
     "id": "febe7de9-9362-4079-bfe9-2d4dfddf00e2",
     "prev": "6bda9eb4-0724-4e53-9971-131d0cb5f9e2",
     "regions": {
      "42348103-1cd6-4bac-b346-33cd41aea444": {
       "attrs": {
        "height": 0.8,
        "width": 0.8,
        "x": 0.1,
        "y": 0.1
       },
       "content": {
        "cell": "35a148d4-f201-4441-bf5e-8a07f93dea84",
        "part": "whole"
       },
       "id": "42348103-1cd6-4bac-b346-33cd41aea444"
      }
     }
    }
   },
   "themes": {}
  }
 },
 "nbformat": 4,
 "nbformat_minor": 1
}
